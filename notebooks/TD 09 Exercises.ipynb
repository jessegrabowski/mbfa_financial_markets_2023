{
 "cells": [
  {
   "cell_type": "markdown",
   "id": "9b618494",
   "metadata": {
    "toc": true
   },
   "source": [
    "<h1>Table of Contents<span class=\"tocSkip\"></span></h1>\n",
    "<div class=\"toc\"><ul class=\"toc-item\"><li><span><a href=\"#Exercise-9-10.1\" data-toc-modified-id=\"Exercise-9-10.1-1\"><span class=\"toc-item-num\">1&nbsp;&nbsp;</span>Exercise 9-10.1</a></span><ul class=\"toc-item\"><li><span><a href=\"#Question-1\" data-toc-modified-id=\"Question-1-1.1\"><span class=\"toc-item-num\">1.1&nbsp;&nbsp;</span>Question 1</a></span></li><li><span><a href=\"#Question-2\" data-toc-modified-id=\"Question-2-1.2\"><span class=\"toc-item-num\">1.2&nbsp;&nbsp;</span>Question 2</a></span></li></ul></li><li><span><a href=\"#Exercise-9-10.2\" data-toc-modified-id=\"Exercise-9-10.2-2\"><span class=\"toc-item-num\">2&nbsp;&nbsp;</span>Exercise 9-10.2</a></span><ul class=\"toc-item\"><li><span><a href=\"#Question-1\" data-toc-modified-id=\"Question-1-2.1\"><span class=\"toc-item-num\">2.1&nbsp;&nbsp;</span>Question 1</a></span></li><li><span><a href=\"#Question-2\" data-toc-modified-id=\"Question-2-2.2\"><span class=\"toc-item-num\">2.2&nbsp;&nbsp;</span>Question 2</a></span></li><li><span><a href=\"#Question-3\" data-toc-modified-id=\"Question-3-2.3\"><span class=\"toc-item-num\">2.3&nbsp;&nbsp;</span>Question 3</a></span></li><li><span><a href=\"#Question-4\" data-toc-modified-id=\"Question-4-2.4\"><span class=\"toc-item-num\">2.4&nbsp;&nbsp;</span>Question 4</a></span></li></ul></li><li><span><a href=\"#Exercise-9-10.3\" data-toc-modified-id=\"Exercise-9-10.3-3\"><span class=\"toc-item-num\">3&nbsp;&nbsp;</span>Exercise 9-10.3</a></span><ul class=\"toc-item\"><li><span><a href=\"#Question-1\" data-toc-modified-id=\"Question-1-3.1\"><span class=\"toc-item-num\">3.1&nbsp;&nbsp;</span>Question 1</a></span></li><li><span><a href=\"#Question-2\" data-toc-modified-id=\"Question-2-3.2\"><span class=\"toc-item-num\">3.2&nbsp;&nbsp;</span>Question 2</a></span></li><li><span><a href=\"#Question-3:-Interpret-the-results-obtained-above\" data-toc-modified-id=\"Question-3:-Interpret-the-results-obtained-above-3.3\"><span class=\"toc-item-num\">3.3&nbsp;&nbsp;</span>Question 3: Interpret the results obtained above</a></span></li><li><span><a href=\"#Question-4:\" data-toc-modified-id=\"Question-4:-3.4\"><span class=\"toc-item-num\">3.4&nbsp;&nbsp;</span>Question 4:</a></span></li><li><span><a href=\"#Question-5:\" data-toc-modified-id=\"Question-5:-3.5\"><span class=\"toc-item-num\">3.5&nbsp;&nbsp;</span>Question 5:</a></span></li></ul></li><li><span><a href=\"#Exercise-9-10.3\" data-toc-modified-id=\"Exercise-9-10.3-4\"><span class=\"toc-item-num\">4&nbsp;&nbsp;</span>Exercise 9-10.3</a></span><ul class=\"toc-item\"><li><span><a href=\"#Question-1\" data-toc-modified-id=\"Question-1-4.1\"><span class=\"toc-item-num\">4.1&nbsp;&nbsp;</span>Question 1</a></span></li><li><span><a href=\"#Question-2\" data-toc-modified-id=\"Question-2-4.2\"><span class=\"toc-item-num\">4.2&nbsp;&nbsp;</span>Question 2</a></span></li><li><span><a href=\"#Question-3\" data-toc-modified-id=\"Question-3-4.3\"><span class=\"toc-item-num\">4.3&nbsp;&nbsp;</span>Question 3</a></span></li><li><span><a href=\"#Question-4\" data-toc-modified-id=\"Question-4-4.4\"><span class=\"toc-item-num\">4.4&nbsp;&nbsp;</span>Question 4</a></span></li></ul></li></ul></div>"
   ]
  },
  {
   "cell_type": "code",
   "execution_count": 1,
   "id": "693822fe",
   "metadata": {},
   "outputs": [],
   "source": [
    "import numpy as np\n",
    "import sympy as sp\n",
    "import pandas as pd\n",
    "import matplotlib.pyplot as plt\n",
    "from scipy import stats, optimize\n",
    "import seaborn as sns\n",
    "\n",
    "config = {\n",
    "    'figure.facecolor':'w',\n",
    "    'axes.grid':True,\n",
    "    'axes.spines.top':False,\n",
    "    'axes.spines.bottom':False,\n",
    "    'axes.spines.left':False,\n",
    "    'axes.spines.right':False,\n",
    "    'grid.linewidth':0.5,\n",
    "    'grid.linestyle':'--',\n",
    "    'figure.constrained_layout.use':True\n",
    "}\n",
    "\n",
    "plt.rcParams.update(config)"
   ]
  },
  {
   "cell_type": "markdown",
   "id": "20c7a64d",
   "metadata": {},
   "source": [
    "# Exercise 9-10.1\n",
    "\n",
    "In 1985, the yield associated to US short term Treasury Notes was about 6%. Assuming that he market expected return is 30% for a portfolio with a beta of 2."
   ]
  },
  {
   "cell_type": "markdown",
   "id": "dec63cc7",
   "metadata": {},
   "source": [
    "## Question 1\n",
    "\n",
    "According to the CAPM what is the expected return for the market portfolio?\n",
    "\n",
    "The CAPM says:\n",
    "\n",
    "$$\\mathbb E[r_i] = r_f + \\beta \\mathbb E[r_m - r_f]$$\n",
    "\n",
    "We're told that \"a portfolo\" has an expected return of 30%, and it has a $\\beta$ of 2. We're asked to do some algebra and solve for $\\mathbb E[r_m]$:"
   ]
  },
  {
   "cell_type": "code",
   "execution_count": 1,
   "id": "bb3ab35b",
   "metadata": {},
   "outputs": [
    {
     "name": "stdout",
     "output_type": "stream",
     "text": [
      "CAPM estimated market return: 18.00%\n"
     ]
    }
   ],
   "source": [
    "r_f = 0.06\n",
    "r_i = 0.3\n",
    "β = 2\n",
    "print(f'CAPM estimated market return: {(r_i - r_f) / β + r_f :0.2%}')"
   ]
  },
  {
   "cell_type": "markdown",
   "id": "43be6856",
   "metadata": {},
   "source": [
    "## Question 2\n",
    "\n",
    "The stock Astrotech has been sold 40\\\\$. An analyst forecast a dividend of 3\\\\$ in 1988 and an ask price of 41\\\\$. If the forecast of the analyst are true and β = −0.4, was the stock over or under priced?\n",
    "\n",
    "First, compute the expected price under the CAPM:"
   ]
  },
  {
   "cell_type": "code",
   "execution_count": 8,
   "id": "9727e41d",
   "metadata": {},
   "outputs": [
    {
     "data": {
      "text/plain": [
       "0.011999999999999997"
      ]
     },
     "execution_count": 8,
     "metadata": {},
     "output_type": "execute_result"
    }
   ],
   "source": [
    "r_i = r_f + -0.4 * 0.12\n",
    "r_i"
   ]
  },
  {
   "cell_type": "markdown",
   "id": "2cb7b199",
   "metadata": {},
   "source": [
    "This will be the expected increase in the stock price to next year. To tie this into the price, we can think about the return as the percent change in the stock price, including the dividend. That is:\n",
    "\n",
    "$$r_i = \\frac{P_1 + D_1}{P_0} - 1$$\n",
    "\n",
    "Note that this is just percent change from $t=0$ to $t=1$, adjusting for the dividend payout. We need to solve for $P_0$:\n",
    "\n",
    "$$P_0 = \\frac{P_1 + D_1}{1 + r_i}$$"
   ]
  },
  {
   "cell_type": "code",
   "execution_count": 15,
   "id": "1cda780f",
   "metadata": {},
   "outputs": [
    {
     "name": "stdout",
     "output_type": "stream",
     "text": [
      "Implied price at P0: 43.48$\n"
     ]
    }
   ],
   "source": [
    "print(f'Implied price at P0: {(41 + 3) / (1 + r_i):0.2f}$')"
   ]
  },
  {
   "cell_type": "markdown",
   "id": "20c196e4",
   "metadata": {},
   "source": [
    "Since the implied price of 43.48 is greater than the actual asking price of 41, we conclude that the stock was under-priced."
   ]
  },
  {
   "cell_type": "markdown",
   "id": "eb60a2f9",
   "metadata": {},
   "source": [
    "# Exercise 9-10.2\n",
    "\n",
    "The risk-free asset return is 2.5%. You can invest in a private equity firm whose return and\n",
    "associated probability are presented in the following table:\n",
    "\n",
    "|              |   1  |   2  |\n",
    "|--------------|------|------|\n",
    "| Return       | +25% | -50% |\n",
    "| Probability  | 70%  | 30%  |"
   ]
  },
  {
   "cell_type": "markdown",
   "id": "e9bb9723",
   "metadata": {},
   "source": [
    "## Question 1\n",
    "\n",
    "Compute the variance and the expected return of the investment"
   ]
  },
  {
   "cell_type": "code",
   "execution_count": 21,
   "id": "9f653f21",
   "metadata": {},
   "outputs": [
    {
     "name": "stdout",
     "output_type": "stream",
     "text": [
      "Expected return: 0.025\n",
      "Variance: 0.118\n",
      "Volatility: 0.344\n"
     ]
    }
   ],
   "source": [
    "r_f = 0.025\n",
    "p = np.array([0.7, 0.3])\n",
    "r = np.array([0.25, -0.5])\n",
    "μ = (r * p).sum()\n",
    "σ2 = (r ** 2 * p).sum() - μ ** 2\n",
    "print(f'Expected return: {μ:0.3f}')\n",
    "print(f'Variance: {σ2:0.3f}')\n",
    "print(f'Volatility: {np.sqrt(σ2):0.3f}')"
   ]
  },
  {
   "cell_type": "markdown",
   "id": "16f0d5da",
   "metadata": {},
   "source": [
    "## Question 2\n",
    "\n",
    "Assuming that your behaviour can be modelled by a mean-variance utility function, and that you do not have any extra information about this investment, which part of you wealth could you invest in?\n",
    "\n",
    "We're goning to make a portfolio between this asset and the risk-free asset. Call the weight on the risky asset $w$, then we will have:\n",
    "\n",
    "$$\\begin{align}\\mu_p &= w\\mu + (1 - w) r_f \\\\\n",
    "    \\sigma_p^2 &= w^2 \\sigma^2 \\end{align}$$\n",
    "    \n",
    "So utility is:\n",
    "\n",
    "$$\\begin{align}U &= \\mu_p - \\frac{A}{2}\\sigma_p^2 \\\\\n",
    "                 &= w\\mu_p + (1 - w)r_f - \\frac{A}{2}w^2 \\sigma^2 \\end{align}$$\n",
    "                 \n",
    "Take derivative and solve:\n",
    "\n",
    "$$w = \\frac{\\mu - r_f}{A\\sigma^2_p}$$\n",
    "\n",
    "We don't know our $A$, but it doesn't matter! Notice that $r_f = 2.5\\%$, and we computed $\\mu_p = 2.5\\%$. So no matter what the risk tolerance, we choose $w=0$ -- we don't want this portfolio at all!"
   ]
  },
  {
   "cell_type": "markdown",
   "id": "df3731c6",
   "metadata": {},
   "source": [
    "## Question 3\n",
    "\n",
    "Now we are told that:\n",
    "\n",
    "- Expected Market Return $E[R_m]$ = 6.5%\n",
    "- Market Variance $V[R_m]$ = 0.0289\n",
    "- Covariance between the market and the asset $\\sigma_{iM}$ = -0.00289\n",
    "\n",
    "From this information, we can compute $\\beta = \\frac{\\sigma_{i,M}}{\\sigma^2_M}$:"
   ]
  },
  {
   "cell_type": "code",
   "execution_count": 23,
   "id": "ba021d17",
   "metadata": {},
   "outputs": [
    {
     "name": "stdout",
     "output_type": "stream",
     "text": [
      "CAPM beta for this asset: -0.100\n"
     ]
    }
   ],
   "source": [
    "σ_im = -0.00289\n",
    "σ2_m = 0.0289\n",
    "μ_m = 0.065\n",
    "\n",
    "β = σ_im / σ2_m\n",
    "print(f'CAPM beta for this asset: {β:0.3f}')"
   ]
  },
  {
   "cell_type": "markdown",
   "id": "1b5f46f9",
   "metadata": {},
   "source": [
    "And we can compute the expected returns of this asset, given this beta with the market:\n",
    "$$\\mathbb E [r_i] = r_f + \\beta (\\mathbb E[r_m] - r_f)$$"
   ]
  },
  {
   "cell_type": "code",
   "execution_count": 26,
   "id": "6b2cc649",
   "metadata": {},
   "outputs": [
    {
     "data": {
      "text/plain": [
       "0.021"
      ]
     },
     "execution_count": 26,
     "metadata": {},
     "output_type": "execute_result"
    }
   ],
   "source": [
    "Er_i = r_f + β * (μ_m - r_f)\n",
    "Er_i"
   ]
  },
  {
   "cell_type": "markdown",
   "id": "e4fed390",
   "metadata": {},
   "source": [
    "Under the CAPM, we compute that the expected return is 2.1%. Notice that this is lower than the observed return of 2.5%. This suggests that the asset is underpriced, so it is rational to buy it. This is despite the fact that, in any case, the return is lower than the risk-free rate. "
   ]
  },
  {
   "cell_type": "markdown",
   "id": "99ea8ee5",
   "metadata": {},
   "source": [
    "## Question 4\n",
    "\n",
    "Determine the threshold $\\sigma_{i,M}$ from which you will stop investing in this private equity firm.\n",
    "\n",
    "We will stop if $\\mathbb E[r_i] = r_i = 0.025$, so we just solve for $\\sigma_{i,M}$ such that:\n",
    "\n",
    "$$0.025 = r_f + \\frac{\\sigma_{i,M}}{\\sigma^2_M}(\\mu_m - r_f)$$"
   ]
  },
  {
   "cell_type": "code",
   "execution_count": 30,
   "id": "078ff7ec",
   "metadata": {},
   "outputs": [
    {
     "name": "stdout",
     "output_type": "stream",
     "text": [
      "σ_im at which we stop investing: 0.000\n"
     ]
    }
   ],
   "source": [
    "σ_im_stop = (0.025 - r_f) * σ2_m / (μ_m - r_f)\n",
    "print(f'σ_im at which we stop investing: {σ_im_stop:0.3f}')"
   ]
  },
  {
   "cell_type": "markdown",
   "id": "6ad2f2f6",
   "metadata": {},
   "source": [
    "How should be interpret this? Remember that this is the **covariance**, not the variance, so we shouldn't be shocked that it's zero. Remember that the beta with the market was negative. Basically, we like this asset because it provides a downside hedge against market declines -- when the market goes down, this asset goes up. If it stops serving that function -- if the beta becomes positive -- we stop being interested in this asset."
   ]
  },
  {
   "cell_type": "markdown",
   "id": "a2acc617",
   "metadata": {},
   "source": [
    "# Exercise 9-10.3\n",
    "\n",
    "The asset price at date 0 is denoted $P_0$. The asset bid price at date 1 is a random variable denoted $P_1$. Assuming the CAPM framework is valid and that the beta of the asset is denoted $\\beta$."
   ]
  },
  {
   "cell_type": "markdown",
   "id": "209c5fae",
   "metadata": {},
   "source": [
    "## Question 1\n",
    "\n",
    "Prove that $P_0 = \\frac{E(\\tilde{P}_1)}{(1 + r_f + (\\mu_M - r_f)\\beta)}$\n",
    "\n",
    "First, we note that $\\mathbb E[P_1] = (1 + \\mathbb E[r_1])P_0$. Solving for $P_0$, we get:\n",
    "\n",
    "$$P_0 = \\frac{\\mathbb E[P_1]}{(1 + \\mathbb E[r_1])}$$\n",
    "\n",
    "Great, we're already most of the way there. Now we just need to know what is $\\mathbb E[r_1]$. We're told that the CAPM framework is valid, and that tells us that:\n",
    "\n",
    "$$\\mathbb E[r_1] = r_f + \\beta (\\mathbb E[r_m] - r_f)$$\n",
    "\n",
    "Define $\\mu_m = \\mathbb E[r_m]$, then just plug this expression into our fraction:\n",
    "\n",
    "$$P_0 = \\frac{\\mathbb E[P_1]}{(1 + r_f + \\beta (\\mu_m - r_f))}$$\n",
    "\n",
    "The expression is verified."
   ]
  },
  {
   "cell_type": "markdown",
   "id": "656fac24",
   "metadata": {},
   "source": [
    "## Question 2\n",
    "\n",
    "Show that we can re-write the above expression to:\n",
    "\n",
    "$$P_0 = \\frac{\\mathbb E[P_1] - a \\rho \\sigma}{1 + r_f}$$\n",
    "\n",
    "**Important note**: There is a typo in the English version of the question! The english version says that $\\rho$ is the correlation between the returns of the asset and the market. But the French version says it is the correlation between the **PRICE** of the asset and the returns of the market. This is a very important distinction, as we will see.\n",
    "\n",
    "Where $\\rho$ is the correlation between the **PRICE OF THE ASSET** and the market **RETURN**, $\\sigma$ is the voltility of the asset, and $a$ is an unknown parameter.\n",
    "\n",
    "Let's start from the CAPM expression:\n",
    "\n",
    "$$\\mathbb E[r_1] = r_f + \\beta (\\mathbb E[r_m] - r_f)$$\n",
    "\n",
    "We know that we can write $\\beta = \\frac{\\sigma_{i,m}}{\\sigma^2_m}$, because we can think about the CAPM as a linear regression.\n",
    "\n",
    "Plug this into the percent change equation:\n",
    "\n",
    "$$P_0 = \\frac{\\mathbb E[P_1]}{1 + r_f + \\frac{\\sigma_{i,m}}{\\sigma^2_m} (\\mu_m - r_f)}$$\n",
    "\n",
    "Define $S_m = \\frac{\\mu_m - r_f}{\\sigma_m}$ as the Sharpe ratio of the market. This gives:\n",
    "\n",
    "$$P_0 = \\frac{\\mathbb E[P_1]}{1 + r_f + S_m \\frac{\\sigma_{i,m}}{\\sigma_m}}$$\n",
    "\n",
    "Now shuffle some stuff around:\n",
    "\n",
    "$$\\begin{align}\n",
    "P_0 \\left (1 + r_f + S_m \\frac{\\sigma_{i,m}}{\\sigma_m} \\right ) &= \\mathbb E[P_1] \\\\\n",
    "(1 + r_f) P_0 + P_0 S_m \\frac{\\sigma_{i,m}}{\\sigma_m} &= \\mathbb E[P_1] \\\\\n",
    "\\end{align}$$\n",
    "\n",
    "We really want to get rid of the $P_0$ in the 2nd summand on the left-hand side. If we could, we would be done. The final twist in the derivation will be to look inside $sigma_{i,m}$ for some help. We know that:\n",
    "\n",
    "$$\\begin{align}\n",
    "\\sigma_{i, m} &= \\text{Cov}(r_i, r_m) \\\\ \n",
    "&= \\text{Cov}\\left (\\frac{P_1}{P_0} - 1, r_m \\right )\n",
    "&= \\text{Cov}\\left (\\frac{P_1}{P_0} - \\frac{P_0}{P_0}, r_m \\right )\n",
    "\\end{align}$$\n",
    "\n",
    "These re-writes just use the definition of returns, plus a \"clever\" re-writing of the number 1. Next, standing here at time $t=0$, $P_0$ is non-random, so we can factor it out:\n",
    "\n",
    "$$\\sigma_{i, m} = \\frac{1}{P_0} \\text{Cov}\\left (P_1 - P_0, r_m \\right )$$\n",
    "\n",
    "$\\text{Cov}(P_1 - P_0, r_m)$ is actually equal to $\\text{Cov}(P_1, r_m)$. You can convince yourself of this using the following argument:\n",
    "\n",
    "1. Subtracting a deterministic number from a distribution shifts all values of that distribution equally\n",
    "2. Therefore, the relative distances between the points does not change\n",
    "3. Variance (and therefore covaraince) measures relative distance\n",
    "4. Therefore, a shift does not change the variance.\n",
    "\n",
    "Or, you can grind out the following algebra:\n",
    "\n",
    "$$\\begin{align}\n",
    "\\text{Cov}(P_1 - P_0, r_m) &= \\mathbb E[((P_1 - P_0) - \\mathbb E[(P_1 - P_0)])(r_m - \\mathbb E[r_m])] \\\\\n",
    " &= \\mathbb E[(P_1 - \\mathbb E[P_1] - P_0 - \\mathbb E[P_0])(r_m - \\mathbb E[r_m])] \\\\\n",
    " &= \\mathbb E[(P_1 - \\mathbb E[P_1])(r_m - \\mathbb E[r_m])] \\\\\n",
    " &= \\text{Cov}(P_1, r_m)\n",
    "\\end{align}$$\n",
    "\n",
    "Ok so we have:\n",
    "\n",
    "$$\\sigma_{i, m} = \\frac{1}{P_0}  \\text{Cov}(P_1, r_m)$$\n",
    "\n",
    "Plug this into the equation we were working on:\n",
    "\n",
    "$$\\begin{align}\n",
    "(1 + r_f) P_0 + P_0 S_m \\frac{1}{P_0} \\frac{\\text{Cov}(P_1, r_m)}{\\sigma_m} &= \\mathbb E[P_1] \\\\\n",
    "(1 + r_f) P_0 + S_m \\frac{\\text{Cov}(P_1, r_m)}{\\sigma_m} &= \\mathbb E[P_1] \\\\\n",
    "\\end{align}\n",
    "$$\n",
    "\n",
    "This is starting to look like what we want. Isolate $P_0$:\n",
    "\n",
    "$$P_0 = \\frac{\\mathbb E[P_1] - S_m \\frac{\\text{Cov}(P_1, r_m)}{\\sigma_m}}{1 + r_f}$$\n",
    "\n",
    "We want the numerator on the right-hand side to look like $\\mathbb E[P_1] - a \\rho \\sigma$. Define $a = S_m$, so we have that. Let's make a $\\sigma_i$ appear by multiplying by $\\frac{\\sigma_i}{\\sigma_i}$:\n",
    "\n",
    "$$P_0 = \\frac{\\mathbb E[P_1] - a \\frac{\\text{Cov}(P_1, r_m)\\sigma_i}{\\sigma_m \\sigma_i}}{1 + r_f}$$\n",
    "\n",
    "Why do this sigma thing? Well, because now we have $\\sigma_i \\frac{\\text{Cov}(P_1, r_m)}{\\sigma_m \\sigma_i}$, which **ALMOST** looks like the correlation coefficient between $P_1$ and $r_m$ -- $\\text{Corr}(P_1, r_m) = \\frac{\\text{Cov}(P_1, r_m)}{\\sigma_m \\sigma_{P_i}}$. But... the question ignores this point, and just defines:\n",
    "\n",
    "$$\\rho_{i,m} = \\frac{\\text{Cov}(P_1, r_m)}{\\sigma_m \\sigma_i}$$\n",
    "\n",
    "Doing this move, we get:\n",
    "\n",
    "$$P_0 = \\frac{\\mathbb E[P_1] - a \\rho_{i,m} \\sigma_i}{1 + r_f}$$\n",
    "\n",
    "With $a = S_m$ and $\\rho_{i,m}$ defined as above. This verifies the expression."
   ]
  },
  {
   "cell_type": "markdown",
   "id": "ce1623df",
   "metadata": {},
   "source": [
    "## Question 3: Interpret the results obtained above\n",
    "\n",
    "We have derived that the current price of an asset is equal to the expected present-discounted future value of that asset, $\\frac{\\mathbb E[P_1]}{1 + r_f}$, adjusted by a factor $- \\frac{a \\rho_{i,m}\\sigma_i}{1 + r_f}$.\n",
    "\n",
    "The adjustment factor is built from 1) the correlation between the price and the market return, 2) the variance of the returns on the asset, and 3) the Sharpe ratio of the asset. The factor is related to the **risk** of the asset, scaled by the correlation with the market. This is the risk-premium, so the quantity $\\mathbb E[P_1] - a \\rho_{i,m} \\sigma_i$ can be thought of as the \"risk-neutral expected price\" of the asset. \n",
    "\n",
    "Also note that the risk premium is *subtracted*, even though it includes the correlation between the price and the market return. This suggets that we assume $\\rho_{i,m} > 0$. It also means that assets with **negative** beta demand a higher price, because we add their risk premium to the price rather than subtract it."
   ]
  },
  {
   "cell_type": "markdown",
   "id": "e3fe3a50",
   "metadata": {},
   "source": [
    "## Question 4:\n",
    "\n",
    "Now assume that the asset under consideration pays a dividend $\\tilde X$ in all future periods. Re-do question 1 taking into account this new setup.\n",
    "\n",
    "For assets with dividends, we have to add the dividend payment from the price before computing returns. That is:\n",
    "\n",
    "$$r_t = \\frac{P_t + \\tilde X}{P_{t-1}} - 1$$\n",
    "\n",
    "Evaluate this at $t=1$, conditioned on the $t=0$ information set:\n",
    "\n",
    "$$\\mathbb E[r_1] = \\frac{\\mathbb E[P_1] + \\tilde X}{P_0} - 1$$\n",
    "\n",
    "We re-arrange to solve for $P_0$:\n",
    "$$\n",
    "\\begin{align}\n",
    "1 + \\mathbb E[r_1] &= \\frac{\\mathbb E[P_1] + \\tilde X}{P_0} \\\\\n",
    "P_0 &= \\frac{\\mathbb E[P_1] + \\tilde X}{1 + \\mathbb E[r_1]}\n",
    "\\end{align}\n",
    "$$\n",
    "\n",
    "From here, the steps are basically the same. Invoke the CAPM:\n",
    "\n",
    "$$P_0 = \\frac{\\mathbb E[P_1] + \\tilde X}{1 + r_f + \\beta (\\mu_m - r_f))}$$\n",
    "\n",
    "We find that the expression is identical, but just adjusts for the dividend payment in the numerator."
   ]
  },
  {
   "cell_type": "markdown",
   "id": "ce88e974",
   "metadata": {},
   "source": [
    "## Question 5: \n",
    "\n",
    "Express the initial price of the asset in terms of expected future cash flows.\n",
    "\n",
    "For this question, we do all the steps we just did, but don't substiute the CAPM. When you read \"cash flows\", you should think \"infinite sum\". Since we want the initial price, start from here:\n",
    "\n",
    "$$P_0 = \\frac{\\mathbb E[P_1] + \\tilde X}{1 + \\mathbb E[r_1]}$$\n",
    "\n",
    "This is true in all time periods, so we can also write:\n",
    "\n",
    "$$\\mathbb E[P_1] = \\frac{\\mathbb E[P_2] + \\tilde X}{1 + \\mathbb E[r_2]}$$\n",
    "\n",
    "I want to plug this into the first equation, but first I want to split the addition in the numerator to make the substitution a bit easier to work with:\n",
    "\n",
    "$$\\begin{align}\n",
    "P_0 &= \\frac{\\mathbb E[P_1]}{1 + \\mathbb E[r_1]} + \\frac{\\tilde X}{1 + \\mathbb E[r_1]} \\\\\n",
    "P_0 &= \\frac{1}{1 + \\mathbb E[r_1]} \\mathbb E[P_1] + \\frac{\\tilde X}{1 + \\mathbb E[r_1]} \\\\\n",
    "P_0 &= \\frac{1}{1 + \\mathbb E[r_1]} \\left ( \\frac{\\mathbb E[P_2] + \\tilde X}{1 + \\mathbb E[r_2]} \\right ) + \\frac{\\tilde X}{1 + \\mathbb E[r_1]} \\\\\n",
    "\\end{align}$$\n",
    "\n",
    "Do some clean-up...\n",
    "$$\\begin{align}\n",
    "P_0 &= \\frac{\\mathbb E[P_2]}{(1 + \\mathbb E[r_1])(1 + \\mathbb E[r_2])} + \\frac{\\tilde X}{1 + \\mathbb E[r_1]} + \\frac{\\tilde X}{(1 + \\mathbb E[r_1])(1 + \\mathbb E[r_2])} \\\\\n",
    "\\end{align}$$\n",
    "\n",
    "Maybe you see the pattern? Let's do one more. We can also write an expression for $\\mathbb E[P_2]$ by shifting the time indices around:\n",
    "\n",
    "$$\\mathbb E[P_2] = \\frac{\\mathbb E[P_3] + \\tilde X}{1 + \\mathbb E[r_3]}$$\n",
    "\n",
    "Substitute this in:\n",
    "$$\\begin{align}\n",
    "P_0 &= \\frac{\\mathbb E[P_2]}{(1 + \\mathbb E[r_1])(1 + \\mathbb E[r_2])} + \\frac{\\tilde X}{1 + \\mathbb E[r_1]} + \\frac{\\tilde X}{(1 + \\mathbb E[r_1])(1 + \\mathbb E[r_2])} \\\\\n",
    "P_0 &= \\frac{1}{(1 + \\mathbb E[r_1])(1 + \\mathbb E[r_2])}\\mathbb E[P_2] + \\frac{\\tilde X}{1 + \\mathbb E[r_1]} + \\frac{\\tilde X}{(1 + \\mathbb E[r_1])(1 + \\mathbb E[r_2])} \\\\\n",
    "P_0 &= \\frac{1}{(1 + \\mathbb E[r_1])(1 + \\mathbb E[r_2])} \\left ( \\frac{\\mathbb E[P_3] + \\tilde X}{1 + \\mathbb E[r_3]} \\right ) + \\frac{\\tilde X}{1 + \\mathbb E[r_1]} + \\frac{\\tilde X}{(1 + \\mathbb E[r_1])(1 + \\mathbb E[r_2])} \\\\\n",
    "P_0 &= \\frac{\\mathbb E[P_3]}{(1 + \\mathbb E[r_1])(1 + \\mathbb E[r_2])(1 + \\mathbb E[r_3])} + \\frac{\\tilde X}{1 + \\mathbb E[r_1]} + \\frac{\\tilde X}{(1 + \\mathbb E[r_1])(1 + \\mathbb E[r_2])} + \\frac{\\tilde X}{(1 + \\mathbb E[r_1])(1 + \\mathbb E[r_2])(1 + \\mathbb E[r_3])}\n",
    "\\end{align}$$\n",
    "\n",
    "So we're going to do this for $T$ periods, and we'll end up with:\n",
    "\n",
    "$$ P_0 = \\frac{\\mathbb E[P_T]}{\\prod_{t=1}^T (1 + \\mathbb E[r_t])} + \\sum_{t=1}^T \\frac{X}{\\prod_{s=0}^t(1 + \\mathbb E[r_{t+s}])}$$\n",
    "\n",
    "Assume that expected returns are constant -- that is, the distribution of returns doesn't change over time. Call this return $\\mu$, we will have:\n",
    "\n",
    "$$ P_0 = \\frac{\\mathbb E[P_T]}{(1 + \\mu)^T} + \\sum_{t=1}^T \\frac{X}{(1 + \\mu)^t}$$\n",
    "\n",
    "Let's also assume that the expected return is positive. In this case, if we take the limit as $T \\to \\infty$, the first term will vanish bceause $(1 + \\mu) > 1$, and $\\lim_{t \\to \\infty} \\frac{1}{x^t} = 0$ if $x > 1$. The second term will be a convergent geometric series with solution $\\frac{\\tilde X}{\\mu} + \\tilde X$. So in the limit, we find:\n",
    "\n",
    "$$P_0 = \\left ( \\frac{1 + \\mu}{\\mu}\\right ) \\tilde X$$\n"
   ]
  },
  {
   "cell_type": "markdown",
   "id": "49c8cca0",
   "metadata": {},
   "source": [
    "# Exercise 9-10.3"
   ]
  },
  {
   "cell_type": "markdown",
   "id": "3f408aed",
   "metadata": {},
   "source": [
    "## Question 1\n",
    "\n",
    "We turn the CAPM into a regression problem by adding an ideosyncratic error term:\n",
    "\n",
    "$$\\tilde r_i = \\alpha_i + \\beta_i \\tilde r_M + \\varepsilon_t$$\n",
    "\n",
    "How does this equation decompose the variance of $r_i$? \n",
    "\n",
    "Well, we want to know the variance, so apply the Variance operator to both sides of the equation:\n",
    "\n",
    "\n",
    "$$\\text{Var}(\\tilde r_i) = \\text{Var}(\\alpha_i + \\beta_i \\tilde r_M + \\varepsilon_t)$$\n",
    "\n",
    "We're allowed to distribute the variance operation over the addition, but we have to multiply everything inside together first, because variances are quadratic. Also, all cross-terms become covariances. Basically, $Var(x, y) = Var(x^2) + Var(y^2) + 2 Cov(x, y)$. \n",
    "\n",
    "In our problem, $Cov(\\tilde r_M, \\varepsilon_t) = 0$ by assumption (because it's a regression problem).\n",
    "\n",
    "$$\n",
    "\\begin{align}\n",
    "\\text{Var}(\\tilde r_i) &= \\text{Var}(\\alpha_i^2) + \\text{Var}(\\beta_i \\tilde r_M)^2 + \\text{Var}(\\varepsilon_t^2) \\\\\n",
    "\\sigma_i^2 &= 0 + \\beta_i^2 \\sigma_M^2 + \\sigma_\\varepsilon^2 \\\\\n",
    "\\sigma_i^2 &= \\beta_i^2 \\sigma_M^2 + \\sigma_\\varepsilon^2\n",
    "\\end{align}$$\n",
    "\n",
    "We see that the variance of asset is equal to $\\beta^2$ times the variance of the market, plus ideosyncratic variance $\\sigma_\\varepsilon^2$. Again, from the definition of $\\beta$, we can write:\n",
    "\n",
    "$$\\beta_i = \\frac{\\sigma_{i,m}}{\\sigma^2_m} = \\frac{\\rho \\sigma_i \\sigma_m}{\\sigma^2_m} = \\frac{\\rho \\sigma_i}{\\sigma_m}$$\n",
    "\n",
    "So $\\beta^2_i = \\frac{\\rho^2 \\sigma_i^2}{\\sigma^2_m}$, which implies $\\beta^2_i \\sigma^2_m = \\rho^2 \\sigma_i^2$. This is exactly what appears in our variance decomposition, and it's the **systematic risk** in the asset.\n",
    "\n",
    "The remaining risk, the **ideosyncratic** or **undiversifiable** risk, can be obtained by solving for $\\sigma_\\varepsilon^2$:\n",
    "\n",
    "$$\n",
    "\\begin{align}\n",
    "\\sigma_i^2 &= \\beta_i^2 \\sigma_M^2 + \\sigma_\\varepsilon^2 \\\\\n",
    "\\sigma_i^2 &= \\rho^2 \\sigma_i^2 + \\sigma_\\varepsilon^2 \\\\\n",
    "\\sigma_\\varepsilon^2 &= (1 - \\rho^2) \\sigma_i^2\n",
    "\\end{align}\n",
    "$$"
   ]
  },
  {
   "cell_type": "markdown",
   "id": "9dd2ff6b",
   "metadata": {},
   "source": [
    "## Question 2\n",
    "\n",
    "We actually already used the answer to this question in the previous question. To actually obtain the expression you need to minimize the sum of the errors\n",
    "\n",
    "$$\\min_{\\alpha, \\beta} \\sum_t \\varepsilon_t^2$$\n",
    "\n",
    "With $\\varepsilon_t = \\tilde r_t - \\alpha - \\beta \\tilde r_{M,t}$\n",
    "\n",
    "I changed up the notation slightly to clarify the actual procedure. To estimate the market beta, we need to run a **time series regression** between the asset returns (from time t=0 to t=T) and market returns over the same period. This will give a single $\\alpha, \\beta$ pair for that asset. If we do one of these regressions for every asset in the market, we then talk about $\\alpha_i, \\beta_i$. But to actually get the coefficients, we need to first think about the time dimension, not the asset dimension.\n",
    "\n",
    "So we take derivatives and set them equal to zero:\n",
    "\n",
    "$$\\frac{\\partial}{\\partial \\alpha} = -2 \\left (\\sum_t \\tilde r_t - \\alpha - \\beta \\tilde r_{M,t})\\right ) = 0$$\n",
    "\n",
    "$$\\frac{\\partial}{\\partial \\beta} = -2 \\left ( \\sum_t \\tilde r_{M,t} (\\tilde r_t - \\alpha - \\beta \\tilde r_{M,t}) \\right ) = 0$$\n",
    "\n",
    "Let's solve the first equation for $\\alpha$. To begin, throw the -2 away, then distribute the sum over addition:\n",
    "\n",
    "$$\n",
    "\\begin{align}\\sum_t \\tilde r_t - \\sum_t \\alpha - \\sum_t \\beta \\tilde r_{M,t} &= 0 \\\\\n",
    "T \\mu_r - T\\alpha - T \\beta \\mu_M &= 0 \\\\\n",
    "\\alpha = \\mu_r - \\beta \\mu_M\n",
    "\\end{align}$$\n",
    "\n",
    "To simplify, I used the fact that $\\mu_x = \\frac{1}{T}\\sum_t x_i$. \n",
    "\n",
    "Next, we can plug this into the 2nd FoC. Throwing away the -2:\n",
    "\n",
    "$$\n",
    "\\begin{align}\n",
    "\\left ( \\sum_t \\tilde r_{M,t} (\\tilde r_t - \\alpha - \\beta \\tilde r_{M,t}) \\right ) &= 0 \\\\\n",
    "\\left ( \\sum_t \\tilde r_{M,t} (\\tilde r_t - \\mu_r + \\beta \\mu_M - \\beta \\tilde r_{M,t}) \\right ) &= 0 \\\\\n",
    "\\left ( \\sum_t \\tilde r_{M,t} (\\tilde r_t - \\mu_r) - \\beta r_{M,t} (\\tilde r_{M,t} - \\mu_M) \\right ) &= 0 \\\\\n",
    "\\sum_t \\tilde r_{M,t} (\\tilde r_t - \\mu_r) - \\sum_t \\beta r_{M,t} (\\tilde r_{M,t} - \\mu_M) &= 0\n",
    "\\end{align}$$\n",
    "\n",
    "These are soooooo close to being something like covaraince expressions. If instead of $\\tilde r_{M,t} (\\tilde r_t - \\mu_r)$ we had $(\\tilde r_{M,t} - \\mu_M)(\\tilde r_t - \\mu_r)$, we'd be there (after taking expectations).\n",
    "\n",
    "So since that's what I want, I do that I have to do to get it. Subtract $\\sum_t \\mu_M(\\tilde r_t - \\mu_r)$ from both sides:\n",
    "\n",
    "$$\n",
    "\\begin{align}\n",
    "\\sum_t \\tilde r_{M,t} (\\tilde r_t - \\mu_r) - \\sum_t \\mu_M(\\tilde r_t - \\mu_r) - \\sum_t \\beta r_{M,t} (\\tilde r_{M,t} - \\mu_M) &= -\\sum_t \\mu_M(\\tilde r_t - \\mu_r) \\\\\n",
    "\\sum_t \\left (\\tilde r_{M,t} (\\tilde r_t - \\mu_r) - \\mu_M(\\tilde r_t - \\mu_r) \\right ) - \\sum_t \\beta r_{M,t} (\\tilde r_{M,t} - \\mu_M) &= -\\sum_t \\mu_M(\\tilde r_t - \\mu_r) \\\\\n",
    "\\sum_t (\\tilde r_{M,t} - \\mu_M)(\\tilde r_t - \\mu_r) - \\sum_t \\beta r_{M,t} (\\tilde r_{M,t} - \\mu_M) &= -\\sum_t \\mu_M(\\tilde r_t - \\mu_r) \\\\\n",
    "\\end{align} \n",
    "$$\n",
    "\n",
    "Do the same \"trick\" with $\\beta \\sum_t \\mu_M (\\tilde r_{M,t} - \\mu_M)$:\n",
    "\n",
    "$$\\sum_t (\\tilde r_{M,t} - \\mu_M)(\\tilde r_t - \\mu_r) - \\sum_t \\beta (r_{M,t} - \\mu_M) (\\tilde r_{M,t} - \\mu_M) = -\\sum_t \\mu_M(\\tilde r_t - \\mu_r) + \\beta \\sum_t \\mu_M (\\tilde r_{M,t} - \\mu_M)$$\n",
    "\n",
    "This looks like a huge mess but it's about to get a lot better, we just have to do some work on the right hand side. Combine the sums and factor out $\\mu_M$:\n",
    "\n",
    "$$\\mu_M \\sum_t \\left (-\\tilde r_t + \\mu_r - \\beta \\tilde r_{M,t} + \\beta \\mu_M \\right ) $$\n",
    "\n",
    "Distribute the sum over addition:\n",
    "\n",
    "$$\\mu_M \\left (-\\sum_t \\tilde r_t + \\sum_t \\mu_r - \\sum_t \\beta \\tilde r_{M,t} + \\sum_t \\beta \\mu_M \\right )$$\n",
    "\n",
    "Use the mean identity we used above:\n",
    "\n",
    "$$\\mu_M \\left (-T \\mu_r + T \\mu_r - \\beta T \\mu_M + \\beta T \\mu_M \\right ) = 0$$\n",
    "\n",
    "So we see that the right-hand side is in fact zero!\n",
    "\n",
    "So we take expectations of what's left on the left-hand side:\n",
    "\n",
    "$$\n",
    "\\begin{align}\n",
    "\\mathbb E \\left [ \\sum_t (\\tilde r_{M,t} - \\mu_M)(\\tilde r_t - \\mu_r) - \\sum_t \\beta (r_{M,t} - \\mu_M) (\\tilde r_{M,t} - \\mu_M) \\right ] &= 0 \\\\\n",
    "\\mathbb E \\left [ \\sum_t (\\tilde r_{M,t} - \\mu_M)(\\tilde r_t - \\mu_r) \\right ] - \\beta \\mathbb E \\left [\\sum_t (r_{M,t} - \\mu_M) (\\tilde r_{M,t} - \\mu_M) \\right ] &= 0 \\\\\n",
    "\\sigma_{M, i} - \\beta \\sigma_{M}^2 = 0 \\\\\n",
    "\\beta = \\frac{\\sigma_{M, i}}{\\sigma_M^2}\n",
    "\\end{align}\n",
    "$$\n",
    "\n",
    "The relationship is verified.\n",
    "\n",
    "We can use this relationship to write an expression for the covariance between the asset and the market: $\\sigma_{M, i} = \\beta \\sigma_M^2$"
   ]
  },
  {
   "cell_type": "markdown",
   "id": "fb87e283",
   "metadata": {},
   "source": [
    "## Question 3\n",
    "\n",
    "If we know $\\alpha_i$ and $\\beta_i$, we can obtain $\\text{Cov}(\\tilde r_i, \\tilde r_j)$. Write down the CAPM regressions for both assets:\n",
    "\n",
    "$$\\begin{align}\n",
    "\\tilde r_i &= \\alpha_i + \\beta_i \\tilde r_m + \\varepsilon_i \\\\\n",
    "\\tilde r_j &= \\alpha_j + \\beta_j \\tilde r_m + \\varepsilon_j\n",
    "\\end{align}$$\n",
    "\n",
    "Now we write down the covariance, substituting these expressions:\n",
    "\n",
    "$$\n",
    "\\text{Cov}(\\tilde r_i, \\tilde r_j) = \\text{Cov}(\\alpha_i + \\beta_i \\tilde r_m + \\varepsilon_i, \\alpha_j + \\beta_j \\tilde r_m + \\varepsilon_j) \n",
    "$$\n",
    "\n",
    "Just like the variance, we can distribute out the covariance operator between all these linear terms. The variance (or covariance) of two deterministic terms will be zero, so things like $\\text{Cov}(\\alpha_i, \\alpha_j) = 0$. One deterministic thing with a random thing is also zero, so $\\text{Cov}(\\alpha_i, \\varepsilon_j) = 0$. We also have $\\text{Cov}(\\varepsilon_i, \\varepsilon_j) = 0$, by definition. \n",
    "\n",
    "What will be left is:\n",
    "\n",
    "$$\\text{Cov}(\\beta_i \\tilde r_m, \\beta_j \\tilde r_m) = \\beta_i \\beta_j \\text{Var}(r_m) = \\beta_i \\beta_j \\sigma^2_M$$\n",
    "\n",
    "So $\\text{Cov}(\\tilde r_i, \\tilde r_j) = \\beta_i \\beta_j \\sigma^2_M$"
   ]
  },
  {
   "cell_type": "markdown",
   "id": "097d486b",
   "metadata": {},
   "source": [
    "## Question 4\n",
    "\n",
    "Consider a portfolio of two assets. This counts as a new asset, with $\\sigma_p^2 = w^2 \\sigma_1^2 + (1 - w)^2\\sigma_2^2 + 2w(1-w)\\sigma_{1,2}$\n",
    "\n",
    "We know the ideosyncratic risk is given by $\\sigma^2_\\varepsilon = (1 - \\rho^2)\\sigma_p$. Substitute out expression:\n",
    "\n",
    "$$\\sigma^2_\\varepsilon = (1 - \\rho^2)\\left ( w^2 \\sigma_1^2 + (1 - w)^2\\sigma_2^2 + 2w(1-w)\\sigma_{1,2} \\right )$$\n",
    "\n",
    "If the weights are uniform, we have $w = (1 - w) = \\frac{1}{2}$, because we have 2 assets, but in general we'll have $w = \\frac{1}{N}$, and the ideosyncratic risk formula will be:\n",
    "\n",
    "$$\\sigma^2_\\varepsilon = (1 - \\rho^2)\\left (\\frac{1}{N^2} \\sum_i \\sigma_i^2 + \\frac{2}{N^2} \\sum_i \\sum_{j\\neq i} \\sigma_{i,j} \\right )$$\n",
    "\n",
    "We know that as $N \\to \\infty$, $\\frac{1}{N^2} \\to 0$. Thus, $\\lim_{N\\to\\infty} \\sigma^2_\\varepsilon = 0$. So we have shown that, as the number of assets in our portfolio grows, the ideosyncratic risk shrinks, leaving only the market risk."
   ]
  },
  {
   "cell_type": "code",
   "execution_count": null,
   "id": "818a7b65",
   "metadata": {},
   "outputs": [],
   "source": []
  }
 ],
 "metadata": {
  "kernelspec": {
   "display_name": "Python 3 (ipykernel)",
   "language": "python",
   "name": "python3"
  },
  "language_info": {
   "codemirror_mode": {
    "name": "ipython",
    "version": 3
   },
   "file_extension": ".py",
   "mimetype": "text/x-python",
   "name": "python",
   "nbconvert_exporter": "python",
   "pygments_lexer": "ipython3",
   "version": "3.11.6"
  },
  "toc": {
   "base_numbering": 1,
   "nav_menu": {},
   "number_sections": true,
   "sideBar": true,
   "skip_h1_title": false,
   "title_cell": "Table of Contents",
   "title_sidebar": "Contents",
   "toc_cell": true,
   "toc_position": {},
   "toc_section_display": true,
   "toc_window_display": false
  }
 },
 "nbformat": 4,
 "nbformat_minor": 5
}
