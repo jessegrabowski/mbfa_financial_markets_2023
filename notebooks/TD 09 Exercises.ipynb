{
 "cells": [
  {
   "cell_type": "markdown",
   "id": "9b618494",
   "metadata": {
    "toc": true
   },
   "source": [
    "<h1>Table of Contents<span class=\"tocSkip\"></span></h1>\n",
    "<div class=\"toc\"><ul class=\"toc-item\"><li><span><a href=\"#Exercise-9-10.1\" data-toc-modified-id=\"Exercise-9-10.1-1\"><span class=\"toc-item-num\">1&nbsp;&nbsp;</span>Exercise 9-10.1</a></span><ul class=\"toc-item\"><li><span><a href=\"#Question-1\" data-toc-modified-id=\"Question-1-1.1\"><span class=\"toc-item-num\">1.1&nbsp;&nbsp;</span>Question 1</a></span></li><li><span><a href=\"#Question-2\" data-toc-modified-id=\"Question-2-1.2\"><span class=\"toc-item-num\">1.2&nbsp;&nbsp;</span>Question 2</a></span></li></ul></li><li><span><a href=\"#Exercise-9-10.2\" data-toc-modified-id=\"Exercise-9-10.2-2\"><span class=\"toc-item-num\">2&nbsp;&nbsp;</span>Exercise 9-10.2</a></span><ul class=\"toc-item\"><li><span><a href=\"#Question-1\" data-toc-modified-id=\"Question-1-2.1\"><span class=\"toc-item-num\">2.1&nbsp;&nbsp;</span>Question 1</a></span></li><li><span><a href=\"#Question-2\" data-toc-modified-id=\"Question-2-2.2\"><span class=\"toc-item-num\">2.2&nbsp;&nbsp;</span>Question 2</a></span></li><li><span><a href=\"#Question-3\" data-toc-modified-id=\"Question-3-2.3\"><span class=\"toc-item-num\">2.3&nbsp;&nbsp;</span>Question 3</a></span></li><li><span><a href=\"#Question-4\" data-toc-modified-id=\"Question-4-2.4\"><span class=\"toc-item-num\">2.4&nbsp;&nbsp;</span>Question 4</a></span></li></ul></li><li><span><a href=\"#Exercise-9-10.3\" data-toc-modified-id=\"Exercise-9-10.3-3\"><span class=\"toc-item-num\">3&nbsp;&nbsp;</span>Exercise 9-10.3</a></span><ul class=\"toc-item\"><li><span><a href=\"#Question-1\" data-toc-modified-id=\"Question-1-3.1\"><span class=\"toc-item-num\">3.1&nbsp;&nbsp;</span>Question 1</a></span></li><li><span><a href=\"#Question-2\" data-toc-modified-id=\"Question-2-3.2\"><span class=\"toc-item-num\">3.2&nbsp;&nbsp;</span>Question 2</a></span></li></ul></li></ul></div>"
   ]
  },
  {
   "cell_type": "code",
   "execution_count": 1,
   "id": "693822fe",
   "metadata": {},
   "outputs": [],
   "source": [
    "import numpy as np\n",
    "import sympy as sp\n",
    "import pandas as pd\n",
    "import matplotlib.pyplot as plt\n",
    "from scipy import stats, optimize\n",
    "import seaborn as sns\n",
    "\n",
    "config = {\n",
    "    'figure.facecolor':'w',\n",
    "    'axes.grid':True,\n",
    "    'axes.spines.top':False,\n",
    "    'axes.spines.bottom':False,\n",
    "    'axes.spines.left':False,\n",
    "    'axes.spines.right':False,\n",
    "    'grid.linewidth':0.5,\n",
    "    'grid.linestyle':'--',\n",
    "    'figure.constrained_layout.use':True\n",
    "}\n",
    "\n",
    "plt.rcParams.update(config)"
   ]
  },
  {
   "cell_type": "markdown",
   "id": "20c7a64d",
   "metadata": {},
   "source": [
    "# Exercise 9-10.1\n",
    "\n",
    "In 1985, the yield associated to US short term Treasury Notes was about 6%. Assuming that he market expected return is 30% for a portfolio with a beta of 2."
   ]
  },
  {
   "cell_type": "markdown",
   "id": "dec63cc7",
   "metadata": {},
   "source": [
    "## Question 1\n",
    "\n",
    "According to the CAPM what is the expected return for the market portfolio?\n",
    "\n",
    "The CAPM says:\n",
    "\n",
    "$$\\mathbb E[r_i] = r_f + \\beta \\mathbb E[r_m]$$\n",
    "\n",
    "We're told that \"a portfolo\" has an expected return of 30%, and it has a $\\beta$ of 2. We're asked to do some algebra and solve for $\\mathbb E[r_m]$:"
   ]
  },
  {
   "cell_type": "code",
   "execution_count": 7,
   "id": "bb3ab35b",
   "metadata": {},
   "outputs": [
    {
     "name": "stdout",
     "output_type": "stream",
     "text": [
      "CAPM estimated market return: 12.00%\n"
     ]
    }
   ],
   "source": [
    "r_f = 0.06\n",
    "r_i = 0.3\n",
    "β = 2\n",
    "print(f'CAPM estimated market return: {(r_i - r_f) / β:0.2%}')"
   ]
  },
  {
   "cell_type": "markdown",
   "id": "43be6856",
   "metadata": {},
   "source": [
    "## Question 2\n",
    "\n",
    "The stock Astrotech has been sold 40\\\\$. An analyst forecast a dividend of 3\\\\$ in 1988 and an ask price of 41\\\\$. If the forecast of the analyst are true and β = −0.4, was the stock over or under priced?\n",
    "\n",
    "First, compute the expected price under the CAPM:"
   ]
  },
  {
   "cell_type": "code",
   "execution_count": 8,
   "id": "9727e41d",
   "metadata": {},
   "outputs": [
    {
     "data": {
      "text/plain": [
       "0.011999999999999997"
      ]
     },
     "execution_count": 8,
     "metadata": {},
     "output_type": "execute_result"
    }
   ],
   "source": [
    "r_i = r_f + -0.4 * 0.12\n",
    "r_i"
   ]
  },
  {
   "cell_type": "markdown",
   "id": "2cb7b199",
   "metadata": {},
   "source": [
    "This will be the expected increase in the stock price to next year. To tie this into the price, we can think about the return as the percent change in the stock price, including the dividend. That is:\n",
    "\n",
    "$$r_i = \\frac{P_1 + D_1}{P_0} - 1$$\n",
    "\n",
    "Note that this is just percent change from $t=0$ to $t=1$, adjusting for the dividend payout. We need to solve for $P_0$:\n",
    "\n",
    "$$P_0 = \\frac{P_1 + D_1}{1 + r_i}$$"
   ]
  },
  {
   "cell_type": "code",
   "execution_count": 15,
   "id": "1cda780f",
   "metadata": {},
   "outputs": [
    {
     "name": "stdout",
     "output_type": "stream",
     "text": [
      "Implied price at P0: 43.48$\n"
     ]
    }
   ],
   "source": [
    "print(f'Implied price at P0: {(41 + 3) / (1 + r_i):0.2f}$')"
   ]
  },
  {
   "cell_type": "markdown",
   "id": "20c196e4",
   "metadata": {},
   "source": [
    "Since the implied price of 43.48 is greater than the actual asking price of 41, we conclude that the stock was under-priced."
   ]
  },
  {
   "cell_type": "markdown",
   "id": "eb60a2f9",
   "metadata": {},
   "source": [
    "# Exercise 9-10.2\n",
    "\n",
    "The risk-free asset return is 2.5%. You can invest in a private equity firm whose return and\n",
    "associated probability are presented in the following table:\n",
    "\n",
    "|              |   1  |   2  |\n",
    "|--------------|------|------|\n",
    "| Return       | +25% | -50% |\n",
    "| Probability  | 70%  | 30%  |"
   ]
  },
  {
   "cell_type": "markdown",
   "id": "e9bb9723",
   "metadata": {},
   "source": [
    "## Question 1\n",
    "\n",
    "Compute the variance and the expected return of the investment"
   ]
  },
  {
   "cell_type": "code",
   "execution_count": 21,
   "id": "9f653f21",
   "metadata": {},
   "outputs": [
    {
     "name": "stdout",
     "output_type": "stream",
     "text": [
      "Expected return: 0.025\n",
      "Variance: 0.118\n",
      "Volatility: 0.344\n"
     ]
    }
   ],
   "source": [
    "r_f = 0.025\n",
    "p = np.array([0.7, 0.3])\n",
    "r = np.array([0.25, -0.5])\n",
    "μ = (r * p).sum()\n",
    "σ2 = (r ** 2 * p).sum() - μ ** 2\n",
    "print(f'Expected return: {μ:0.3f}')\n",
    "print(f'Variance: {σ2:0.3f}')\n",
    "print(f'Volatility: {np.sqrt(σ2):0.3f}')"
   ]
  },
  {
   "cell_type": "markdown",
   "id": "16f0d5da",
   "metadata": {},
   "source": [
    "## Question 2\n",
    "\n",
    "Assuming that your behaviour can be modelled by a mean-variance utility function, and that you do not have any extra information about this investment, which part of you wealth could you invest in?\n",
    "\n",
    "We're goning to make a portfolio between this asset and the risk-free asset. Call the weight on the risky asset $w$, then we will have:\n",
    "\n",
    "$$\\begin{align}\\mu_p &= w\\mu + (1 - w) r_f \\\\\n",
    "    \\sigma_p^2 &= w^2 \\sigma^2 \\end{align}$$\n",
    "    \n",
    "So utility is:\n",
    "\n",
    "$$\\begin{align}U &= \\mu_p - \\frac{A}{2}\\sigma_p^2 \\\\\n",
    "                 &= w\\mu_p + (1 - w)r_f - \\frac{A}{2}w^2 \\sigma^2 \\end{align}$$\n",
    "                 \n",
    "Take derivative and solve:\n",
    "\n",
    "$$w = \\frac{\\mu - r_f}{A\\sigma^2_p}$$\n",
    "\n",
    "We don't know our $A$, but it doesn't matter! Notice that $r_f = 2.5\\%$, and we computed $\\mu_p = 2.5\\%$. So no matter what the risk tolerance, we choose $w=0$ -- we don't want this portfolio at all!"
   ]
  },
  {
   "cell_type": "markdown",
   "id": "df3731c6",
   "metadata": {},
   "source": [
    "## Question 3\n",
    "\n",
    "Now we are told that:\n",
    "\n",
    "- Expected Market Return $E[R_m]$ = 6.5%\n",
    "- Market Variance $V[R_m]$ = 0.0289\n",
    "- Covariance between the market and the asset $\\sigma_{iM}$ = -0.00289\n",
    "\n",
    "From this information, we can compute $\\beta = \\frac{\\sigma_{i,M}}{\\sigma^2_M}$:"
   ]
  },
  {
   "cell_type": "code",
   "execution_count": 23,
   "id": "ba021d17",
   "metadata": {},
   "outputs": [
    {
     "name": "stdout",
     "output_type": "stream",
     "text": [
      "CAPM beta for this asset: -0.100\n"
     ]
    }
   ],
   "source": [
    "σ_im = -0.00289\n",
    "σ2_m = 0.0289\n",
    "μ_m = 0.065\n",
    "\n",
    "β = σ_im / σ2_m\n",
    "print(f'CAPM beta for this asset: {β:0.3f}')"
   ]
  },
  {
   "cell_type": "markdown",
   "id": "1b5f46f9",
   "metadata": {},
   "source": [
    "And we can compute the expected returns of this asset, given this beta with the market:\n",
    "$$\\mathbb E [r_i] = r_f + \\beta (\\mathbb E[r_m] - r_f)$$"
   ]
  },
  {
   "cell_type": "code",
   "execution_count": 26,
   "id": "6b2cc649",
   "metadata": {},
   "outputs": [
    {
     "data": {
      "text/plain": [
       "0.021"
      ]
     },
     "execution_count": 26,
     "metadata": {},
     "output_type": "execute_result"
    }
   ],
   "source": [
    "Er_i = r_f + β * (μ_m - r_f)\n",
    "Er_i"
   ]
  },
  {
   "cell_type": "markdown",
   "id": "e4fed390",
   "metadata": {},
   "source": [
    "Under the CAPM, we compute that the expected return is 2.1%. Notice that this is lower than the observed return of 2.5%. This suggests that the asset is underpriced, so it is rational to buy it. This is despite the fact that, in any case, the return is lower than the risk-free rate. "
   ]
  },
  {
   "cell_type": "markdown",
   "id": "99ea8ee5",
   "metadata": {},
   "source": [
    "## Question 4\n",
    "\n",
    "Determine the threshold $\\sigma_{i,M}$ from which you will stop investing in this private equity firm.\n",
    "\n",
    "We will stop if $\\mathbb E[r_i] = r_i = 0.025$, so we just solve for $\\sigma_{i,M}$ such that:\n",
    "\n",
    "$$0.025 = r_f + \\frac{\\sigma_{i,M}}{\\sigma^2_M}(\\mu_m - r_f)$$"
   ]
  },
  {
   "cell_type": "code",
   "execution_count": 30,
   "id": "078ff7ec",
   "metadata": {},
   "outputs": [
    {
     "name": "stdout",
     "output_type": "stream",
     "text": [
      "σ_im at which we stop investing: 0.000\n"
     ]
    }
   ],
   "source": [
    "σ_im_stop = (0.025 - r_f) * σ2_m / (μ_m - r_f)\n",
    "print(f'σ_im at which we stop investing: {σ_im_stop:0.3f}')"
   ]
  },
  {
   "cell_type": "markdown",
   "id": "6ad2f2f6",
   "metadata": {},
   "source": [
    "How should be interpret this? Remember that this is the **covariance**, not the variance, so we shouldn't be shocked that it's zero. Remember that the beta with the market was negative. Basically, we like this asset because it provides a downside hedge against market declines -- when the market goes down, this asset goes up. If it stops serving that function -- if the beta becomes positive -- we stop being interested in this asset."
   ]
  },
  {
   "cell_type": "markdown",
   "id": "a2acc617",
   "metadata": {},
   "source": [
    "# Exercise 9-10.3\n",
    "\n",
    "The asset price at date 0 is denoted $P_0$. The asset bid price at date 1 is a random variable denoted $P_1$. Assuming the CAPM framework is valid and that the beta of the asset is denoted $\\beta$."
   ]
  },
  {
   "cell_type": "markdown",
   "id": "209c5fae",
   "metadata": {},
   "source": [
    "## Question 1\n",
    "\n",
    "Prove that $P_0 = \\frac{E(\\tilde{P}_1)}{(1 + r_f + (\\mu_M - r_f)\\beta)}$\n",
    "\n",
    "First, we note that $\\mathbb E[P_1] = (1 + \\mathbb E[r_1])P_0$. Solving for $P_0$, we get:\n",
    "\n",
    "$$P_0 = \\frac{\\mathbb E[P_1]}{(1 + \\mathbb E[r_1])}$$\n",
    "\n",
    "Great, we're already most of the way there. Now we just need to know what is $\\mathbb E[r_1]$. We're told that the CAPM framework is valid, and that tells us that:\n",
    "\n",
    "$$\\mathbb E[r_1] = r_f + \\beta (\\mathbb E[r_m] - r_f)$$\n",
    "\n",
    "Define $\\mu_m = \\mathbb E[r_m]$, then just plug this expression into our fraction:\n",
    "\n",
    "$$P_0 = \\frac{\\mathbb E[P_1]}{(1 + r_f + \\beta (\\mu_m - r_f))}$$\n",
    "\n",
    "The expression is verified."
   ]
  },
  {
   "cell_type": "markdown",
   "id": "656fac24",
   "metadata": {},
   "source": [
    "## Question 2\n",
    "\n",
    "Show that we can re-write the above expression to:\n",
    "\n",
    "$$P_0 = \\frac{\\mathbb E[P_1] - a \\rho \\sigma}{1 + r_f}$$\n",
    "\n",
    "Where $\\rho$ is the correlation between the asset and the market, $\\sigma$ is the voltility of the asset, and $a$ is an unknown parameter.\n",
    "\n",
    "Let's start from the CAPM expression:\n",
    "\n",
    "$$\\mathbb E[r_1] = r_f + \\beta (\\mathbb E[r_m] - r_f)$$\n",
    "\n",
    "We know that we can write $\\beta = \\frac{\\sigma_{i,m}}{\\sigma^2_m}$, because we can think about the CAPM as a linear regression. Furthermore, we know that $\\sigma_{i,m} = \\rho \\sigma_i \\sigma_m$. So, after cancellation, our expression becomes:\n",
    "\n",
    "$$\\mathbb E[r_1] = r_f + \\frac{\\rho \\sigma_i}{\\sigma_m} (\\mathbb \\mu_m - r_f)$$\n",
    "\n",
    "Plug this into the percent change equation:\n",
    "\n",
    "$$P_0 = \\frac{\\mathbb E[P_1]}{1 + r_f + \\frac{\\rho \\sigma_i}{\\sigma_m} (\\mu_m - r_f)}$$\n",
    "\n",
    "Define $S_m = \\frac{\\mu_m - r_f}{\\sigma_m}$ as the Sharpe ratio of the market. This gives:\n",
    "\n",
    "$$P_0 = \\frac{\\mathbb E[P_1]}{1 + r_f + S_m \\rho \\sigma_i}$$\n",
    "\n",
    "Now shuffle some stuff around:\n",
    "\n",
    "$$\\begin{align}\n",
    "P_0(1 + r_f + S_m \\rho \\sigma_i) &= \\mathbb E[P_1] \\\\\n",
    "(1 + r_f) P_0 + S_m \\rho \\sigma_i P_0 &= \\mathbb E[P_1] \\\\\n",
    "\\end{align}$$\n",
    "\n",
    "We really want to get rid of the $P_0$ in the 2nd summand on the left-hand side. If we could, we would be done. The final twist in the derivation will be to look inside $sigma_i$ for some help. We know that:\n",
    "\n",
    "$$\\begin{align}\n",
    "\\sigma_i &= \\sqrt{\\text{Var}(r_i)} \\\\ \n",
    "&= \\sqrt{\\text{Var}\\left(\\frac{P_1}{P_0} - 1 \\right)} \\\\\n",
    "&= \\sqrt{\\text{Var}\\left(\\frac{P_1}{P_0} - \\frac{P_0}{P_0} \\right)} \n",
    "\\end{align}$$\n",
    "\n",
    "Standing here at time $t=0$, $P_0$ is non-random, so we can factor it out. When we do, we have to remember that variance is a quadratic function, so what comes out will be $P_0^2$, not $P_0$:\n",
    "\n",
    "$$\\begin{align}\n",
    "\\sigma_i &= \\sqrt{\\frac{1}{P_0^2}\\text{Var}\\left(P_1 - P_0 \\right)}  \\\\\n",
    "&= \\frac{1}{P_0}\\sqrt{\\text{Var}\\left(P_1 - P_0 \\right)} \\\\\n",
    "\\sigma_i &= \\frac{1}{P_0}\\tilde{\\sigma}_i\n",
    "\\end{align}$$\n",
    "\n",
    "Plug this into our expression:\n",
    "\n",
    "$$(1 + r_f) P_0 + S_m \\rho \\frac{P_0 \\tilde{\\sigma}_i}{P_0} = \\mathbb E[P_1]$$\n",
    "\n",
    "So after rearranging:\n",
    "\n",
    "$$P_0 = \\frac{\\mathbb E[P_1] - S_m \\rho \\tilde{\\sigma}_i}{1 + r_f}$$\n",
    "\n",
    "The last bit of cleanup is to think more closely about $\\tilde \\sigma_i = \\sqrt{\\text{Var}\\left(P_1 - P_0 \\right)}$. Write this out using the definition of variance:\n",
    "\n",
    "$$\\begin{align}\n",
    "\\tilde \\sigma_i^2 &= \\mathbb E[((P_1 - P_0) - \\mathbb E[(P_1 - P_0)])^2] \\\\\n",
    "                  &= \\mathbb E[((P_1 - \\mathbb E[P_1] - P_0 + \\mathbb E[P_0]))^2] \\\\\n",
    "                  &= \\mathbb E[(P_1 - \\mathbb E[P_1])^2] \\\\\n",
    "                  &= \\text{Var}(P_1)\n",
    "\\end{align}$$\n",
    "\n",
    "So we find that $\\tilde \\sigma_i$ is the volatility in the **price** of the asset, rather than in the **returns** of the asset."
   ]
  },
  {
   "cell_type": "code",
   "execution_count": null,
   "id": "1d2581c2",
   "metadata": {},
   "outputs": [],
   "source": []
  }
 ],
 "metadata": {
  "kernelspec": {
   "display_name": "Python 3 (ipykernel)",
   "language": "python",
   "name": "python3"
  },
  "language_info": {
   "codemirror_mode": {
    "name": "ipython",
    "version": 3
   },
   "file_extension": ".py",
   "mimetype": "text/x-python",
   "name": "python",
   "nbconvert_exporter": "python",
   "pygments_lexer": "ipython3",
   "version": "3.10.12"
  },
  "toc": {
   "base_numbering": 1,
   "nav_menu": {},
   "number_sections": true,
   "sideBar": true,
   "skip_h1_title": false,
   "title_cell": "Table of Contents",
   "title_sidebar": "Contents",
   "toc_cell": true,
   "toc_position": {},
   "toc_section_display": true,
   "toc_window_display": false
  }
 },
 "nbformat": 4,
 "nbformat_minor": 5
}
