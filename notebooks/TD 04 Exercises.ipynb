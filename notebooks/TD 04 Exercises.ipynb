{
 "cells": [
  {
   "cell_type": "code",
   "execution_count": 1,
   "id": "193a31a6-65d1-4719-9294-6a206ee63f21",
   "metadata": {},
   "outputs": [],
   "source": [
    "import sympy as sp\n",
    "import numpy as np\n",
    "import matplotlib.pyplot as plt\n",
    "from scipy import stats\n",
    "import pandas as pd"
   ]
  },
  {
   "cell_type": "markdown",
   "id": "99558ee3-639b-497c-bc1d-69cab6967352",
   "metadata": {},
   "source": [
    "# Section 1: Mean-Variance-Skewness-Kurtosis Approach\n",
    "\n",
    "We have some data and need to compute the utility of various assets according to a new utility function:\n",
    "\n",
    "$$U(x) = \\mathbb E[x] - \\frac{A_1}{2} \\text{Var}(x) + A_2 \\text{Skew}(x) - A_3 \\text{Kurt}(x)$$\n",
    "\n",
    "We can think of this as **the** Mean-Variance utility function, but we usually set $A_2$ and $A_3$ to zero.\n",
    "\n",
    "Here's the data:"
   ]
  },
  {
   "cell_type": "code",
   "execution_count": 2,
   "id": "f18331aa-fc8a-4771-ac56-85c3edbd7316",
   "metadata": {},
   "outputs": [
    {
     "data": {
      "text/html": [
       "<div>\n",
       "<style scoped>\n",
       "    .dataframe tbody tr th:only-of-type {\n",
       "        vertical-align: middle;\n",
       "    }\n",
       "\n",
       "    .dataframe tbody tr th {\n",
       "        vertical-align: top;\n",
       "    }\n",
       "\n",
       "    .dataframe thead th {\n",
       "        text-align: right;\n",
       "    }\n",
       "</style>\n",
       "<table border=\"1\" class=\"dataframe\">\n",
       "  <thead>\n",
       "    <tr style=\"text-align: right;\">\n",
       "      <th></th>\n",
       "      <th>Mean</th>\n",
       "      <th>Volatility</th>\n",
       "      <th>Skewness</th>\n",
       "      <th>Kurtosis</th>\n",
       "    </tr>\n",
       "  </thead>\n",
       "  <tbody>\n",
       "    <tr>\n",
       "      <th>MSCI Emerging</th>\n",
       "      <td>0.0058</td>\n",
       "      <td>0.0452</td>\n",
       "      <td>-2.14</td>\n",
       "      <td>14.91</td>\n",
       "    </tr>\n",
       "    <tr>\n",
       "      <th>Long/Short</th>\n",
       "      <td>0.0088</td>\n",
       "      <td>0.0056</td>\n",
       "      <td>0.29</td>\n",
       "      <td>4.76</td>\n",
       "    </tr>\n",
       "    <tr>\n",
       "      <th>MSCI World</th>\n",
       "      <td>0.0093</td>\n",
       "      <td>0.0462</td>\n",
       "      <td>-0.21</td>\n",
       "      <td>3.39</td>\n",
       "    </tr>\n",
       "  </tbody>\n",
       "</table>\n",
       "</div>"
      ],
      "text/plain": [
       "                 Mean  Volatility  Skewness  Kurtosis\n",
       "MSCI Emerging  0.0058      0.0452     -2.14     14.91\n",
       "Long/Short     0.0088      0.0056      0.29      4.76\n",
       "MSCI World     0.0093      0.0462     -0.21      3.39"
      ]
     },
     "execution_count": 2,
     "metadata": {},
     "output_type": "execute_result"
    }
   ],
   "source": [
    "data = np.array([[0.0058, 0.0452, -2.14, 14.91],\n",
    "                 [0.0088, 0.0056, 0.29, 4.76],\n",
    "                 [0.0093, 0.0462, -0.21, 3.39]])\n",
    "df = pd.DataFrame(data, index=['MSCI Emerging', 'Long/Short', 'MSCI World'],\n",
    "                 columns = ['Mean', 'Volatility', 'Skewness', 'Kurtosis'])\n",
    "df"
   ]
  },
  {
   "cell_type": "markdown",
   "id": "1006ddcf-909a-420a-afcd-bc56296891a2",
   "metadata": {},
   "source": [
    "## Question 1.1\n",
    "\n",
    "Which type of fund do we prefer if our MV utility has parameters $A_1 = 3, A_2 = 0, A_3 = 0$\n",
    "\n",
    "We apply the function to data and find that **Long/Short** has the highest utility.\n",
    "\n",
    "- Remark: Remember that utility is a meaningless concept. It can even be negative, but this doesn't matter at all. We only care about the relative rankings between choices."
   ]
  },
  {
   "cell_type": "code",
   "execution_count": 3,
   "id": "6510eb30-eafb-47ea-b0c2-647af5cb0303",
   "metadata": {},
   "outputs": [
    {
     "data": {
      "text/plain": [
       "MSCI Emerging    0.002735\n",
       "Long/Short       0.008753\n",
       "MSCI World       0.006098\n",
       "dtype: float64"
      ]
     },
     "execution_count": 3,
     "metadata": {},
     "output_type": "execute_result"
    }
   ],
   "source": [
    "def MV_Utility(data, A1, A2=0, A3=0):\n",
    "    \"\"\"\n",
    "    Function to compute the mean-variance utility of an asset\n",
    "    \"\"\"\n",
    "    return data['Mean'] - 0.5 * A1 * data['Volatility'] ** 2 + A2 * data['Skewness'] - A3 * data['Kurtosis']\n",
    "\n",
    "df.apply(MV_Utility, axis=1, A1=3)"
   ]
  },
  {
   "cell_type": "markdown",
   "id": "1aef7915-f4f3-4bf7-9b07-2af0be822c23",
   "metadata": {},
   "source": [
    "## Question 1.2\n",
    "\n",
    "How about if you have $A_1 = 3, A_2 = 10, A_3 = 1$?\n",
    "\n",
    "Applying the formula again, we still prefer the Long/Short portfolio. Maybe this isn't surprising, because the weight on Skewness is so large! "
   ]
  },
  {
   "cell_type": "code",
   "execution_count": 4,
   "id": "d55a7482-3f63-4f27-b8ba-cfa1dfd44dc7",
   "metadata": {},
   "outputs": [
    {
     "data": {
      "text/plain": [
       "MSCI Emerging   -36.307265\n",
       "Long/Short       -1.851247\n",
       "MSCI World       -5.483902\n",
       "dtype: float64"
      ]
     },
     "execution_count": 4,
     "metadata": {},
     "output_type": "execute_result"
    }
   ],
   "source": [
    "df.apply(MV_Utility, axis=1, A1=3, A2=10, A3=1)"
   ]
  },
  {
   "cell_type": "markdown",
   "id": "d4b0a200-d545-42da-af05-6185606df1c8",
   "metadata": {},
   "source": [
    "# Section 2: Risk Aversion and Risk Measures\n",
    "\n",
    "We are told that our portfolio:\n",
    "\n",
    "1. Has an overall historical return of 10%\n",
    "2. Has a loss probability of 15%\n",
    "3. The risk-free rate is 3%\n",
    "\n",
    "Assume that the portfolio has returns $\\tilde r_p \\sim N(\\mu_p, \\sigma^2_p)$. "
   ]
  },
  {
   "cell_type": "markdown",
   "id": "2e6e8ca5-1144-4fb4-ad90-0e8fc55e4bd3",
   "metadata": {},
   "source": [
    "## Question 2.1:\n",
    "\n",
    "What is the expected volatility of the portfolio?\n",
    "\n",
    "We know that: \n",
    "1. 15% of the mass of the normal should be negative\n",
    "2. The mean of the distributiion is 10%\n",
    "\n",
    "So we just need to set $\\mu = 0.1$, then find $\\sigma$ such that condition 1 is met. The question asks us to use a z-table to find the answer (why not a slide ruler...)\n",
    "\n",
    "The z-table tells us $P[Z < z]$, where $Z \\sim N(0, 1)$ and $z$ is some number of interest. For us, $z = 0$, because we're interested in the negative mass. We want to find a value in the table such that $P[Z < z] = 0.15$. \n",
    "\n",
    "Since we're only given positive values, we have to exploit the fact that the normal distribution is totally symmetrical. So if we find $P[Z < z] = 0.85$ then make it negative, we'll have $P[Z < z] = 0.15$. \n",
    "\n",
    "Looking up 0.85 in the table, we get a z-score of 1.04, so our target z-score is -1.04.  \n",
    "\n",
    "Now we just need to find the sigma associated with this z-score, using the formula:\n",
    "\n",
    "$$Z = \\frac{x - \\mu}{\\sigma}$$\n",
    "\n",
    "Where $x$ is the critical value we're interested in (0 in our case). Plugging in numbers:\n",
    "\n",
    "$$-1.04 = \\frac{-0.1}{\\sigma} \\implies \\sigma = \\frac{0.1}{1.04} = 0.096153$$"
   ]
  },
  {
   "cell_type": "code",
   "execution_count": 5,
   "id": "32503b37-faa9-442c-a560-09112569e72f",
   "metadata": {},
   "outputs": [
    {
     "data": {
      "text/plain": [
       "0.14916782434020298"
      ]
     },
     "execution_count": 5,
     "metadata": {},
     "output_type": "execute_result"
    }
   ],
   "source": [
    "# Check out answer by asking for the CDF for a normal with the calculated \n",
    "# parameters. It's pretty close!\n",
    "d = stats.norm(loc=0.1, scale=0.096153)\n",
    "d.cdf(0)"
   ]
  },
  {
   "cell_type": "markdown",
   "id": "012f5f37-3452-43cc-badc-6570149ee056",
   "metadata": {},
   "source": [
    "## Question 2.2\n",
    "\n",
    "A client wants to invest 60% of his wealth in the risky asset and 40% of his wealth in the safe asset. What is his risk aversion coefficient $A_1$ (assume $A_2 = 0, A_3 = 0$)\n",
    "\n",
    "To combine the portfolios, just take a linear combination of the underlying random variables:\n",
    "\n",
    "$$Z = \\tau \\tilde r_p + (1 - \\tau) \\tilde r_f$$\n",
    "\n",
    "Where $\\tau$ is the fraction of wealth the investor wants to put into the risky stock. \n",
    "\n",
    "Since $\\tilde r_f$ is deterministic (it's not a probability distribution), $Z$ will follow a normal distribution. This is because of the following rules:\n",
    "\n",
    "Given a random variable $X \\sim N(\\mu, \\sigma^2)$, a new random variable $Y = aX + b$ will have distribution $Y \\sim N(a\\mu + b, a^2 \\sigma^2)$\n",
    "\n",
    "In this case, we have $a = \\tau$ and $b = (1 - \\tau) \\tilde r_f$.\n",
    "\n",
    "The problem of the investor was to choose a portfolio weight $\\tau$ to maximize his utility. Given a choice of $\\tau$, we get the following formulas for the mean and variance of the portfolio (this comes from the normal rule stated above):\n",
    "\n",
    "$$\\begin{align} \\mu_Z &= \\tau \\mu_p + (1 - \\tau)\\tilde r_f \\\\\n",
    "                \\sigma^2_Z &= \\tau ^2 \\sigma^2_p \\end{align}$$\n",
    "\n",
    "Now we can plug these moments into the MV Utility function and find the best possible $\\tau$. The investor solved this problem:\n",
    "$$\\max_{\\tau} \\tau \\mu_p + (1 - \\tau)\\tilde r_f - \\frac{A_1}{2}(\\tau ^2 \\sigma^2_p)$$\n",
    "\n",
    "Find the maximum of this function by taking the derivative and setting it equal to zero:\n",
    "\n",
    "$$\\begin{align} \\mu_p - \\tilde r_f - A_1 \\sigma^2_p \\tau &= 0 \\\\\n",
    "                -A_1 \\sigma^2_p \\tau &= \\tilde r_f - \\mu_p \\\\\n",
    "                A_1 &= \\frac{\\mu_p - \\tilde r_f}{\\tau \\sigma^2_p} \\end{align}$$\n",
    "\n",
    "We know that the investor chose $\\tau = 0.6$, so we can plug in and solve for $A_1$:\n",
    "\n",
    "$$\\begin{align} A_1 &= \\frac{0.1 - 0.03}{0.096^2 \\cdot 0.6} \\\\\n",
    "              A_1 &= 12.65 \\end{align}$$"
   ]
  },
  {
   "cell_type": "markdown",
   "id": "7b57d363-e5a2-46bb-8fd4-58f3eeaf970a",
   "metadata": {},
   "source": [
    "## Question 2.3\n",
    "\n",
    "What distribution does $Z$ follow? Find the mean and variance of $Z$.\n",
    "\n",
    "We already said that $Z$ is Normally distributed with the following parameters: \n",
    "\n",
    "$$\\begin{align} \\mu_Z &= \\tau \\mu_p + (1 - \\tau)\\tilde r_f \\\\\n",
    "                \\sigma^2_Z &= \\tau ^2 \\sigma^2_p \\end{align}$$\n",
    "\n",
    "Remember that this is because neither $\\tau$ nor $\\tilde r_f$ are random variables! \n",
    "\n",
    "(The sum of two random variables, $X + Y$ with $X \\sim N(\\cdot), Y \\sim N(\\cdot)$, is also normal, but the formula for the first two moments is different. The product $XY$ is **not** normal.)\n",
    "\n",
    "Anyway, we just need to plug in $\\tau = 0.6, \\mu_p = 0.1, \\sigma^2_p = 0.096, \\tilde r_f = 0.03$. We end up with:\n",
    "\n",
    "$$ Z \\sim N(0.6\\mu_p + 0.4\\tilde r_f, 0.6^2 \\sigma^2_p)$$\n",
    "\n",
    "Or:\n",
    "\n",
    "$$ Z \\sim N(0.072, 0.0033)$$"
   ]
  },
  {
   "cell_type": "code",
   "execution_count": 6,
   "id": "45a9c579-d0fb-496e-811b-e74a6431cec4",
   "metadata": {},
   "outputs": [
    {
     "name": "stdout",
     "output_type": "stream",
     "text": [
      "0.0718407862459894\n",
      "0.0033136320782721084\n"
     ]
    }
   ],
   "source": [
    "# Numerical experiment -- \n",
    "# Draw a ton of X ~ N(0.1, 0.096153), then add 0.4 * rf and multiply by 0.6\n",
    "# This way we can check that the moments we computed are right.\n",
    "\n",
    "# Here, loc is mu and scale is the std. Size is the number of draws\n",
    "rp_draws = np.random.normal(loc=0.1, scale=0.096153, size=(100_000))\n",
    "\n",
    "# Shift and scale\n",
    "Z_draws = rp_draws * 0.6 + 0.4 * 0.03\n",
    "\n",
    "# Compute statistics\n",
    "print(Z_draws.mean())\n",
    "print(Z_draws.var())\n",
    "\n",
    "# Looks good!"
   ]
  },
  {
   "cell_type": "markdown",
   "id": "9b84c1ed-3826-4af2-b8a6-cf0a75db7a8a",
   "metadata": {},
   "source": [
    "## Question 2.4\n",
    "\n",
    "Find x such that $P[Z \\leq x] = 0.05$ and $P[Z \\geq x] = 0.01$\n",
    "\n",
    "We can turn to the trusty z-score table again. This is the same as the first question, but now we know mu and sigma, but seek a critical value.\n",
    "\n",
    "For the first one, we have to do the symmetry trick again: Find $P[Z \\leq z_1] = 0.95$, then make it negative. This gives us $z_1 = -1.65$. \n",
    "\n",
    "For the second one, we to take the compliment. Instead of looking up $P[Z \\geq z_2] = 0.01$, we look up $P[Z \\leq z_2] = 0.99$ This will be exactly the same value (because it's the same cutoff, just measuring from the left or the right). Anyway we find $z_2 = 2.33$.\n",
    "\n",
    "So these two numbers are the z-scores. To adjust them, we just shift and scale by our distribution's parameters using:\n",
    "\n",
    "$$ z = \\frac{x - \\mu}{\\sigma}$$\n",
    "\n",
    "We have to solve for x. Quick algebraic rearrangement:\n",
    "\n",
    "$$ x = \\sigma z + \\mu$$\n",
    "\n",
    "So we get:\n",
    "\n",
    "$$\\begin{align}\n",
    "x_1 &= (0.057)(-1.65) + 0.072 =  -0.0233 \\\\\n",
    "x_2 &= (0.057)(2.33) + 0.072 = 0.2058\n",
    "\\end{align}$$\n",
    "\n"
   ]
  },
  {
   "cell_type": "code",
   "execution_count": 7,
   "id": "2de2b400-131a-4923-96b1-bf52e93b750c",
   "metadata": {},
   "outputs": [
    {
     "data": {
      "text/plain": [
       "0.04856192024984875"
      ]
     },
     "execution_count": 7,
     "metadata": {},
     "output_type": "execute_result"
    }
   ],
   "source": [
    "# Sanity check: compute the CDF of x1 and check that it's 5%:\n",
    "d = stats.norm(loc=0.072, scale=np.sqrt(0.0033))\n",
    "d.cdf(-0.0233)"
   ]
  },
  {
   "cell_type": "code",
   "execution_count": 8,
   "id": "364cf29f-29e1-4d1c-a134-6bfdde2c1574",
   "metadata": {},
   "outputs": [
    {
     "data": {
      "text/plain": [
       "0.009925321048615609"
      ]
     },
     "execution_count": 8,
     "metadata": {},
     "output_type": "execute_result"
    }
   ],
   "source": [
    "# Sanity check: compute the SF (that's 1 - CDF) of x2 and check that it's 1%:\n",
    "d.sf(0.2058)"
   ]
  },
  {
   "cell_type": "markdown",
   "id": "f8335493-0097-4b2b-b688-71b1dfbd3a94",
   "metadata": {},
   "source": [
    "# Section 3: Risk Measures\n",
    "\n",
    "We're going to manage a fund worth €200 billion. Every wear we need to generate €14 billion. Over the \"long run\", we can't let the fund dip below the initial capital. \n",
    "\n",
    "We can choose to invest in:\n",
    "\n",
    "1. A risky asset $\\tilde r$ with $\\mathbb E [\\tilde r] = 0.1$ and $\\text{Std}(\\tilde r) = 0.12$.\n",
    "2. A risk-free asset $\\tilde r_f = 0.03$"
   ]
  },
  {
   "cell_type": "markdown",
   "id": "9db4e490-a080-4680-b32e-2be675424ff9",
   "metadata": {},
   "source": [
    "## Question 3.1\n",
    "\n",
    "Choose portfolio weights $\\tau$ to ensure that, on average, we can make our €12 billion payments.\n",
    "\n",
    "Well, first we should compute how much return we need to generate each year:\n",
    "\n",
    "$$\\bar r = \\frac{14}{200} = 0.07$$\n",
    "\n",
    "So we need the expected value of the portfolio to be 7%. We know the returns of a portfolio is just a linear combination of the returns of the components, so we just find weight $\\tau$ such that:\n",
    "\n",
    "$$ \\tilde r_\\tau = \\tau \\tilde r_p + (1 - \\tau) \\tilde r_f$$\n",
    "\n",
    "Rearrange and solve for $\\tau$:\n",
    "\n",
    "$$\\tau = \\frac{\\tilde r_\\tau - \\tilde r_f}{\\tilde r_p - \\tilde r_f}$$\n",
    "\n",
    "Or:\n",
    "\n",
    "$$\\tau = \\frac{0.07 - 0.03}{0.1 - 0.03} = \\frac{0.04}{0.07} = 0.5714$$\n",
    "\n",
    "So we should put about 43% of our money into the risky asset, and the remaining 57% into the risk-free asset."
   ]
  },
  {
   "cell_type": "code",
   "execution_count": 9,
   "id": "77289805-76e2-434e-b539-47a78c1fb797",
   "metadata": {},
   "outputs": [
    {
     "data": {
      "text/plain": [
       "0.5714285714285715"
      ]
     },
     "execution_count": 9,
     "metadata": {},
     "output_type": "execute_result"
    }
   ],
   "source": [
    "r_p = 0.1\n",
    "sigma_p = 0.12\n",
    "r_f = 0.03\n",
    "r_tau = 14 / 200\n",
    "\n",
    "tau = (r_tau - r_f) / (r_p - r_f)\n",
    "tau"
   ]
  },
  {
   "cell_type": "code",
   "execution_count": 10,
   "id": "566c3eaf-d2d6-469a-85e7-a98b73ab7320",
   "metadata": {},
   "outputs": [
    {
     "data": {
      "text/plain": [
       "0.07013755775735607"
      ]
     },
     "execution_count": 10,
     "metadata": {},
     "output_type": "execute_result"
    }
   ],
   "source": [
    "# Sanity check: simulation study\n",
    "# Draw a ton of risky returns from N(0.1, 0.12). Find the average return with \n",
    "# tau = 0.571 -- it should be close to 0.07\n",
    "\n",
    "r_draws = np.random.normal(loc=r_p, scale=sigma_p, size=(1_000_000))\n",
    "np.mean(tau * r_draws + (1 - tau) * r_f)\n",
    "\n",
    "# Hooray!"
   ]
  },
  {
   "cell_type": "markdown",
   "id": "d4a24b7d-c227-4cee-a799-d749dc03f76b",
   "metadata": {},
   "source": [
    "## Question 3.2\n",
    "\n",
    "If the risky returns are normally distributed, what is the probability to have a negative return? \n",
    "\n",
    "First we need to compute the moments of the combined distribution. This comes from the equations above:\n",
    "\n",
    "$$\\begin{align} \\mu_Z &= \\tau \\mu_p + (1 - \\tau)\\tilde r_f \\\\\n",
    "                \\sigma^2_Z &= \\tau ^2 \\sigma^2_p \\end{align}$$\n",
    "\n",
    "We already know that $\\mu_Z = 0.07$, so we just need to compute $\\sigma_Z = \\tau \\sigma_p = 0.571 \\cdot 0.12 = 0.0686$\n",
    "\n",
    "Now we need to know the $P[X \\leq 0] = P[Z \\leq \\frac{-\\mu}{\\sigma}] = P[Z \\leq -1.021]$. \n",
    "\n",
    "So we do the absolute value thing. $P[Z \\leq 1.021] = 0.8461$, so $P[Z \\leq -1.021] = 1 - 0.8461 = 0.1539$"
   ]
  },
  {
   "cell_type": "code",
   "execution_count": 11,
   "id": "1a52c6a8-0fa1-448b-9610-4a4058a163de",
   "metadata": {},
   "outputs": [
    {
     "name": "stdout",
     "output_type": "stream",
     "text": [
      "σ_Z = 0.06857142857142857\n",
      "-μ_Z / σ_Z = -1.0208333333333335\n",
      "P(Negative return) = 0.15390000000000004\n"
     ]
    }
   ],
   "source": [
    "# Compute sigma Z\n",
    "sigma_Z = tau * sigma_p\n",
    "print(f'σ_Z = {sigma_Z}')\n",
    "\n",
    "# Compute -mu/sigma\n",
    "print(f'-μ_Z / σ_Z = {-r_tau / sigma_Z}')\n",
    "\n",
    "p_negative = 1 - 0.8461\n",
    "print(f'P(Negative return) = {p_negative}')"
   ]
  },
  {
   "cell_type": "code",
   "execution_count": 12,
   "id": "cbd772e8-d512-4bfd-8fa6-7b389b2bfceb",
   "metadata": {},
   "outputs": [
    {
     "data": {
      "text/plain": [
       "0.1536667043960181"
      ]
     },
     "execution_count": 12,
     "metadata": {},
     "output_type": "execute_result"
    }
   ],
   "source": [
    "# Sanity check: compute the CDF of zero given parameters\n",
    "d = stats.norm(loc=r_tau, scale=sigma_Z)\n",
    "d.cdf(0)"
   ]
  },
  {
   "cell_type": "markdown",
   "id": "eb4fc538-4253-412d-b2ba-09ad4db6a555",
   "metadata": {},
   "source": [
    "So we have about a 12% chance of getting a negative return. We can think of this as a Bernoulli distributed random variable, with probability of \"success\" (i.e. seeing the negative output) as 12%.\n",
    "\n",
    "Fun fact: the number of Bernoulli draws required before seeing a success follows a [geometric distribution](https://en.wikipedia.org/wiki/Geometric_distribution). The probability that we require $k$ draws to get a single success is:\n",
    "\n",
    "$$P(X = k) = (1 - p)^{k-1} p$$\n",
    "\n",
    "This formula should look very reasonable: We fail (with probably $1 - p$) $k-1$ times, then succeed (with probability $p$). So it's just counting the Bernoulli trials.\n",
    "\n",
    "Anyway, given $X \\sim \\text{Geometric}(p)$, $\\mathbb E[X] = \\frac{1}{p}$.\n",
    "\n",
    "So on average, we expect our portfolio to lose money every $\\frac{1}{0.154} = 6.5$ years"
   ]
  },
  {
   "cell_type": "code",
   "execution_count": 13,
   "id": "aaf1fc3f-b45a-4c4a-b726-825fb8094cdc",
   "metadata": {},
   "outputs": [
    {
     "name": "stdout",
     "output_type": "stream",
     "text": [
      "Expected years before negative return: 6.497725795971409\n"
     ]
    }
   ],
   "source": [
    "print(f'Expected years before negative return: {1 / p_negative}')"
   ]
  },
  {
   "cell_type": "markdown",
   "id": "3f5011d4-e4dd-4dff-a20f-ab2337e9e9f0",
   "metadata": {},
   "source": [
    "## Question 3.3\n",
    "\n",
    "Re-do question 3.2, but assume returns are Student T distributed, with $\\nu = 3$.\n",
    "\n",
    "The Student T has the same shifting and scaling rules as the Normal, so we can just recycle our answers of $\\mu_Z = 0.07$ and $\\sigma_Z = 0.06857$. \n",
    "\n",
    "What changes is the probabilities. We have to go looking in the T-table instead of the Z-table for $P[Z \\leq \\frac{-\\mu_Z}{\\sigma_Z} = -1.021]$. Doing the absolute value thing and checking the row for $\\nu = 3$, we find it's something like $1 - 0.81 = 0.19$.\n",
    "\n",
    "So the number of years before a negative return is $\\frac{1}{0.19} = 5.2$ years"
   ]
  },
  {
   "cell_type": "code",
   "execution_count": 14,
   "id": "887e863f-510f-4481-ba58-ce67fe5cde0a",
   "metadata": {},
   "outputs": [
    {
     "data": {
      "text/plain": [
       "5.2631578947368425"
      ]
     },
     "execution_count": 14,
     "metadata": {},
     "output_type": "execute_result"
    }
   ],
   "source": [
    "1 / 0.19"
   ]
  },
  {
   "cell_type": "code",
   "execution_count": 15,
   "id": "0bc75aae-ea50-4ef5-8de5-226b2bb27d85",
   "metadata": {},
   "outputs": [
    {
     "data": {
      "text/plain": [
       "0.1912385615598606"
      ]
     },
     "execution_count": 15,
     "metadata": {},
     "output_type": "execute_result"
    }
   ],
   "source": [
    "# Sanity check: precise CDF for a student T\n",
    "d = stats.t(df=3, loc=r_tau, scale=sigma_Z)\n",
    "d.cdf(0)\n",
    "\n",
    "# The guess of 0.19 was really good!"
   ]
  },
  {
   "cell_type": "markdown",
   "id": "c20299df-cf21-42f0-ac05-1a5614c038ad",
   "metadata": {},
   "source": [
    "## Question 3.4\n",
    "\n",
    "Assuming returns are Gaussian/Student T, what should the portfolio weight $\\tau$ be, such that the expected probablity of a loss is every 30 years?\n",
    "\n",
    "We need to work backwards. We want to choose $p$ such that $30 = \\frac{1}{p}$, or $p = \\frac{1}{30}$\n",
    "\n",
    "So we want $P[Z \\leq z] = \\frac{1}{30} = 0.033$. We don't have small probabilities in the Z-table, so we have to instead look up $1 - 0.033 = 0.966$. We're doing a reverse lookup, so look for the closest probability to 0.966 then read out the associated z-score. It ends up being 1.83, but we need the right side, not the left side, so make it negative: $z = -1.83$. \n",
    "\n",
    "(This operation is called the **inverse CDF**, or the **probit function**)\n",
    "\n",
    "Now that's a Z-score, we need to translate it to our distribution, which we can do with the usual formula:\n",
    "\n",
    "$$z = \\frac{x - \\mu}{\\sigma}$$\n",
    "\n",
    "Solve for $x$:\n",
    "\n",
    "$$ x = \\mu + \\sigma z$$\n",
    "\n",
    "(You should recoginize this formula as a shift and a scaling of a standard normal! Remember that we always have $Z \\sim N(0, 1)$, and if $Y = \\mu + \\sigma Z$ then $Y \\sim N(\\mu, \\sigma^2)$)\n",
    "\n",
    "What is $x$? Acutally it should be zero -- remember what we're doing: we're going to choose $\\mu$ and $\\sigma$ (by choosing weight $\\tau$) so that there's a negative return every 30 years. We found the z-score associated with a 1-in-30 years event, now we need to find the $\\mu$ and $\\sigma$ that make it happen when $X < x$.\n",
    "\n",
    "Ok, so sub in the formula for $r_Z$ and $\\sigma_Z$:\n",
    "\n",
    "$$0 = \\tau \\tilde r_p + (1 - \\tau) \\tilde r_f + \\tau \\sigma_p z $$\n",
    "\n",
    "And solve for tau:\n",
    "\n",
    "$$ \\begin{align}\n",
    "\\tau & = -\\frac{r_f}{r_p - r_f + \\sigma_p z} \\\\\n",
    "\\tau &= -\\frac{0.03}{0.1 - 0.03 - 0.12 \\cdot 1.83} \\\\\n",
    "\\tau &= 0.2 \\end{align}$$\n"
   ]
  },
  {
   "cell_type": "code",
   "execution_count": 16,
   "id": "6b2ea74e-a2f2-41e8-8876-44c5860717ba",
   "metadata": {},
   "outputs": [
    {
     "name": "stdout",
     "output_type": "stream",
     "text": [
      "Z-score associated with p = 1 / 30: -1.8339146358159146\n",
      "Portfolio weight for negative returns every 30 years (Guassian): 0.19990703483549174\n"
     ]
    }
   ],
   "source": [
    "d = stats.norm(loc=0, scale=1)\n",
    "# In scipy, the inverse cdf is called the ppf\n",
    "z = d.ppf(1/30)\n",
    "print(f'Z-score associated with p = 1 / 30: {z}')\n",
    "tau_30_year_gaussian = -r_f / (r_p - r_f + sigma_p * z)\n",
    "print(f'Portfolio weight for negative returns every 30 years (Guassian): {tau_30_year_gaussian}')\n",
    "# tau = 0.03 / (0.03 - d.ppf(1/30) * 0.0026 ** 0.5 - 0.06)\n",
    "# tau"
   ]
  },
  {
   "cell_type": "markdown",
   "id": "ac20dcc7-62cc-4a62-95e2-be4276e99dfd",
   "metadata": {},
   "source": [
    "For the Student-T distribution, all the math remains the same, we just have to change the inverse CDF function. Use scipy since the table in the back of the pamphlet isn't very percise:"
   ]
  },
  {
   "cell_type": "code",
   "execution_count": 17,
   "id": "beaadc57-fdda-4c34-a6ee-9831653957d6",
   "metadata": {},
   "outputs": [
    {
     "name": "stdout",
     "output_type": "stream",
     "text": [
      "Student T \"Z\"-score associated with p = 1 / 30: -2.8213010887017584\n",
      "Portfolio weight for negative returns every 30 years (Student T): 0.11170849061623045\n"
     ]
    }
   ],
   "source": [
    "d = stats.t(df=3, loc=0, scale=1)\n",
    "z = d.ppf(1/30)\n",
    "print(f'Student T \"Z\"-score associated with p = 1 / 30: {z}')\n",
    "tau_30_year_t = -r_f / (r_p - r_f + sigma_p * z)\n",
    "print(f'Portfolio weight for negative returns every 30 years (Student T): {tau_30_year_t}')\n"
   ]
  },
  {
   "cell_type": "markdown",
   "id": "858eb6c8-6f8e-4821-ace9-8c4d8ef30751",
   "metadata": {},
   "source": [
    "## Question 3.5\n",
    "\n",
    "At the 1-in-30 year portfolios weights, what is the average amount we could pay teachers? \n",
    "\n",
    "First, compute expected returns on the portfolios given the 1-in-30 year weights"
   ]
  },
  {
   "cell_type": "code",
   "execution_count": 18,
   "id": "cbee5278-cbc2-4727-80b0-56d82c98c8ec",
   "metadata": {},
   "outputs": [
    {
     "name": "stdout",
     "output_type": "stream",
     "text": [
      "Gaussian porfolio expected return: 0.043993492438484424\n",
      "T porfolio expected return: 0.03781959434313613\n"
     ]
    }
   ],
   "source": [
    "r_30_norm = tau_30_year_gaussian * r_p + (1 - tau_30_year_gaussian) * r_f\n",
    "r_30_t = tau_30_year_t * r_p + (1 - tau_30_year_t) * r_f\n",
    "\n",
    "print(f'Gaussian porfolio expected return: {r_30_norm}')\n",
    "print(f'T porfolio expected return: {r_30_t}')"
   ]
  },
  {
   "cell_type": "markdown",
   "id": "576e043d-0d6b-4d09-8163-dd589539eb2b",
   "metadata": {},
   "source": [
    "Multiply that by the assets under management to get our expected earnings"
   ]
  },
  {
   "cell_type": "code",
   "execution_count": 19,
   "id": "f8e38218-84a6-413a-9b23-7c8bc3fc3262",
   "metadata": {},
   "outputs": [
    {
     "name": "stdout",
     "output_type": "stream",
     "text": [
      "Expected income from investment (normal): €8.80 billion\n",
      "Expected income from investment (t): €7.56 billion\n"
     ]
    }
   ],
   "source": [
    "print(f'Expected income from investment (normal): €{r_30_norm * 200:0.2f} billion')\n",
    "print(f'Expected income from investment (t): €{r_30_t* 200:0.2f} billion')"
   ]
  },
  {
   "cell_type": "markdown",
   "id": "57b621d1-b696-43ce-b273-06d27a3c5af8",
   "metadata": {},
   "source": [
    "So we could afford to pay the teachers either 8.8 or 7.56 billion, depending on our distributional assumptions. \n",
    "\n",
    "Because we controled risk, we had to leave profits on the table. This is an example of a \"no free lunch\" situation."
   ]
  },
  {
   "cell_type": "markdown",
   "id": "4e2e993a-8b52-4c26-adb3-dcf55e44ae81",
   "metadata": {},
   "source": [
    "# Bonus Questions\n",
    "\n",
    "**Long-Short Strategy and Utility Maximization**\n",
    "\n",
    "We manage a fund that buys over-valued assets short and under-valued assets long. We have $W_0$ wealth under management. The assets have correlated risk $\\rho$. Here's the assets we have access to, plus a riskless asset that pays 3%. "
   ]
  },
  {
   "cell_type": "code",
   "execution_count": 20,
   "id": "4f66b4cd-f64e-4226-b9af-ed28d1e16be9",
   "metadata": {},
   "outputs": [
    {
     "data": {
      "text/html": [
       "<div>\n",
       "<style scoped>\n",
       "    .dataframe tbody tr th:only-of-type {\n",
       "        vertical-align: middle;\n",
       "    }\n",
       "\n",
       "    .dataframe tbody tr th {\n",
       "        vertical-align: top;\n",
       "    }\n",
       "\n",
       "    .dataframe thead th {\n",
       "        text-align: right;\n",
       "    }\n",
       "</style>\n",
       "<table border=\"1\" class=\"dataframe\">\n",
       "  <thead>\n",
       "    <tr style=\"text-align: right;\">\n",
       "      <th></th>\n",
       "      <th>price</th>\n",
       "      <th>mean</th>\n",
       "      <th>std</th>\n",
       "    </tr>\n",
       "  </thead>\n",
       "  <tbody>\n",
       "    <tr>\n",
       "      <th>Asset 1</th>\n",
       "      <td>10.0</td>\n",
       "      <td>0.05</td>\n",
       "      <td>0.15</td>\n",
       "    </tr>\n",
       "    <tr>\n",
       "      <th>Asset 2</th>\n",
       "      <td>100.0</td>\n",
       "      <td>0.15</td>\n",
       "      <td>0.20</td>\n",
       "    </tr>\n",
       "  </tbody>\n",
       "</table>\n",
       "</div>"
      ],
      "text/plain": [
       "         price  mean   std\n",
       "Asset 1   10.0  0.05  0.15\n",
       "Asset 2  100.0  0.15  0.20"
      ]
     },
     "execution_count": 20,
     "metadata": {},
     "output_type": "execute_result"
    }
   ],
   "source": [
    "data = np.array([[10, 0.05, 0.15],\n",
    "                 [100, 0.15, 0.2]])\n",
    "df = pd.DataFrame(data, index=['Asset 1', 'Asset 2'], columns=['price', 'mean', 'std'])\n",
    "df"
   ]
  },
  {
   "cell_type": "markdown",
   "id": "008c971e-9880-4d64-a763-59a75ec85575",
   "metadata": {},
   "source": [
    "## Question 4.1\n",
    "\n",
    "You believe that asset 1 is over-valued and asset 2 is under-valued. \n",
    "\n",
    "Which asset are you going to sell, and which are you going to buy?\n",
    "\n",
    "Well, since I think asset 1 is over-valued, I'm going to sell that (go short), and I'm going to buy asset 2 (go long)"
   ]
  },
  {
   "cell_type": "markdown",
   "id": "8f769411-052e-46ee-9b39-266f739fc457",
   "metadata": {},
   "source": [
    "## Question 4.2\n",
    "\n",
    "Determine the number of assets 1 and 2, $n_1$ and $n_2$, respectively, purchased and sold in the transaction. Assume that all proceeds from the shorts are used to take long positions. \n",
    "\n",
    "This is asking for the so-called \"self-financing constraint\". We just note that the money we generate from selling -- $n_1 P_1$ -- is equal to the money we spend from buying -- $n_2 P_2$. Putting it together:\n",
    "\n",
    "$$n_1 P_1 + n_2 P_2 = 0$$"
   ]
  },
  {
   "cell_type": "markdown",
   "id": "c291b788-0085-49aa-9f27-b37d1b036642",
   "metadata": {},
   "source": [
    "## Question 4.3 \n",
    "\n",
    "What is the expected return on the portfolio?\n",
    "\n",
    "We have three sources of income:\n",
    "\n",
    "1. Risk-free returns on initial wealth -- $W_0(1 + \\tilde r_f)$\n",
    "2. Returns from short-selling asset 1 -- $(1 + \\tilde r_1) n_1 P_1$\n",
    "3. Returns from buying and holding asset 2 -- $(1 + \\tilde r_2) n_2 P_2$\n",
    "\n",
    "We begin with $W_0$, so we want the change in wealth from that point of comparison:\n",
    "\n",
    "$$r_p = \\frac{W_0(1 + \\tilde r_f) + (1 + \\tilde r_1) n_1 P_1 + (1 + \\tilde r_2) n_2 P_2}{W_0} - 1$$\n",
    "\n",
    "Expand the fraction:\n",
    "\n",
    "$$ r_p = (1 + \\tilde r_f) + \\frac{(1 + \\tilde r_1) n_1 P_1}{W_0} + \\frac{(1 + \\tilde r_2) n_2 P_2}{W_0} - 1 $$\n",
    "\n",
    "We're asked to define the size of the long-short position as $\\delta = \\frac{n_2 P_2 }{W_0}$:\n",
    "\n",
    "$$ r_p = \\tilde r_f + \\frac{(1 + \\tilde r_1) n_1 P_1}{W_0} + \\delta (1 + \\tilde r_2)$$\n",
    "\n",
    "Re-write $n_1 P_1$ as $-n_2 P_2$ (this comes from the self-financing constraint). That will let us make anther delta substitution:\n",
    "\n",
    "$$\\begin{align}\n",
    "r_p &= \\tilde r_f -\\frac{(1 + \\tilde r_1) n_2 P_2}{W_0} + \\delta (1 + \\tilde r_2) \\\\\n",
    "r_p &= \\tilde r_f -\\delta(1 + \\tilde r_1) + \\delta(1 + \\tilde r_2) \\\\\n",
    "r_p &= \\tilde r_f + \\delta(\\tilde r_2 - \\tilde r_1)\n",
    "\\end{align}\n",
    "$$\n"
   ]
  },
  {
   "cell_type": "markdown",
   "id": "866a52e2-6a3c-4338-92e7-edc252725ff9",
   "metadata": {},
   "source": [
    "## Question 4.4 \n",
    "\n",
    "Determine the expected return and volatility of this portfolio.\n",
    "\n",
    "We need to know the [convolution of normals formula](https://en.wikipedia.org/wiki/Sum_of_normally_distributed_random_variables). Given two **independent** random variables $X \\sim N(\\mu_X, \\sigma_X^2)$ and $Y \\sim N(\\mu_Y, \\sigma_Y^2)$, then a new random variable $Z = X + Y$ will be $Z \\sim N(\\mu_X + \\mu_Y, \\sigma_X^2 + \\sigma_Y^2)$\n",
    "\n",
    "(Exercise for the motivated reader: Use the rules of linear transfomation of Normals to get the result for $Z = X - Y$ by considering $Z = X + U$ and $U = aY$ with $a = -1$)\n",
    "\n",
    "Actually though, we were told that $\\tilde r_1$ and $\\tilde r_2$ are correlated, so actually we will have $Z = \\tilde r_2 - \\tilde r_1$ will be $Z \\sim N(\\mu_2 - \\mu_1, \\sigma_1^2 + \\sigma_2^2 - 2\\rho\\sigma_1\\sigma_2)$ \n",
    "\n",
    "But that's not quite our porfolio return, we also need to shift by $\\tilde r_f$ and scale by $\\delta$. We have to use those formulas for shifting and scaling a normal distribution again (scroll up to check them again if you forgot). We will end up with the final answer:\n",
    "\n",
    "$$\\begin{align}r_p &\\sim N(\\mu_p, \\sigma^2_p) \\\\\n",
    "                \\mu_p &= \\tilde r_f + \\delta(\\mu_2 - \\mu_1) \\\\\n",
    "                \\sigma_p^2 &= \\delta^2(\\sigma_1^2 + \\sigma_2^2 - 2\\rho\\sigma_1\\sigma_2)\n",
    "\\end{align}$$\n",
    "                "
   ]
  },
  {
   "cell_type": "markdown",
   "id": "1b47909d-e884-4abd-8c6c-d5bd98448f01",
   "metadata": {},
   "source": [
    "## Question 4.5\n",
    "\n",
    "Determine the optimal strategy formula for long and short positiosn to maximize the mean-variance utility function\n",
    "\n",
    "So our utility function is:\n",
    "\n",
    "$$ U = \\mu_p - \\frac{A}{2} \\sigma^2_p$$\n",
    "\n",
    "And we want to maximize this by choosing $\\delta$. Why delta? Well actually we want to choose quantities $n_1,n_2$, and we could set up a constrained optimization with the self-financing constraint... or we can just realize that $\\delta$ compeltely summarizes all this information. Given $\\delta$, we can work backwards and get $n_1$ and $n_2$. So maximizing with respect to $\\delta$ saves a lot of steps.\n",
    "\n",
    "(Going through those steps is left as an exercise to the motivated reader)\n",
    "\n",
    "$$\\max_{\\delta} \\tilde r_f + \\delta(\\mu_2 - \\mu_1) - \\frac{A}{2}\\delta^2(\\sigma_1^2 + \\sigma_2^2 - 2\\rho\\sigma_1\\sigma_2)$$\n",
    "\n",
    "Do the usual maximization dance: derivative, set zero, solve.\n",
    "\n",
    "$$\\begin{align}\n",
    "(\\mu_2 - \\mu_1) - A\\delta(\\sigma_1^2 + \\sigma_2^2 - 2\\rho\\sigma_1\\sigma_2) &= 0 \\\\\n",
    "\\delta &= \\frac{\\mu_2 - \\mu_1}{A(\\sigma_1^2 + \\sigma_2^2 - 2\\rho\\sigma_1\\sigma_2)}\n",
    "\\end{align}$$"
   ]
  },
  {
   "cell_type": "markdown",
   "id": "6392ce9a-d488-40e0-8f4d-560a00e5f94d",
   "metadata": {},
   "source": [
    "## Question 4.6\n",
    "\n",
    "Calculate a numerical value for $\\delta$ when $\\rho = 0.1$ and $A = 3$"
   ]
  },
  {
   "cell_type": "code",
   "execution_count": 21,
   "id": "514a141a-f34b-41b5-a4c9-74ce4dd631f4",
   "metadata": {},
   "outputs": [],
   "source": [
    "def delta_star(A, rho, mu1, mu2, sigma1, sigma2):\n",
    "    numer = mu2 - mu1\n",
    "    denom = A * (sigma1 ** 2 + sigma2 ** 2 - 2 * rho * sigma1 * sigma2)\n",
    "    return numer / denom"
   ]
  },
  {
   "cell_type": "code",
   "execution_count": 22,
   "id": "70479245-0d9b-4e49-a3e7-330ea3ce8c93",
   "metadata": {},
   "outputs": [
    {
     "name": "stdout",
     "output_type": "stream",
     "text": [
      "Optimum alllocation to Asset 2 when A=3, ρ=0.1: 58.997%\n"
     ]
    }
   ],
   "source": [
    "mu1, mu2 = df['mean'].values\n",
    "sigma1, sigma2 = df['std'].values\n",
    "\n",
    "δ_star = delta_star(A=3, rho=0.1, mu1=mu1, mu2=mu2, sigma1=sigma1, sigma2=sigma2)\n",
    "print(f'Optimum alllocation to Asset 2 when A=3, ρ=0.1: {δ_star:0.3%}')"
   ]
  },
  {
   "cell_type": "markdown",
   "id": "9e00a641-c96e-4782-af6d-2bfc015600f2",
   "metadata": {},
   "source": [
    "## Question 4.7\n",
    "\n",
    "I disagree with this question somewhat. What we **really** want is a negative correlation between the two assets. This implies that when one goes up, the other goes down, which would augment the expected returns of our strategy (since we're essentailly betting on the two assets diverging).\n",
    "\n",
    "If we suppose that we can't have that, we might settle for a low correlation coefficient. At any rate, the point is that what we really don't want is strong correlation, because then we won't ever get the \"separation\" we seek. That is, if the assets are strongly correlated, one position or the other will always be losing us money."
   ]
  },
  {
   "cell_type": "markdown",
   "id": "655dd64d-082d-4f95-afd4-cbfa7331f9df",
   "metadata": {},
   "source": [
    "## Question 4.8\n",
    "\n",
    "Assume $\\rho = 0$. Compute comparative statics for $\\delta^\\star$ with respect to $A, \\mu_2, \\sigma_1, \\sigma_2$"
   ]
  },
  {
   "cell_type": "code",
   "execution_count": 23,
   "id": "a8c09d7c-e409-4184-a9d7-4daff571dca4",
   "metadata": {},
   "outputs": [],
   "source": [
    "# I'll use sympy to handle the derivatives\n",
    "import sympy as sp\n",
    "A, mu1, mu2, sigma1, sigma2 = sp.symbols('A, mu_1, mu_2, sigma_1, sigma_2')\n",
    "d_star = sp.Symbol('\\delta^\\star')\n",
    "d_expr = delta_star(A, 0, mu1, mu2, sigma1, sigma2)"
   ]
  },
  {
   "cell_type": "code",
   "execution_count": 24,
   "id": "3833b144-d627-4b3a-9c68-8fbe4fe8fe6d",
   "metadata": {},
   "outputs": [
    {
     "data": {
      "text/latex": [
       "$\\displaystyle \\delta^{\\star} = \\frac{- \\mu_{1} + \\mu_{2}}{A \\left(\\sigma_{1}^{2} + \\sigma_{2}^{2}\\right)}$"
      ],
      "text/plain": [
       "Eq(\\delta^\\star, (-mu_1 + mu_2)/(A*(sigma_1**2 + sigma_2**2)))"
      ]
     },
     "execution_count": 24,
     "metadata": {},
     "output_type": "execute_result"
    }
   ],
   "source": [
    "sp.Eq(d_star, d_expr)"
   ]
  },
  {
   "cell_type": "markdown",
   "id": "acf3ffad-7267-4d59-a7e7-7f23ce515499",
   "metadata": {},
   "source": [
    "### A\n",
    "\n",
    "A itself is always positive (as well as the variances), so the denominator is always postitve. The sign of the numerator depends on the difference in the expected returns of the two assets. In our case, we have $\\mu_1 < \\mu_2$, so this expression is strictly negative. As we become more risk averse, we reduce our long-short position.  "
   ]
  },
  {
   "cell_type": "code",
   "execution_count": 25,
   "id": "e285cb25-1caa-4147-b6da-c4417bfcb192",
   "metadata": {
    "scrolled": true
   },
   "outputs": [
    {
     "data": {
      "text/latex": [
       "$\\displaystyle \\frac{d}{d A} \\delta^{\\star} = \\frac{\\mu_{1} - \\mu_{2}}{A^{2} \\left(\\sigma_{1}^{2} + \\sigma_{2}^{2}\\right)}$"
      ],
      "text/plain": [
       "Eq(Derivative(\\delta^\\star, A), (mu_1 - mu_2)/(A**2*(sigma_1**2 + sigma_2**2)))"
      ]
     },
     "execution_count": 25,
     "metadata": {},
     "output_type": "execute_result"
    }
   ],
   "source": [
    "sp.Eq(sp.diff(d_star, A, evaluate=False), d_expr.diff(A).simplify())"
   ]
  },
  {
   "cell_type": "markdown",
   "id": "cebc728d-f57b-4dc7-82e6-cae26146e56f",
   "metadata": {},
   "source": [
    "### $\\mu_2$\n",
    "\n",
    "Recall that $\\mu_2$ is the return on our long position, so we want it to go higher. As it does, we take a larger long-short position. (The reverse would be true for $\\mu_1$)"
   ]
  },
  {
   "cell_type": "code",
   "execution_count": 26,
   "id": "f17e2581-d376-4f3d-a17f-b6c387aca1ef",
   "metadata": {},
   "outputs": [
    {
     "data": {
      "text/latex": [
       "$\\displaystyle \\frac{d}{d \\mu_{2}} \\delta^{\\star} = \\frac{1}{A \\left(\\sigma_{1}^{2} + \\sigma_{2}^{2}\\right)}$"
      ],
      "text/plain": [
       "Eq(Derivative(\\delta^\\star, mu_2), 1/(A*(sigma_1**2 + sigma_2**2)))"
      ]
     },
     "execution_count": 26,
     "metadata": {},
     "output_type": "execute_result"
    }
   ],
   "source": [
    "sp.Eq(sp.diff(d_star, mu2, evaluate=False), d_expr.diff(mu2).simplify())"
   ]
  },
  {
   "cell_type": "markdown",
   "id": "5ee45657-e30d-41bf-bd3c-77c399f54676",
   "metadata": {},
   "source": [
    "### $\\sigma_1$, $\\sigma_2$\n",
    "\n",
    "Analyis of these are symmetrical.\n",
    "\n",
    "Once agin, because $\\mu_2 > \\mu_1$, this expression is strictly negative. This makes sense, because, holding risk tolerance and returns fixed, we expect an investor to take a smaller position if the risk increases."
   ]
  },
  {
   "cell_type": "code",
   "execution_count": 27,
   "id": "b813345b-8ca8-48f2-8bed-97ede9ddeb06",
   "metadata": {},
   "outputs": [
    {
     "data": {
      "text/latex": [
       "$\\displaystyle \\frac{d}{d \\sigma_{1}} \\delta^{\\star} = \\frac{2 \\sigma_{1} \\left(\\mu_{1} - \\mu_{2}\\right)}{A \\left(\\sigma_{1}^{2} + \\sigma_{2}^{2}\\right)^{2}}$"
      ],
      "text/plain": [
       "Eq(Derivative(\\delta^\\star, sigma_1), 2*sigma_1*(mu_1 - mu_2)/(A*(sigma_1**2 + sigma_2**2)**2))"
      ]
     },
     "execution_count": 27,
     "metadata": {},
     "output_type": "execute_result"
    }
   ],
   "source": [
    "sp.Eq(sp.diff(d_star, sigma1, evaluate=False), d_expr.diff(sigma1).simplify())"
   ]
  },
  {
   "cell_type": "code",
   "execution_count": 28,
   "id": "94038f7f-8eda-40a6-a688-5fd060906445",
   "metadata": {},
   "outputs": [
    {
     "data": {
      "text/latex": [
       "$\\displaystyle \\frac{d}{d \\sigma_{2}} \\delta^{\\star} = \\frac{2 \\sigma_{2} \\left(\\mu_{1} - \\mu_{2}\\right)}{A \\left(\\sigma_{1}^{2} + \\sigma_{2}^{2}\\right)^{2}}$"
      ],
      "text/plain": [
       "Eq(Derivative(\\delta^\\star, sigma_2), 2*sigma_2*(mu_1 - mu_2)/(A*(sigma_1**2 + sigma_2**2)**2))"
      ]
     },
     "execution_count": 28,
     "metadata": {},
     "output_type": "execute_result"
    }
   ],
   "source": [
    "sp.Eq(sp.diff(d_star, sigma2, evaluate=False), d_expr.diff(sigma2).simplify())"
   ]
  },
  {
   "cell_type": "markdown",
   "id": "fbaa92a6-5c6e-4a39-a719-388df615d51e",
   "metadata": {},
   "source": [
    "## Question 4.9\n",
    "\n",
    "We're going to change the financing structure for the next three quetsions. We no longer have the self-financing constraint. We're going to:\n",
    "\n",
    "1. Have $W_0$ invested in the risk-free asset that yields $\\tilde r_f$\n",
    "2. We will sell short the over-valued Asset 1, but then invest the proceeds $n_1 P_1$ into the risk-free asset\n",
    "3. We will borrow money at the market rate $r_f$ to finance our long position of the undervalued Asset 2.\n",
    "\n",
    "Other elements of the setup remain the same.\n",
    "\n",
    "**Question:** Express returns of the portfolio using $\\delta_1 = -\\frac{n_1 P_1}{W_0}$ and $\\delta_2 = -\\frac{n_2 P_2}{W_0}$\n",
    "\n",
    "(__Jesse Note__: I think maybe it should read $\\delta_2 = \\frac{n_2 P_2}{W_0}$, otherwise the final expression doesn't make sense.)\n",
    "\n",
    "We need to think about our income streams one at a time, as before. We make:\n",
    "\n",
    "1. $(1 + r_f) W_0$ from our initial investments\n",
    "2. $-n_1 P_1 (1 + r_f)$ from our re-investment of short-sale profits (negative because we think of $n_1$ as negative, so this needs to be positive)\n",
    "3. $n_1 P_1 (1 + r_1)$ from holding the short position for 1 period\n",
    "4. $n_2 P_2 (1 + r_2)$ from holding the long position for 1 period\n",
    "5. $-n_2 P_2 (1 + r_f)$ is interest on the loan we took to fund the long position\n",
    "\n",
    "As before, add this all together and find the percent change from $W_0$ to get the total return:\n",
    "\n",
    "$$r_p = \\frac{(1 + r_f) W_0 - n_1 P_1 (1 + r_f) + n_1 P_1 (1 + r_1) + n_2 P_2 (1 + r_2) - n_2 P_2 (1 + r_f)}{W_0} - 1$$\n",
    "\n",
    "Expand the fraction and gather like terms:\n",
    "\n",
    "$$\\begin{align}\n",
    "r_p &= \\frac{(1 + r_f)W_0}{W_0} - 1 + \\frac{(1 + r_1) n_1 P_1 - (1 + r_f) n_1 P_1)}{W_0} + \\frac{(1 + r_2) n_2 P_2 - (1 + r_f)n_2 P_2}{W_0}\\\\\n",
    "r_p &= r_f + \\frac{(r_1 - r_f)n_1 P_1}{W_0} + \\frac{(r_2 - r_f)n_2 P_2}{W_0}\n",
    "\\end{align}$$\n",
    "\n",
    "Lastly use the definitions of $\\delta_1$ and $\\delta_2$:\n",
    "\n",
    "$$ r_p = r_f - \\delta_1(r_1 - r_f) + \\delta_2(r_2 - r_f)$$"
   ]
  },
  {
   "cell_type": "markdown",
   "id": "76c24e82-3c66-4357-a2ce-304295431402",
   "metadata": {},
   "source": [
    "## Question 4.10\n",
    "\n",
    "Choose $\\delta_1$ and $\\delta_2$ to maximize mean-variance utility.\n",
    "\n",
    "First, we need the mean and variance of $r_p$. We will proceed in steps.\n",
    "\n",
    "**1. Find the component distributions**\n",
    "\n",
    "Define $X \\sim N(\\mu_1, \\sigma_1^2)$. Find the distribution of $\\bar X = \\delta_1 X + \\delta_1 r_f$.\n",
    "\n",
    "This is just shifting and scaling, so $\\bar X \\sim N(\\delta_1\\mu_1 + \\delta_1 r_f, \\delta_1^2\\sigma_1^2)$\n",
    "\n",
    "Similarly, define $Y \\sim N(\\mu_2, \\sigma_2^2)$. We seek the distribution of $\\bar Y = \\delta_2 r_2 - \\delta_2 r_f$.\n",
    "\n",
    "By the same logic, $\\bar Y \\sim N(\\delta_2 \\mu_2 - \\delta_2 r_f, \\delta_2^2 \\sigma_2^2)$\n",
    "\n",
    "**2. Add the components with convolution formula**\n",
    "\n",
    "Don't worry about the $r_f$ out front for now. We need to get:\n",
    "\n",
    "$$ Z = \\bar Y - \\bar X$$\n",
    "\n",
    "From the convolution formula, we know the distribution of $Z$ will be:\n",
    "\n",
    "$$Z \\sim N(\\mu_Y - \\mu_X, \\sigma^2_X + \\sigma^2_Y - 2 \\rho \\sigma_X \\sigma_Y)$$\n",
    "\n",
    "Plugging in values, we find:\n",
    "$$\\begin{align}\n",
    "\\mu_Z &= \\delta_2 \\mu_2 - \\delta_2 r_f - \\delta_1 \\mu_1 + \\delta_1 r_f \\\\\n",
    "\\sigma_Z^2 &= \\delta_2^2 \\sigma_2^2 + \\delta_1^2\\sigma_1^2 - 2 \\rho \\delta_2\\sigma_2 \\delta_1 \\sigma_1 \\end{align}\n",
    "$$\n",
    "\n",
    "We can clean up $\\mu_Z$ a bit:\n",
    "\n",
    "$$\\mu_Z = -\\delta_1(\\mu_1 - r_f) + \\delta_2(\\mu_2 - r_f)$$\n",
    "\n",
    "**3. Shift by $r_f$**\n",
    "\n",
    "The last thing is to include the $r_f$ term we ignored. After all this, we know $r_p = r_f + Z$. This is just a shift by a constant value, so we just add it to the mean (the variance is unchanged). The distribution of $r_p$ is then:\n",
    "\n",
    "$$\\begin{align}r_p &\\sim N(\\mu_p, \\sigma_p^2) \\\\ \n",
    "\\mu_p &= r_f - \\delta_1(\\mu_1 - r_f) + \\delta_2(\\mu_2 - r_f) \\\\\n",
    "\\sigma_p^2 &= \\delta_2^2 \\sigma_2^2 + \\delta_1^2\\sigma_1^2 - 2 \\rho \\delta_2\\sigma_2 \\delta_1 \\sigma_1\n",
    "\\end{align}$$"
   ]
  },
  {
   "cell_type": "markdown",
   "id": "d2294611-26e7-4a51-95eb-1f32627468f1",
   "metadata": {},
   "source": [
    "#### Utility Maximization\n",
    "\n",
    "We're finally ready to maximize utility with respect to $\\delta_1$ and $\\delta_2$:\n",
    "\n",
    "$$\n",
    "\\begin{align}\n",
    "\\max_{\\delta_1, \\delta_2} \\mu_p - \\frac{A}{2}\\sigma^2_p \\\\\n",
    "\\max_{\\delta_1, \\delta_2} r_f - \\delta_1(\\mu_1 - r_f) + \\delta_2(\\mu_2 - r_f) - \\frac{A}{2}(\\delta_2^2 \\sigma_2^2 + \\delta_1^2\\sigma_1^2 - 2 \\rho \\delta_2\\sigma_2 \\delta_1 \\sigma_1)\n",
    "\\end{align}\n",
    "$$\n",
    "\n",
    "We will have two first order conditions, one for $\\delta_1$ and one for $\\delta_2$:\n",
    "\n",
    "$$\\frac{\\partial U}{\\partial \\delta_1} = 0 \\implies -\\mu_1 - r_f - A (\\delta_1\\sigma_1^2 - \\rho \\delta_2\\sigma_2\\sigma_1) = 0$$\n",
    "\n",
    "$$\\frac{\\partial U}{\\partial \\delta_2} = 0 \\implies \\mu_2 + r_f - A (\\delta_2\\sigma_2^2 - \\rho \\delta_1\\sigma_2\\sigma_1) = 0$$\n",
    "\n",
    "We have two equations and two unknowns, so we can solve this system. Re-arrage the first equation to solve for $\\delta_1$, and the second to solve for $\\delta_2$:\n",
    "\n",
    "$$\\begin{align}\n",
    "\\delta_1 &= -\\frac{\\mu_1 - r_f}{A \\sigma_1^2} + \\frac{\\sigma_2}{\\sigma_1}\\rho\\delta_2\\\\\n",
    "\\delta_2 &= \\frac{\\mu_2 - r_f}{A\\sigma_2^2} + \\frac{\\sigma_1}{\\sigma_2}\\rho\\delta_1\n",
    "\\end{align}$$\n",
    "\n",
    "Then plug one into the other to get a final expression (I plug $\\delta_2$ into $\\delta_1$):\n",
    "\n",
    "$$\\begin{align}\n",
    "\\delta_1 &= -\\frac{\\mu_1 - r_f}{A \\sigma_1^2} + \\frac{\\sigma_2}{\\sigma_1}\\rho\\left(\\frac{\\mu_2 - r_f}{A\\sigma_2^2} + \\frac{\\sigma_1}{\\sigma_2}\\rho\\delta_1 \\right)\\\\\n",
    "\\delta_1 &= -\\frac{\\mu_1 - r_f}{A \\sigma_1^2} + \\rho \\frac{\\mu_2 - r_f}{A\\sigma_1\\sigma_2} + \\rho^2 \\delta_1 \\\\\n",
    "(1 - \\rho^2)\\delta_1 &= -\\frac{\\mu_1 - r_f}{A \\sigma_1^2} + \\rho \\frac{\\mu_2 - r_f}{A\\sigma_1\\sigma_2} \\\\\n",
    "\\delta_1 &= -\\frac{\\mu_1 - r_f}{(1 - \\rho^2) A \\sigma_1^2} + \\frac{\\rho}{1 - \\rho^2} \\frac{\\mu_2 - r_f}{A\\sigma_1\\sigma_2}\n",
    "\\end{align}$$\n",
    "\n",
    "Notice that the problem would be totally symmeterical if you plugged $\\delta_1$ into $\\delta_2$ isntead, so you can directly write that answer down by pattern matching:\n",
    "\n",
    "$$\\delta_2 = \\frac{\\mu_2 - r_f}{(1 - \\rho^2) A \\sigma_2^2} - \\frac{\\rho}{1 - \\rho^2} \\frac{\\mu_1 - r_f}{A\\sigma_1\\sigma_2}$$"
   ]
  },
  {
   "cell_type": "markdown",
   "id": "c90acfaa-a3be-4e22-bb51-65ee1f057a47",
   "metadata": {},
   "source": [
    "## Question 4.11\n",
    "\n",
    "Set $\\rho = 0$ and discuss the formulas for $\\delta_1, \\delta_2$.\n",
    "\n",
    "If $\\rho = 0$, then:\n",
    "\n",
    "$$\\begin{align}\n",
    "\\delta_1 &= -\\frac{\\mu_1 - r_f}{A \\sigma_1^2} \\\\\n",
    "\\delta_2 &= \\frac{\\mu_2 - r_f}{A \\sigma_2^2}\n",
    "\\end{align}$$\n",
    "\n",
    "The shares alloted to each \"side\" of the long-short position increase if the returns move in the direction we bet (we buy more long if $\\mu_2$ goes up, we sell more short if $\\mu_1$ does down). We also reduce our positions if the variance (risk) of either asset goes up. Finally, if our appetite for risk goes down (A goes up), we take smaller positions on both sides of the bet. "
   ]
  },
  {
   "cell_type": "code",
   "execution_count": null,
   "id": "be2015bf-924e-41ce-ab73-892b5e00592f",
   "metadata": {},
   "outputs": [],
   "source": []
  }
 ],
 "metadata": {
  "kernelspec": {
   "display_name": "Python 3 (ipykernel)",
   "language": "python",
   "name": "python3"
  },
  "language_info": {
   "codemirror_mode": {
    "name": "ipython",
    "version": 3
   },
   "file_extension": ".py",
   "mimetype": "text/x-python",
   "name": "python",
   "nbconvert_exporter": "python",
   "pygments_lexer": "ipython3",
   "version": "3.10.12"
  },
  "toc": {
   "base_numbering": 1,
   "nav_menu": {},
   "number_sections": true,
   "sideBar": true,
   "skip_h1_title": false,
   "title_cell": "Table of Contents",
   "title_sidebar": "Contents",
   "toc_cell": false,
   "toc_position": {},
   "toc_section_display": true,
   "toc_window_display": false
  }
 },
 "nbformat": 4,
 "nbformat_minor": 5
}
