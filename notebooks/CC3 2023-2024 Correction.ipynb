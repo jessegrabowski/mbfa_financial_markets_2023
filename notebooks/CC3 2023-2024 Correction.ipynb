{
 "cells": [
  {
   "cell_type": "markdown",
   "id": "05fd419e",
   "metadata": {
    "toc": true
   },
   "source": [
    "<h1>Table of Contents<span class=\"tocSkip\"></span></h1>\n",
    "<div class=\"toc\"><ul class=\"toc-item\"><li><span><a href=\"#Question-1\" data-toc-modified-id=\"Question-1-1\"><span class=\"toc-item-num\">1&nbsp;&nbsp;</span>Question 1</a></span><ul class=\"toc-item\"><li><span><a href=\"#Question-1a\" data-toc-modified-id=\"Question-1a-1.1\"><span class=\"toc-item-num\">1.1&nbsp;&nbsp;</span>Question 1a</a></span></li><li><span><a href=\"#Question-1b\" data-toc-modified-id=\"Question-1b-1.2\"><span class=\"toc-item-num\">1.2&nbsp;&nbsp;</span>Question 1b</a></span></li><li><span><a href=\"#Question-1c\" data-toc-modified-id=\"Question-1c-1.3\"><span class=\"toc-item-num\">1.3&nbsp;&nbsp;</span>Question 1c</a></span></li><li><span><a href=\"#Question-1d\" data-toc-modified-id=\"Question-1d-1.4\"><span class=\"toc-item-num\">1.4&nbsp;&nbsp;</span>Question 1d</a></span></li></ul></li><li><span><a href=\"#Question-2\" data-toc-modified-id=\"Question-2-2\"><span class=\"toc-item-num\">2&nbsp;&nbsp;</span>Question 2</a></span><ul class=\"toc-item\"><li><span><a href=\"#Question-2a\" data-toc-modified-id=\"Question-2a-2.1\"><span class=\"toc-item-num\">2.1&nbsp;&nbsp;</span>Question 2a</a></span></li><li><span><a href=\"#Question-2b\" data-toc-modified-id=\"Question-2b-2.2\"><span class=\"toc-item-num\">2.2&nbsp;&nbsp;</span>Question 2b</a></span></li></ul></li><li><span><a href=\"#Question-3\" data-toc-modified-id=\"Question-3-3\"><span class=\"toc-item-num\">3&nbsp;&nbsp;</span>Question 3</a></span><ul class=\"toc-item\"><li><span><a href=\"#Question-3a\" data-toc-modified-id=\"Question-3a-3.1\"><span class=\"toc-item-num\">3.1&nbsp;&nbsp;</span>Question 3a</a></span></li><li><span><a href=\"#Question-3b\" data-toc-modified-id=\"Question-3b-3.2\"><span class=\"toc-item-num\">3.2&nbsp;&nbsp;</span>Question 3b</a></span></li><li><span><a href=\"#Question-3c\" data-toc-modified-id=\"Question-3c-3.3\"><span class=\"toc-item-num\">3.3&nbsp;&nbsp;</span>Question 3c</a></span></li></ul></li><li><span><a href=\"#Question-4\" data-toc-modified-id=\"Question-4-4\"><span class=\"toc-item-num\">4&nbsp;&nbsp;</span>Question 4</a></span><ul class=\"toc-item\"><li><span><a href=\"#Question-4a\" data-toc-modified-id=\"Question-4a-4.1\"><span class=\"toc-item-num\">4.1&nbsp;&nbsp;</span>Question 4a</a></span></li><li><span><a href=\"#Question-4b\" data-toc-modified-id=\"Question-4b-4.2\"><span class=\"toc-item-num\">4.2&nbsp;&nbsp;</span>Question 4b</a></span></li><li><span><a href=\"#Question-4c\" data-toc-modified-id=\"Question-4c-4.3\"><span class=\"toc-item-num\">4.3&nbsp;&nbsp;</span>Question 4c</a></span></li></ul></li></ul></div>"
   ]
  },
  {
   "cell_type": "code",
   "execution_count": 1,
   "id": "02d8b33d",
   "metadata": {},
   "outputs": [],
   "source": [
    "import pandas as pd\n",
    "import numpy as np\n",
    "import matplotlib.pyplot as plt\n",
    "config = {\n",
    "    'figure.facecolor':'w',\n",
    "    'axes.grid':True,\n",
    "    'axes.spines.top':False,\n",
    "    'axes.spines.bottom':False,\n",
    "    'axes.spines.left':False,\n",
    "    'axes.spines.right':False,\n",
    "    'grid.linewidth':0.5,\n",
    "    'grid.linestyle':'--',\n",
    "    'figure.constrained_layout.use':True\n",
    "}\n",
    "\n",
    "plt.rcParams.update(config)"
   ]
  },
  {
   "cell_type": "markdown",
   "id": "03269cdf",
   "metadata": {},
   "source": [
    "# Question 1\n",
    "\n",
    "**Problem:**\n",
    "The strategists and analysts of your asset management company have just finalized their scenarii by the end of 2024 regarding the Consumer Price Index (CPI) evolution and the associated performances of three risky asset portfolios A, B, and C. They share the following projections with your team members:\n",
    "\n",
    "| Consumer Price Index Target | Portfolio A Annual Return | Portfolio B Annual Return | Portfolio C Annual Return | Probability |\n",
    "|-----------------------------|---------------------------|---------------------------|---------------------------|-------------|\n",
    "| > 3.5%                      | -12.50%                   | -44.50%                   | -10.95%                   | 5.00%       |\n",
    "| [2.5% ; 3.5%]               | 4.00%                     | -7.00%                    | 1.05%                     | 20.00%      |\n",
    "| [1.5% ; 2.5%[               | 10.00%                    | 8.00%                     | 5.55%                     | 50.00%      |\n",
    "| [1% ; 1.5%[                 | -0.50%                    | 23.00%                    | 10.05%                    | 20.00%      |\n",
    "| <1%                         | -14.00%                   | 38.00%                    | 7.05%                     | 5.00%       |\n",
    "| Jarque-Bera P Value         | 0.03%                     | 0.01%                     | 0.00%                     |             |\n"
   ]
  },
  {
   "cell_type": "markdown",
   "id": "0cb1c88d",
   "metadata": {},
   "source": [
    "## Question 1a\n",
    "**After having briefly recalled and explained the general framework and the main axioms on which the expected utility theory is based, you will briefly state some limits to this theory (30 lines maximum - /1.5 point)**\n",
    "\n",
    "Von Neumann–Morgenstern (VNM) utility theory posits that agents behave rationally in order to maximize their expected utility in the face of uncertain options. Utility is monotonically increasing in payouts. That is, more payout is always strictly better than less. They as assumed to know the probabilities of various outcomes, and be able to rank their preferences with respect to these outcomes. The best choices are the ones that maximize expected utility. \n",
    "\n",
    "The rankings should be consistent and logical. These assumptions are encoded into four \"axioms\":\n",
    "\n",
    "1. Completeness: Agents can assign a utility value to any gamble, given that they know the payouts of the gamble and their associated probabilies.\n",
    "2. Transitivity: Agent preferences are ordered logically, so that if he prefers A to B and B to C, then he also prefers A to C. \n",
    "3. Continuity: Utility functions are smooth with respect to payouts, so that there are no sudden jumps or reversals given a small payout change.\n",
    "    - This is also called \"Measurability\". If preferences are continuous, we can use existing gambles (with known ordered prefrences) to construct new gambles for which agents are indifferent. \n",
    "4. Independence: Pairwise preferences are not influenced by the existence of other gamblems. If A is prefered to B, the existance of a gamble C does not change that.\n",
    "\n",
    "There are many criticism of VNM utility:\n",
    "\n",
    "1. Behvorial finance collects instances, both in markets and in lab experiments, where agents appear to violate one or several of these axioms.\n",
    "2. Allais Paradox is a classic experimental setup that induces people to choose outcomes with lower expected value in order to avoid risk.\n",
    "3. Prospect theory proposes a non-continuous utility function that seems to better explain experimental findings. The core idea is that losses are felt more strongly than gains, $|U(-x)| > |U(x)|$"
   ]
  },
  {
   "cell_type": "markdown",
   "id": "533861f7",
   "metadata": {},
   "source": [
    "## Question 1b\n",
    "\n",
    "**What can you say about the preferences and behaviour of the individual represented by a Power utility function? (/1.5 point)**\n",
    "\n",
    "A power utility function is:\n",
    "\n",
    "$$U(x) = x^a$$\n",
    "\n",
    "Where $a \\in (0, 1)$ is a parameter. To analyse the function, take derivatives:\n",
    "\n",
    "$$\\begin{align}\n",
    "U^{\\prime}(x) &= a x^{a-1} \\\\\n",
    "U^{\\prime\\prime}(x) &= (a)(a-1) x^{a-2} \\\\\n",
    "U^{\\prime\\prime\\prime}(x) &= (a)(a-1)(a-2) x^{a-3} \\\\\n",
    "U^{\\prime\\prime\\prime\\prime}(x) &= (a)(a-1)(a-2)(a-4) x^{a-4} \\end{align}$$\n",
    "\n",
    "Given $a \\in (0,1)$ first derivative is strictly positive (monotonic) and second derivative is strictly negative (decreasing), so the function satisfies VNM assumptions. To obtain consequences for risk tolerance, compute derivatives:\n",
    "\n",
    "**Relative risk aversion:**\n",
    "$$-x\\frac{U^{\\prime\\prime}(x)}{U^{\\prime}(x)} = -x\\frac{(a)(a-1) x^{a-2}}{a x^{a-1}} = 1-a$$\n",
    "The function induces constant relative risk aversion equal to $1-a$.\n",
    "\n",
    "**Absolute risk aversions:**\n",
    "$$\\frac{U^{\\prime\\prime}(x)}{U^{\\prime}(x)} = \\frac{1-a}{x}$$\n",
    "Absolute risk aversion is negative in $x$, so as total wealth increases, changes in wealth become less noticable.\n",
    "\n",
    "**Prudence**\n",
    "$$-\\frac{U^{\\prime\\prime\\prime}(x)}{U^{\\prime\\prime}(x)} = \\frac{(a)(a-1)(a-2) x^{a-3}}{(a)(a-1) x^{a-2}} = \\frac{2 - a}{x} $$\n",
    "Strictly positive preference for skewness\n",
    "\n",
    "**Temperance**\n",
    "$$-\\frac{U^{\\prime\\prime\\prime\\prime}(x)}{U^{\\prime\\prime\\prime}(x)} = \\frac{(a)(a-1)(a-2)(a-3) x^{a-4}}{(a)(a-1)(a-2) x^{a-3}} = \\frac{3 - a}{x} $$\n",
    "Strictly positive aversion for risk in the face of other, unavoidable risks\n",
    "\n",
    "**Edginess**\n",
    "$$-\\frac{U^{\\prime\\prime\\prime\\prime\\prime}(x)}{U^{\\prime\\prime\\prime\\prime}(x)} = \\frac{(a)(a-1)(a-2)(a-3)(a-4) x^{a-5}}{(a)(a-1)(a-2)(a-3) x^{a-4}} = \\frac{4 - a}{x} $$\n",
    "Strictly positive aversion to multiple simultaneous risks."
   ]
  },
  {
   "cell_type": "markdown",
   "id": "078776f0",
   "metadata": {},
   "source": [
    "## Question 1c\n",
    "\n",
    "**Considering the Power utility function, with a parameter of 0.9 and an initial wealth of 100,000€. Considering that the investor has to invest all her wealth in only one portfolio (portfolio A, B or C), which portfolio should be chosen?**"
   ]
  },
  {
   "cell_type": "code",
   "execution_count": 2,
   "id": "47fd5f0e",
   "metadata": {},
   "outputs": [
    {
     "data": {
      "text/html": [
       "<div>\n",
       "<style scoped>\n",
       "    .dataframe tbody tr th:only-of-type {\n",
       "        vertical-align: middle;\n",
       "    }\n",
       "\n",
       "    .dataframe tbody tr th {\n",
       "        vertical-align: top;\n",
       "    }\n",
       "\n",
       "    .dataframe thead th {\n",
       "        text-align: right;\n",
       "    }\n",
       "</style>\n",
       "<table border=\"1\" class=\"dataframe\">\n",
       "  <thead>\n",
       "    <tr style=\"text-align: right;\">\n",
       "      <th></th>\n",
       "      <th>Expected Utility</th>\n",
       "    </tr>\n",
       "  </thead>\n",
       "  <tbody>\n",
       "    <tr>\n",
       "      <th>A</th>\n",
       "      <td>32857.96</td>\n",
       "    </tr>\n",
       "    <tr>\n",
       "      <th>B</th>\n",
       "      <td>33533.44</td>\n",
       "    </tr>\n",
       "    <tr>\n",
       "      <th>C</th>\n",
       "      <td>32982.69</td>\n",
       "    </tr>\n",
       "  </tbody>\n",
       "</table>\n",
       "</div>"
      ],
      "text/plain": [
       "   Expected Utility\n",
       "A          32857.96\n",
       "B          33533.44\n",
       "C          32982.69"
      ]
     },
     "metadata": {},
     "output_type": "display_data"
    },
    {
     "name": "stdout",
     "output_type": "stream",
     "text": [
      "Maximum utility portfolio is B\n"
     ]
    }
   ],
   "source": [
    "probs = np.array([5.00, 20.00, 50.00, 20.00, 5.00]) / 100\n",
    "r_A = np.array([-12.50, 4.00, 10.00, -0.50, -14.00]) / 100\n",
    "r_B = np.array([-44.50, -7.00, 8.00, 23.00, 38.00]) / 100\n",
    "r_C = np.array([-10.95, 1.05, 5.55, 10.05, 7.05]) / 100\n",
    "\n",
    "def U(r, W0=100_000, a=0.9):\n",
    "    return ((1+r) * W0) ** a\n",
    "\n",
    "E_U = (probs[:, None] * U(np.c_[r_A, r_B, r_C])).sum(axis=0)\n",
    "E_U = pd.DataFrame(E_U, index=['A', 'B', 'C'], columns=['Expected Utility'])\n",
    "display(E_U.round(2))\n",
    "print(f'Maximum utility portfolio is {E_U.index[E_U.iloc[:, 0].argmax()]}')"
   ]
  },
  {
   "cell_type": "markdown",
   "id": "1800c421",
   "metadata": {},
   "source": [
    "## Question 1d\n",
    "**Assuming that the distributions anticipated by your analysts are correct, what would be the preferred portfolio according to the Roy’s criterion with a Minimum Acceptable Return of 0%? Which risk measure has some analogies with this decision criterion (under specific assumptions)**\n",
    "\n",
    "Roy's criterion seeks to minimize the probability that a return is less than the minimum return."
   ]
  },
  {
   "cell_type": "code",
   "execution_count": 3,
   "id": "5c091c54",
   "metadata": {},
   "outputs": [
    {
     "data": {
      "image/png": "[encoded data removed]",
      "text/plain": [
       "<Figure size 640x480 with 1 Axes>"
      ]
     },
     "metadata": {},
     "output_type": "display_data"
    }
   ],
   "source": [
    "fig, ax = plt.subplots()\n",
    "df_A = pd.DataFrame(probs, index=r_A, columns=['A'])\n",
    "df_B = pd.DataFrame(probs, index=r_B, columns=['B'])\n",
    "df_C = pd.DataFrame(probs, index=r_C, columns=['C'])\n",
    "df = df_A.join(df_B, how='outer').join(df_C, how='outer').fillna(0)\n",
    "\n",
    "df.cumsum(axis=0).plot(ax=ax, title='Cumulative Probability of Returns by Portfolio', xlabel='Return', ylabel='Cumulative Probability')\n",
    "ax.axvline(0, ls='--', lw=1, c='k')\n",
    "plt.show()"
   ]
  },
  {
   "cell_type": "markdown",
   "id": "850c9416",
   "metadata": {},
   "source": [
    "Using the analyist's distributions, we see that portfolio C has the least total probability density below 0, so portfolio C satisfies Roy's minimum criteria.\n",
    "\n",
    "If we assume that returns are Normally distributed, we can derive a closed-form expression for Roy's criterion. Begin with the objective, which is:\n",
    "\n",
    "$$\\min_x P(x \\leq \\bar x)$$\n",
    "\n",
    "Where $x$ is some portfolio. We know that $P(x \\leq \\bar x)$ is the CDF of the distribution associated with $x$, evaluated at $\\bar x$. This makes sense of course -- we want to find the portfolio with the least possible mass to the left of $\\bar x$. This is also exactly what we did graphically above. In the gaussian case, we can write this as:\n",
    "\n",
    "$$\\min_x P\\left(\\frac{\\bar x - \\mu_x}{\\sigma_x}\\right)$$\n",
    "\n",
    "Or, equivalently:\n",
    "\n",
    "$$\\max_x -P\\left(\\frac{\\bar x - \\mu_x}{\\sigma_x}\\right) = P\\left(\\frac{\\mu_x - \\bar x}{\\sigma_x}\\right)$$\n",
    "\n",
    "Finally, we know that the CDF function is strictly increasing in the input. That is, if $x > y$ then $P(x > \\bar x) > (y > \\bar x)$. As a result, finding the maximum of $\\frac{\\mu_x - \\bar x}{\\sigma_x}$ will give the maximum $P\\left(\\frac{\\mu_x - \\bar x}{\\sigma_x}\\right)$. \n",
    "\n",
    "So the portfolio with the largest $R_i$ will be the best portfolio according to Roy's critera, with:\n",
    "\n",
    "$$R_i = \\frac{r_i - r_m}{\\sigma_i}$$\n",
    "\n",
    "Notice that this is just the Sharpe ratio, with the minimum acceptible return in place of the risk-free rate."
   ]
  },
  {
   "cell_type": "code",
   "execution_count": 4,
   "id": "8cb4c11a",
   "metadata": {},
   "outputs": [
    {
     "data": {
      "text/html": [
       "<div>\n",
       "<style scoped>\n",
       "    .dataframe tbody tr th:only-of-type {\n",
       "        vertical-align: middle;\n",
       "    }\n",
       "\n",
       "    .dataframe tbody tr th {\n",
       "        vertical-align: top;\n",
       "    }\n",
       "\n",
       "    .dataframe thead th {\n",
       "        text-align: right;\n",
       "    }\n",
       "</style>\n",
       "<table border=\"1\" class=\"dataframe\">\n",
       "  <thead>\n",
       "    <tr style=\"text-align: right;\">\n",
       "      <th></th>\n",
       "      <th>Roy Criteria</th>\n",
       "    </tr>\n",
       "  </thead>\n",
       "  <tbody>\n",
       "    <tr>\n",
       "      <th>A</th>\n",
       "      <td>0.608332</td>\n",
       "    </tr>\n",
       "    <tr>\n",
       "      <th>B</th>\n",
       "      <td>0.417206</td>\n",
       "    </tr>\n",
       "    <tr>\n",
       "      <th>C</th>\n",
       "      <td>1.040960</td>\n",
       "    </tr>\n",
       "  </tbody>\n",
       "</table>\n",
       "</div>"
      ],
      "text/plain": [
       "   Roy Criteria\n",
       "A      0.608332\n",
       "B      0.417206\n",
       "C      1.040960"
      ]
     },
     "execution_count": 4,
     "metadata": {},
     "output_type": "execute_result"
    }
   ],
   "source": [
    "def compute_stats(r, p):\n",
    "    mu = (r * p).sum()\n",
    "    s2 = (r ** 2 * p).sum() - mu ** 2\n",
    "    s = np.sqrt(s2)\n",
    "    return mu, s2, s\n",
    "\n",
    "mu_A, sigma2_A, sigma_A = compute_stats(r_A, probs)\n",
    "mu_B, sigma2_B, sigma_B = compute_stats(r_B, probs)\n",
    "mu_C, sigma2_C, sigma_C = compute_stats(r_C, probs)\n",
    "\n",
    "mus = np.c_[mu_A, mu_B, mu_C]\n",
    "sigmas = np.c_[sigma_A, sigma_B, sigma_C]\n",
    "\n",
    "Ri = mus / sigmas\n",
    "pd.DataFrame(Ri.ravel(), index=['A', 'B', 'C'], columns=['Roy Criteria'])"
   ]
  },
  {
   "cell_type": "markdown",
   "id": "fd0d98a1",
   "metadata": {},
   "source": [
    "Once again, we find that portfolio C is the best."
   ]
  },
  {
   "cell_type": "markdown",
   "id": "4d771212",
   "metadata": {},
   "source": [
    "# Question 2\n",
    "\n",
    "A 4% risk-free asset is introduced. It is considered here that only the three risky assets (A, B and C) used exist (in addition to the risk free asset). Useful parameters will be estimated from the analyst projections presented in the table above"
   ]
  },
  {
   "cell_type": "markdown",
   "id": "caadd067",
   "metadata": {},
   "source": [
    "## Question 2a\n",
    "\n",
    "**Give the Expected Sharpe Ratio of the efficient portfolios.**\n",
    "\n",
    "First, we're going to need to compute the covariance matrix for this market. We already know the variances, so we just need 3 more numbers: $Cov(A, B)$, $Cov(A,C)$, $Cov(B,C)$.\n",
    "\n",
    "We will use that:\n",
    "\n",
    "$$Cov(A,B) = \\sum_i p_i A_i B_i - \\mu_A \\mu_B$$"
   ]
  },
  {
   "cell_type": "code",
   "execution_count": 5,
   "id": "4b240045",
   "metadata": {},
   "outputs": [
    {
     "name": "stdout",
     "output_type": "stream",
     "text": [
      "Computation checks:\n",
      "==================================================\n",
      "Diagonal of Σ is the variances: True\n",
      "Σ is symmetric: True\n",
      "Σ is positive semi-definite: True\n"
     ]
    }
   ],
   "source": [
    "def compute_cov(r_A, r_B, p):\n",
    "    mu_A = (r_A * p).sum()\n",
    "    mu_B = (r_B * p).sum()\n",
    "    return (p * r_A * r_B).sum() - mu_A * mu_B\n",
    "\n",
    "Σ = np.zeros((3, 3))\n",
    "all_returns = df.index.values\n",
    "\n",
    "for i, r1 in enumerate([r_A, r_B, r_C]):\n",
    "    for j, r2 in enumerate([r_A, r_B, r_C]):\n",
    "        Σ[i, j] = compute_cov(r1, r2, probs)\n",
    "        \n",
    "print('Computation checks:')\n",
    "print('='*50)\n",
    "print(f'Diagonal of Σ is the variances: {np.allclose(np.diagonal(Σ), np.r_[sigma2_A, sigma2_B, sigma2_C])}')\n",
    "print(f'Σ is symmetric: {np.allclose(Σ, Σ.T)}')\n",
    "print(f'Σ is positive semi-definite: {np.all(np.linalg.eigvals(Σ) > 0)}')"
   ]
  },
  {
   "cell_type": "code",
   "execution_count": 6,
   "id": "83c96d44",
   "metadata": {},
   "outputs": [
    {
     "data": {
      "text/html": [
       "<div>\n",
       "<style scoped>\n",
       "    .dataframe tbody tr th:only-of-type {\n",
       "        vertical-align: middle;\n",
       "    }\n",
       "\n",
       "    .dataframe tbody tr th {\n",
       "        vertical-align: top;\n",
       "    }\n",
       "\n",
       "    .dataframe thead th {\n",
       "        text-align: right;\n",
       "    }\n",
       "</style>\n",
       "<table border=\"1\" class=\"dataframe\">\n",
       "  <thead>\n",
       "    <tr style=\"text-align: right;\">\n",
       "      <th></th>\n",
       "      <th>A</th>\n",
       "      <th>B</th>\n",
       "      <th>C</th>\n",
       "    </tr>\n",
       "  </thead>\n",
       "  <tbody>\n",
       "    <tr>\n",
       "      <th>A</th>\n",
       "      <td>0.005172</td>\n",
       "      <td>0.000323</td>\n",
       "      <td>0.000849</td>\n",
       "    </tr>\n",
       "    <tr>\n",
       "      <th>B</th>\n",
       "      <td>0.000323</td>\n",
       "      <td>0.027155</td>\n",
       "      <td>0.007172</td>\n",
       "    </tr>\n",
       "    <tr>\n",
       "      <th>C</th>\n",
       "      <td>0.000849</td>\n",
       "      <td>0.007172</td>\n",
       "      <td>0.002126</td>\n",
       "    </tr>\n",
       "  </tbody>\n",
       "</table>\n",
       "</div>"
      ],
      "text/plain": [
       "          A         B         C\n",
       "A  0.005172  0.000323  0.000849\n",
       "B  0.000323  0.027155  0.007172\n",
       "C  0.000849  0.007172  0.002126"
      ]
     },
     "execution_count": 6,
     "metadata": {},
     "output_type": "execute_result"
    }
   ],
   "source": [
    "pd.DataFrame(Σ, index=['A', 'B', 'C'], columns=['A', 'B', 'C'])"
   ]
  },
  {
   "cell_type": "markdown",
   "id": "533970ca",
   "metadata": {},
   "source": [
    "Sharpe ratios are given by:\n",
    "\n",
    "$$S_i = \\frac{\\mu_i - r_f}{\\sigma_i}$$"
   ]
  },
  {
   "cell_type": "code",
   "execution_count": 7,
   "id": "4a99db9f",
   "metadata": {},
   "outputs": [
    {
     "data": {
      "text/plain": [
       "array([0.05214277, 0.17446786, 0.17349335])"
      ]
     },
     "execution_count": 7,
     "metadata": {},
     "output_type": "execute_result"
    }
   ],
   "source": [
    "μ = np.r_[mu_A, mu_B, mu_C]\n",
    "σ = np.r_[sigma_A, sigma_B, sigma_C]\n",
    "r_f = 0.04\n",
    "\n",
    "S = (μ - r_f) / σ\n",
    "S"
   ]
  },
  {
   "cell_type": "markdown",
   "id": "e9aec4fe",
   "metadata": {},
   "source": [
    "Next, compute the tangency portfolio using:\n",
    "\n",
    "$$ Z = \\Sigma^{-1}(\\mu - r_f)$$\n",
    "\n",
    "and \n",
    "\n",
    "$$w_i = \\frac{Z_i}{\\sum_i Z_i}$$"
   ]
  },
  {
   "cell_type": "code",
   "execution_count": 8,
   "id": "f046e59b",
   "metadata": {},
   "outputs": [
    {
     "data": {
      "text/plain": [
       "array([ 0.63349376,  1.02741685, -0.66091061])"
      ]
     },
     "execution_count": 8,
     "metadata": {},
     "output_type": "execute_result"
    }
   ],
   "source": [
    "Σ_inv = np.linalg.inv(Σ)\n",
    "Z = Σ_inv @ (μ - r_f)\n",
    "w_tan = Z / Z.sum()\n",
    "w_tan"
   ]
  },
  {
   "cell_type": "code",
   "execution_count": 9,
   "id": "3ebe325f",
   "metadata": {},
   "outputs": [
    {
     "name": "stdout",
     "output_type": "stream",
     "text": [
      "Maximum sharpe: 0.1810\n"
     ]
    }
   ],
   "source": [
    "μ_tan = w_tan @ μ\n",
    "σ2_tan = w_tan @ Σ @ w_tan\n",
    "print(f'Maximum sharpe: {(μ_tan - r_f) / np.sqrt(σ2_tan):0.4f}')"
   ]
  },
  {
   "cell_type": "markdown",
   "id": "d9661790",
   "metadata": {},
   "source": [
    "## Question 2b\n",
    "\n",
    "**When is the use of the mean-variance portfolio construction framework justified? What are its main limitations?**\n",
    "\n",
    "The Markowitz portfolio framework emerges from the following assumptions:\n",
    "\n",
    "1. Agents are rational utility maximizers with quadratic utility function \n",
    "2. All agents agree on all relevant aspects of the market (perfect information sharing), such as covariance matrix\n",
    "3. Returns of assets in the market are normally distributed\n",
    "\n",
    "If any of these assumptions are violated, the conclusions of the theory do not hold. All of the assumptions have been attacked recently. Assumption 1 is challenged by behavorial finance. Assumption 2 is challenged by the market failure literature. Assumption 3 is challenged by many financial economists, such as Nassib Taleb and Benoit Mandelbrot. "
   ]
  },
  {
   "cell_type": "markdown",
   "id": "824da2a2",
   "metadata": {},
   "source": [
    "# Question 3\n",
    "Considering now the CAPM framework, analysts have identified a basket of securities denoted D, with a sensitivity to market portfolio returns (denoted βD) of 0.50. According to analysts’ expectations, portfolio D expected return is 5.00%. "
   ]
  },
  {
   "cell_type": "code",
   "execution_count": 10,
   "id": "58c66d24",
   "metadata": {},
   "outputs": [],
   "source": [
    "beta_D = 0.5\n",
    "r_D = 0.05"
   ]
  },
  {
   "cell_type": "markdown",
   "id": "6351834b",
   "metadata": {},
   "source": [
    "## Question 3a\n",
    "\n",
    "**According to this specific framework (to specify), is it possible to build an arbitrage portfolio? Determine the composition of this arbitrage portfolio, its alpha and its sensitivity to market return?**\n",
    "\n",
    "The CAPM framework is:\n",
    "\n",
    "$$\\mathbb E[r_A] = r_f + \\beta \\mathbb E[r_m - r_f]$$\n",
    "\n",
    "We previously computed the statistics for the market portfolio, which is the maximum sharpe portfolio. Use the provided beta together with these statistics to compute the price of asset D under the CAPM:"
   ]
  },
  {
   "cell_type": "code",
   "execution_count": 11,
   "id": "acbbc50f",
   "metadata": {},
   "outputs": [
    {
     "data": {
      "text/plain": [
       "0.0050000000000000044"
      ]
     },
     "execution_count": 11,
     "metadata": {},
     "output_type": "execute_result"
    }
   ],
   "source": [
    "CAPM_r_D = r_f + beta_D * (r_D - r_f)\n",
    "alpha = r_D - CAPM_r_D\n",
    "alpha"
   ]
  },
  {
   "cell_type": "markdown",
   "id": "a6ac413a",
   "metadata": {},
   "source": [
    "Jenson's alpha is NOT zero, so we are able to form an arbitrage portfolio. First, recall that an arbitrage portfolio has three criteria:\n",
    "\n",
    "1. Self-financing. It's a long-short portfolio where the sum of the weights is zero.\n",
    "2. Positive expected return.\n",
    "3. Zero variance\n",
    "\n",
    "So it's a complete free lunch."
   ]
  },
  {
   "cell_type": "markdown",
   "id": "70875df5",
   "metadata": {},
   "source": [
    "To find an arbitrage portoflio, we can interpret the CAPM as a regression equation:\n",
    "\n",
    "$$r_D = r_f + \\beta_D (r_m - r_f) + \\alpha_D$$\n",
    "\n",
    "Where $\\alpha_D$ is the error term. Solving for the alpha:\n",
    "\n",
    "$$\\begin{align}\\alpha_D &= (r_D - r_f) - \\beta_D (r_m - r_f)\\\\\n",
    "                \\alpha_D &=r_D - \\beta_D r_m - (1 - \\beta_D)r_f \\end{align}$$\n",
    "\n",
    "We can intrepret this equation as a weighted long-short portoflio. We just need to be carfeful, It is long on asset D with weight 1, short on the market with weight $-\\beta_D$, and short on the risk-free rate with weight $-(1-\\beta_D)$. This will deliver risk-free return $\\alpha_D$.\n",
    "\n",
    "* Note that by construction, $1 - \\beta_D - (1 - \\beta_D) = 0$, so the portfolio is self-financing.\n",
    "\n",
    "**Note:** We just need to be careful, because in this case we saw that $\\alpha_D$ is negative. Thus we should flip all the signs in the equation, and instead go short on asset D with weight -1 and long on the market execess return with weight $\\beta_D$, and short on the risk-free rate with weight $1 - \\beta_D$."
   ]
  },
  {
   "cell_type": "code",
   "execution_count": 12,
   "id": "161f0e42",
   "metadata": {},
   "outputs": [
    {
     "data": {
      "text/plain": [
       "0.0033132755677887198"
      ]
     },
     "execution_count": 12,
     "metadata": {},
     "output_type": "execute_result"
    }
   ],
   "source": [
    "w_arb = np.array([-1, 0.5, 0.5])\n",
    "mu_arb = w_arb @ np.array([r_D, r_f, μ_tan])\n",
    "mu_arb"
   ]
  },
  {
   "cell_type": "markdown",
   "id": "2cd1f150",
   "metadata": {},
   "source": [
    "To show that arbitrage portfolio has zero beta, we just have to check that the weighted sum of the component betas is zero."
   ]
  },
  {
   "cell_type": "code",
   "execution_count": 13,
   "id": "a08c3779",
   "metadata": {},
   "outputs": [
    {
     "data": {
      "text/plain": [
       "0.0"
      ]
     },
     "execution_count": 13,
     "metadata": {},
     "output_type": "execute_result"
    }
   ],
   "source": [
    "port_betas = [beta_D, 0, 1.0]\n",
    "w_arb @ port_betas"
   ]
  },
  {
   "cell_type": "markdown",
   "id": "1b0c74bf",
   "metadata": {},
   "source": [
    "## Question 3b \n",
    "**What is the Jensen’s Alpha of portfolio D, and its risk adjusted Expected Return according to the $T^2$ methodology?**\n",
    "\n",
    "As noted above, Jensen's Alpha is computed as:\n",
    "\n",
    "$$\\alpha_D = (r_D - r_f) - \\beta_D (r_m - r_f)$$\n",
    "\n",
    "We can intrepret this as the residual of the CAPM regression. It is the component of the returns that cannot be explained by the theory. In the context of managed funds, it can be used as a measure of the manager's skill."
   ]
  },
  {
   "cell_type": "code",
   "execution_count": 14,
   "id": "be248cca",
   "metadata": {},
   "outputs": [
    {
     "data": {
      "text/plain": [
       "-0.0033132755677887198"
      ]
     },
     "execution_count": 14,
     "metadata": {},
     "output_type": "execute_result"
    }
   ],
   "source": [
    "(r_D - r_f) - beta_D * (μ_tan - r_f)"
   ]
  },
  {
   "cell_type": "markdown",
   "id": "af878e3c",
   "metadata": {},
   "source": [
    "For the $T^2$ method, we have to first have to leverage the D portfolio up or down until the beta of the leveraged portfolio is 1.\n",
    "\n",
    "First, compute the weight needed to achieve $\\beta = 1$ as:\n",
    "\n",
    "$$w_T = \\frac{\\beta_M}{\\beta_D} = \\frac{1}{\\beta_D}$$\n",
    "\n",
    "Next, we form the leveraged portfolio $r_D^\\star$ with weights $w_T$ on asset D and $1 - w_T$ on $r_f$. Finally, compute the $T^2$ measure as $r_D^\\star - r_m$"
   ]
  },
  {
   "cell_type": "code",
   "execution_count": 15,
   "id": "1f72c5f2",
   "metadata": {},
   "outputs": [
    {
     "name": "stdout",
     "output_type": "stream",
     "text": [
      "β=1 weights: D = 200.00%, r_f = -100.00%\n",
      "r_D_star: 6.00%\n",
      "T2 risk measure: -0.66%\n"
     ]
    }
   ],
   "source": [
    "w_T = 1 / beta_D\n",
    "r_D_star = w_T * r_D + (1 - w_T) * r_f\n",
    "T2_D = r_D_star - μ_tan\n",
    "print(f'β=1 weights: D = {w_T:0.2%}, r_f = {1 - w_T:0.2%}')\n",
    "print(f'r_D_star: {r_D_star:0.2%}')\n",
    "print(f'T2 risk measure: {T2_D:.2%}')"
   ]
  },
  {
   "cell_type": "markdown",
   "id": "dd893c7a",
   "metadata": {},
   "source": [
    "## Question 3c\n",
    "\n",
    "**What are the main limitations and criticisms of the CAPM?**\n",
    "\n",
    "First, consider the assumptions of the CAPM:\n",
    "\n",
    "1. Markets are perfectly liquid -- there is always a counterparty for every transaction, and there are no transaction costs.\n",
    "2. Everyone has access to unlimited credit, and everyone can short sell.\n",
    "3. All agents in the market are small relative to the market -- price takers\n",
    "4. Perfect information -- all agents have access to all information, and all agents agree on the relevant information in the market (e.g. the composition of the market portfolio, the covariance matrix of the market).\n",
    "\n",
    "All off these points have been criticized.\n",
    "\n",
    "- Liquidity is often constrained. Transactions costs obviously exist. It's not obvious what the risk-free rate is -- even governments default!\n",
    "- Perfect information implies the strong version of the efficient market hypothesis (EMH), which posits that prices incorporate all public and private information. This is obviously not true, because insider trading is illegal (if the EMH were true, insider trading would be impossible and thus would not need to be regulated).\n",
    "- Roll critique: we can't actually purchase the wealth portfolio, which should include ALL possible tradable assets: stocks, bonds, currencies, crypto, art, wine, pokemon cards..."
   ]
  },
  {
   "cell_type": "markdown",
   "id": "04151229",
   "metadata": {},
   "source": [
    "# Question 4\n",
    "\n",
    "A two-factor APT model is estimated by your Quantitative Analysis department. This framework is giving a sharper evaluation of portfolios A, B and C. \n",
    "\n",
    "$$R_i = a_i + b_{i,1} I_1 + b_{i,2} I_2 + e_i$$\n",
    "\n",
    "Factors sensitivities of portfolios A, B and C are given in the table below\n",
    "\n",
    "| Portfolios | Expected Return |  b1  |   b2   |\n",
    "|------------|-----------------|------|--------|\n",
    "| A          |      4.38%      | 0.50 |  0.12  |\n",
    "| B          |      6.88%      | 1.50 | -1.38  |\n",
    "| C          |      4.80%      | 0.80 |  0.00  |\n",
    "| D          |      5.00%      | 0.50 | -0.50  |\n",
    "\n",
    "Portfolios A, B and C are “fairly valued” by the model, that is to say they do not provide a profitable arbitrage portfolio. Analysts advise you to use portfolio D, which characteristics are given in the table above. "
   ]
  },
  {
   "cell_type": "markdown",
   "id": "a04f214e",
   "metadata": {},
   "source": [
    "## Question 4a\n",
    "\n",
    "**After having recalled the APT model framework, its interest and limitations, you will propose (if possible) an arbitrage portfolio and specify its characteristics**\n",
    "\n",
    "The APT framework is an alternative theoritical approach to explaining market returns.\n",
    "\n",
    "Whereas the CAPM starts from the deep microeconomic fundamentals in the Markowitz model (optimizing rational agents, utility function, etc), the APT model takes a more practical approach. Assume returns of assets in the market can be explained by exposure to a small number of common factors. Furthermore, assume that the market is full of people looking for arbitrage opportunities. All assets will be pushed towards their equlibrium prices by the operation of these traders seeking positive returns via arbitrage, with zero alpha.\n",
    "\n",
    "A weaker form of the theory states that Sharpe ratios are caped at some level. Alpha is a return uncorrelated with the market. We have previously seemn that including uncorrelated returns in a portfolio will increase the Sharpe of the portfolio. If arbitrage pushes alphas towards zero, it implies that the maximum sharpe in the market is pushed to some minimum value. This weaker formulation recognizes that there are structural barriers to exploiting every arbitrage opportunity. For example, the profit might be negative after transaction costs or taxes."
   ]
  },
  {
   "cell_type": "markdown",
   "id": "8eb6c773",
   "metadata": {},
   "source": [
    "We are told that asets A, B, and C are fairly valued. This implies that $e_A = e_B = e_C = 0$. So, we can compute the values of $a, I_1, I_2$ by solving a system of linear equations:\n",
    "\n",
    "$$\\begin{align} r &= X f \\\\\n",
    "                f &= X^{-1} r \\end{align}$$\n",
    "                \n",
    "Where:\n",
    "\n",
    "$$ X = \\begin{bmatrix} 1 & b_{A,1} & b_{A,2} \\\\\n",
    "                       1 & b_{B,1} & b_{B,2} \\\\\n",
    "                       1 & b_{C,1} & b_{C,2} \\end{bmatrix}$$\n",
    "                       \n",
    "And \n",
    "\n",
    "$$ f = \\begin{bmatrix} a \\\\ I_1 \\\\ I_2 \\end{bmatrix}$$"
   ]
  },
  {
   "cell_type": "code",
   "execution_count": 16,
   "id": "eb095c40",
   "metadata": {},
   "outputs": [],
   "source": [
    "expected_returns = np.array([4.38, 6.88, 4.80, 5.00]) / 100\n",
    "coefs = np.array([[1.0, 0.50, 0.12],\n",
    "                  [1.0, 1.50, -1.38],\n",
    "                  [1.0, 0.80, 0.00],\n",
    "                  [1.0, 0.50, -0.50]])\n",
    "\n",
    "factors = np.linalg.inv(coefs[:-1, :]) @ expected_returns[:-1]"
   ]
  },
  {
   "cell_type": "code",
   "execution_count": 17,
   "id": "a355bd03",
   "metadata": {},
   "outputs": [
    {
     "name": "stdout",
     "output_type": "stream",
     "text": [
      "a   = 4.00%\n",
      "I1  = 1.00%\n",
      "I2  = -1.00%\n"
     ]
    }
   ],
   "source": [
    "for name, f in zip(['a', 'I1', 'I2'], factors):\n",
    "    print(f'{name:<3} = {f:0.2%}')"
   ]
  },
  {
   "cell_type": "markdown",
   "id": "0cefb246",
   "metadata": {},
   "source": [
    "Now we can compute the price of D under the model"
   ]
  },
  {
   "cell_type": "code",
   "execution_count": 18,
   "id": "f2c75f3d",
   "metadata": {},
   "outputs": [
    {
     "name": "stdout",
     "output_type": "stream",
     "text": [
      "Expected price of D under the APT: 5.000%\n"
     ]
    }
   ],
   "source": [
    "r_D_hat = factors @ coefs[-1]\n",
    "print(f'Expected price of D under the APT: {r_D_hat:0.3%}')"
   ]
  },
  {
   "cell_type": "markdown",
   "id": "74f38056",
   "metadata": {},
   "source": [
    "Note that the APT price is exactly the same as the expected return of our analysts. As a result, **no arbitrage is possible**."
   ]
  },
  {
   "cell_type": "markdown",
   "id": "5f52198a",
   "metadata": {},
   "source": [
    "## Question 4b\n",
    "\n",
    "**What is the main risk to consider when building a portfolio construction model? Use the frameworks and results of questions 2, 3 and 4, to illustrate your point **\n",
    "\n",
    "All of these frameworks are connected. We're always trying to identify the capital market line (CML) by various means.\n",
    "\n",
    "- The Mean-Variance framework uses the Sharpe ratio of the maximum Sharpe portfolio as the slope of the CML. All other assets fall on the CML according to the formula: $r_p = r_f + S_m \\sigma_p$\n",
    "\n",
    "- The CAPM computes the CML by looking at the sensitivity of individual assets to variations in the market portfolio. The CML then is given by $r_p = r_f + \\beta (r_m - r_f)$\n",
    "\n",
    "- The APT extends the CAPM by allowing the CML to be a function of multiple (traded) risk factors: $r_p = r_f + \\sum_k \\lambda_k r_k$\n",
    "\n",
    "Note that each model is progressively less restrictive. This progressive loosening points to a first risk: **model risk**. If we select the wrong model, our conclusions about mispricings will be wrong.\n",
    "\n",
    "After selecting a model, we also have **estimation risk**. This is the risk that we fail to recover the correct parameters, even if we select the correct model. This might be the result of selecting the wrong estimator, for example using OLS in the presence of correlated errors, which would lead to incorrect statistical inference on the risk factors.\n",
    "\n",
    "We also need to correctly select the data we feed into the model. When we measure the wealth portfolio, we need to choose a suitable proxy (Roll critique). This is also true for APT factors -- we need to construct traded proxies for non-traded risk factors, such as industrial output, GDP growth, CPI, etc. Trakcing error from these constructed portfolios will damage the estimates of the pricing model.\n",
    "\n",
    "Even if we select the correct model and obtain correct estimates, there are still further risks related to implementation of the required trades. These include correctly sizing our purchases, and correctly timing the orders to not over or underpay when our orders are filled."
   ]
  },
  {
   "cell_type": "markdown",
   "id": "1bee3d17",
   "metadata": {},
   "source": [
    "## Question 4c\n",
    "\n",
    "The EMH has 3 versions:\n",
    "\n",
    "1. Weak EMH. Market prices integrate the all historical information about the stock price --> Technical analysis is not possible.\n",
    "2. Semi-strong EMH. Market prices integrate all public information about the company --> Fundimental analysis is not possible.\n",
    "3. Strong EMH: Market prices integrate all public and private information about the company --> Nothing can give an investor an edge, even insider information."
   ]
  },
  {
   "cell_type": "code",
   "execution_count": null,
   "id": "8464aadb",
   "metadata": {},
   "outputs": [],
   "source": []
  }
 ],
 "metadata": {
  "kernelspec": {
   "display_name": "Python 3 (ipykernel)",
   "language": "python",
   "name": "python3"
  },
  "language_info": {
   "codemirror_mode": {
    "name": "ipython",
    "version": 3
   },
   "file_extension": ".py",
   "mimetype": "text/x-python",
   "name": "python",
   "nbconvert_exporter": "python",
   "pygments_lexer": "ipython3",
   "version": "3.11.6"
  },
  "toc": {
   "base_numbering": 1,
   "nav_menu": {},
   "number_sections": true,
   "sideBar": true,
   "skip_h1_title": false,
   "title_cell": "Table of Contents",
   "title_sidebar": "Contents",
   "toc_cell": true,
   "toc_position": {},
   "toc_section_display": true,
   "toc_window_display": false
  }
 },
 "nbformat": 4,
 "nbformat_minor": 5
}
