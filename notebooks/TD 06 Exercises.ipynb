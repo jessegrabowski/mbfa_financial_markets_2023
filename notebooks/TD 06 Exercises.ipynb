{
 "cells": [
  {
   "cell_type": "markdown",
   "id": "c5c0654b",
   "metadata": {
    "toc": true
   },
   "source": [
    "<h1>Table of Contents<span class=\"tocSkip\"></span></h1>\n",
    "<div class=\"toc\"><ul class=\"toc-item\"><li><span><a href=\"#Section-5-6-7.3\" data-toc-modified-id=\"Section-5-6-7.3-1\"><span class=\"toc-item-num\">1&nbsp;&nbsp;</span>Section 5-6-7.3</a></span><ul class=\"toc-item\"><li><span><a href=\"#Question-1\" data-toc-modified-id=\"Question-1-1.1\"><span class=\"toc-item-num\">1.1&nbsp;&nbsp;</span>Question 1</a></span></li><li><span><a href=\"#Question-2\" data-toc-modified-id=\"Question-2-1.2\"><span class=\"toc-item-num\">1.2&nbsp;&nbsp;</span>Question 2</a></span></li><li><span><a href=\"#Question-3\" data-toc-modified-id=\"Question-3-1.3\"><span class=\"toc-item-num\">1.3&nbsp;&nbsp;</span>Question 3</a></span></li><li><span><a href=\"#Question-4\" data-toc-modified-id=\"Question-4-1.4\"><span class=\"toc-item-num\">1.4&nbsp;&nbsp;</span>Question 4</a></span></li><li><span><a href=\"#Question-5\" data-toc-modified-id=\"Question-5-1.5\"><span class=\"toc-item-num\">1.5&nbsp;&nbsp;</span>Question 5</a></span></li><li><span><a href=\"#Question-6\" data-toc-modified-id=\"Question-6-1.6\"><span class=\"toc-item-num\">1.6&nbsp;&nbsp;</span>Question 6</a></span></li><li><span><a href=\"#Question-7\" data-toc-modified-id=\"Question-7-1.7\"><span class=\"toc-item-num\">1.7&nbsp;&nbsp;</span>Question 7</a></span></li><li><span><a href=\"#Question-8\" data-toc-modified-id=\"Question-8-1.8\"><span class=\"toc-item-num\">1.8&nbsp;&nbsp;</span>Question 8</a></span></li><li><span><a href=\"#Question-9\" data-toc-modified-id=\"Question-9-1.9\"><span class=\"toc-item-num\">1.9&nbsp;&nbsp;</span>Question 9</a></span><ul class=\"toc-item\"><li><span><a href=\"#Sidebar:-Monte-carlo-simulation\" data-toc-modified-id=\"Sidebar:-Monte-carlo-simulation-1.9.1\"><span class=\"toc-item-num\">1.9.1&nbsp;&nbsp;</span>Sidebar: Monte carlo simulation</a></span></li></ul></li><li><span><a href=\"#Question-10\" data-toc-modified-id=\"Question-10-1.10\"><span class=\"toc-item-num\">1.10&nbsp;&nbsp;</span>Question 10</a></span></li></ul></li><li><span><a href=\"#Section-5-6-7.4\" data-toc-modified-id=\"Section-5-6-7.4-2\"><span class=\"toc-item-num\">2&nbsp;&nbsp;</span>Section 5-6-7.4</a></span><ul class=\"toc-item\"><li><span><a href=\"#Question-1\" data-toc-modified-id=\"Question-1-2.1\"><span class=\"toc-item-num\">2.1&nbsp;&nbsp;</span>Question 1</a></span><ul class=\"toc-item\"><li><span><a href=\"#Sidebar:-Show-that-this-method-works\" data-toc-modified-id=\"Sidebar:-Show-that-this-method-works-2.1.1\"><span class=\"toc-item-num\">2.1.1&nbsp;&nbsp;</span>Sidebar: Show that this method works</a></span></li></ul></li><li><span><a href=\"#Question-2\" data-toc-modified-id=\"Question-2-2.2\"><span class=\"toc-item-num\">2.2&nbsp;&nbsp;</span>Question 2</a></span></li><li><span><a href=\"#Question-3\" data-toc-modified-id=\"Question-3-2.3\"><span class=\"toc-item-num\">2.3&nbsp;&nbsp;</span>Question 3</a></span></li></ul></li></ul></div>"
   ]
  },
  {
   "cell_type": "code",
   "execution_count": 1,
   "id": "362deff3",
   "metadata": {},
   "outputs": [],
   "source": [
    "import numpy as np\n",
    "import sympy as sp\n",
    "import pandas as pd\n",
    "import matplotlib.pyplot as plt\n",
    "from scipy import stats, optimize\n",
    "import seaborn as sns\n",
    "import arviz as az\n",
    "import xarray as xr\n",
    "\n",
    "config = {\n",
    "    'figure.facecolor':'w',\n",
    "    'axes.grid':True,\n",
    "    'axes.spines.top':False,\n",
    "    'axes.spines.bottom':False,\n",
    "    'axes.spines.left':False,\n",
    "    'axes.spines.right':False,\n",
    "    'grid.linewidth':0.5,\n",
    "    'grid.linestyle':'--',\n",
    "    'figure.constrained_layout.use':True\n",
    "}\n",
    "\n",
    "plt.rcParams.update(config)"
   ]
  },
  {
   "cell_type": "markdown",
   "id": "c3ad091d",
   "metadata": {},
   "source": [
    "# Section 5-6-7.3\n",
    "\n",
    "Two Risky Assets Portfolio, Captal Market Line and Risk Measures based on Quantiles\n",
    "\n",
    "The risk-free rate (which can be used to borrow or invest) is assumed to be 3.5%.\n",
    "\n",
    "Using long-time series, you have estimated the main characteristics associated with the returns of two mutual funds:\n",
    "\n",
    "|                  | Fund 1       | Fund 2       |\n",
    "|------------------|-------------|-------------|\n",
    "| Expected Return  | $$E(r_1) = 20\\%$$ | $$E(r_2) = 5\\%$$ |\n",
    "| Variance         | $$\\sigma^2(r_1) = 0.0625$$ | $$\\sigma^2(r_2) = 0.04$$ |\n",
    "\n",
    "The correlation coefficient between the returns of Fund 1 and Fund 2 is $\\rho_{12} = -0.4$.\n",
    "\n",
    "For an initial level of wealth $W_0$, the part invested in the risky portfolio is denoted $\\alpha$, and thus $1 - \\alpha$ is the proportion invested in the risk-free asset. If $W_1$ is the amount invested in risky assets, then $\\delta$ is the proportion invested in asset 1, and $1 - \\delta$ is the part invested in asset 2."
   ]
  },
  {
   "cell_type": "markdown",
   "id": "c30e58d2",
   "metadata": {},
   "source": [
    "## Question 1\n",
    "\n",
    "Using respective values of $\\delta = 0, 0.25, 0.5, 0.75$, and $1$, calculate the characteristics (expected return / risk) of the two risky assets portfolio (invested in assets 1 and 2).\n",
    "\n",
    "As usual, we need to recall the formuals for mean and variance of the portfolios. Remember that these just come from the shifting-scaling rules, together with the convolution of normals:\n",
    "\n",
    "$$\n",
    "\\begin{align}\n",
    "\\mu &= \\delta \\mu_1 + (1 - \\delta) \\mu_2 \\\\\n",
    "\\sigma^2 &= \\delta^2 \\sigma_1^2 + (1 - \\delta)^2 \\sigma_2^2 + 2 \\rho \\delta (1 - \\delta) \\sigma_1 \\sigma_2 \n",
    "\\end{align}\n",
    "$$"
   ]
  },
  {
   "cell_type": "markdown",
   "id": "eadd27b1",
   "metadata": {},
   "source": [
    "**Make a dataframe to hold the question data**"
   ]
  },
  {
   "cell_type": "code",
   "execution_count": 2,
   "id": "77789bc9",
   "metadata": {},
   "outputs": [
    {
     "data": {
      "text/html": [
       "<div>\n",
       "<style scoped>\n",
       "    .dataframe tbody tr th:only-of-type {\n",
       "        vertical-align: middle;\n",
       "    }\n",
       "\n",
       "    .dataframe tbody tr th {\n",
       "        vertical-align: top;\n",
       "    }\n",
       "\n",
       "    .dataframe thead th {\n",
       "        text-align: right;\n",
       "    }\n",
       "</style>\n",
       "<table border=\"1\" class=\"dataframe\">\n",
       "  <thead>\n",
       "    <tr style=\"text-align: right;\">\n",
       "      <th></th>\n",
       "      <th>Fund 1</th>\n",
       "      <th>Fund 2</th>\n",
       "    </tr>\n",
       "  </thead>\n",
       "  <tbody>\n",
       "    <tr>\n",
       "      <th>mean</th>\n",
       "      <td>0.2000</td>\n",
       "      <td>0.05</td>\n",
       "    </tr>\n",
       "    <tr>\n",
       "      <th>variance</th>\n",
       "      <td>0.0625</td>\n",
       "      <td>0.04</td>\n",
       "    </tr>\n",
       "  </tbody>\n",
       "</table>\n",
       "</div>"
      ],
      "text/plain": [
       "          Fund 1  Fund 2\n",
       "mean      0.2000    0.05\n",
       "variance  0.0625    0.04"
      ]
     },
     "execution_count": 2,
     "metadata": {},
     "output_type": "execute_result"
    }
   ],
   "source": [
    "df = pd.DataFrame(np.array([[0.2, 0.05], [0.0625, 0.04]]), columns=['Fund 1', 'Fund 2'], index=['mean', 'variance'])\n",
    "rho = -0.4\n",
    "df"
   ]
  },
  {
   "cell_type": "markdown",
   "id": "70050169",
   "metadata": {},
   "source": [
    "**Write some functions to compute the first two moments**"
   ]
  },
  {
   "cell_type": "code",
   "execution_count": 3,
   "id": "632e8c63",
   "metadata": {},
   "outputs": [],
   "source": [
    "def portfolio_mean(delta, mus):\n",
    "    deltas = np.c_[delta, 1 - delta]\n",
    "    return (deltas * mus).sum(axis=-1)\n",
    "\n",
    "def portfolio_variance(delta, sigmas_sq, rho):\n",
    "    deltas = np.c_[delta, 1 - delta]\n",
    "    \n",
    "    sigma_terms = (deltas ** 2 * sigmas_sq).sum(axis=-1)\n",
    "    cross_term = 2 * rho * np.prod(np.sqrt(sigmas_sq)) * deltas.prod(axis=-1)\n",
    "    \n",
    "    return sigma_terms + cross_term\n",
    "\n",
    "def portfolio_moments(delta, df, rho):\n",
    "    mus = df['mean'].values\n",
    "    sigmas_sq = df['variance'].values\n",
    "    data = np.r_[[portfolio_mean(delta, mus)],\n",
    "             [portfolio_variance(delta, sigmas_sq, rho)]]\n",
    "    solution_df = pd.DataFrame(data, index=['mean', 'variance'], columns=delta.ravel())\n",
    "    solution_df.columns.name = 'Asset 1 weight'\n",
    "    solution_df = solution_df.T.assign(std = lambda x: x['variance'] ** 0.5).round(4).sort_index(ascending=False)\n",
    "    return solution_df"
   ]
  },
  {
   "cell_type": "markdown",
   "id": "0b2769bc",
   "metadata": {},
   "source": [
    "**Compute the portfolio moments**"
   ]
  },
  {
   "cell_type": "code",
   "execution_count": 4,
   "id": "513ace33",
   "metadata": {},
   "outputs": [
    {
     "data": {
      "text/html": [
       "<div>\n",
       "<style scoped>\n",
       "    .dataframe tbody tr th:only-of-type {\n",
       "        vertical-align: middle;\n",
       "    }\n",
       "\n",
       "    .dataframe tbody tr th {\n",
       "        vertical-align: top;\n",
       "    }\n",
       "\n",
       "    .dataframe thead th {\n",
       "        text-align: right;\n",
       "    }\n",
       "</style>\n",
       "<table border=\"1\" class=\"dataframe\">\n",
       "  <thead>\n",
       "    <tr style=\"text-align: right;\">\n",
       "      <th></th>\n",
       "      <th>mean</th>\n",
       "      <th>variance</th>\n",
       "      <th>std</th>\n",
       "    </tr>\n",
       "    <tr>\n",
       "      <th>Asset 1 weight</th>\n",
       "      <th></th>\n",
       "      <th></th>\n",
       "      <th></th>\n",
       "    </tr>\n",
       "  </thead>\n",
       "  <tbody>\n",
       "    <tr>\n",
       "      <th>1.00</th>\n",
       "      <td>0.2000</td>\n",
       "      <td>0.0625</td>\n",
       "      <td>0.2500</td>\n",
       "    </tr>\n",
       "    <tr>\n",
       "      <th>0.75</th>\n",
       "      <td>0.1625</td>\n",
       "      <td>0.0302</td>\n",
       "      <td>0.1737</td>\n",
       "    </tr>\n",
       "    <tr>\n",
       "      <th>0.50</th>\n",
       "      <td>0.1250</td>\n",
       "      <td>0.0156</td>\n",
       "      <td>0.1250</td>\n",
       "    </tr>\n",
       "    <tr>\n",
       "      <th>0.25</th>\n",
       "      <td>0.0875</td>\n",
       "      <td>0.0189</td>\n",
       "      <td>0.1375</td>\n",
       "    </tr>\n",
       "    <tr>\n",
       "      <th>0.00</th>\n",
       "      <td>0.0500</td>\n",
       "      <td>0.0400</td>\n",
       "      <td>0.2000</td>\n",
       "    </tr>\n",
       "  </tbody>\n",
       "</table>\n",
       "</div>"
      ],
      "text/plain": [
       "                  mean  variance     std\n",
       "Asset 1 weight                          \n",
       "1.00            0.2000    0.0625  0.2500\n",
       "0.75            0.1625    0.0302  0.1737\n",
       "0.50            0.1250    0.0156  0.1250\n",
       "0.25            0.0875    0.0189  0.1375\n",
       "0.00            0.0500    0.0400  0.2000"
      ]
     },
     "execution_count": 4,
     "metadata": {},
     "output_type": "execute_result"
    }
   ],
   "source": [
    "weights = np.array([0, 0.25, 0.5, 0.75, 1]).reshape(-1, 1)\n",
    "solution_df = portfolio_moments(weights, df.T, rho)\n",
    "solution_df"
   ]
  },
  {
   "cell_type": "markdown",
   "id": "67f2f5f4",
   "metadata": {},
   "source": [
    "## Question 2\n",
    "Plot the minimum variance frontier"
   ]
  },
  {
   "cell_type": "code",
   "execution_count": 5,
   "id": "9c7ab07d",
   "metadata": {},
   "outputs": [
    {
     "data": {
      "image/png": "[encoded data removed]",
      "text/plain": [
       "<Figure size 640x480 with 1 Axes>"
      ]
     },
     "metadata": {},
     "output_type": "display_data"
    }
   ],
   "source": [
    "fig, ax = plt.subplots()\n",
    "more_weights = np.linspace(0, 1, 100)\n",
    "mvf_df = portfolio_moments(more_weights, df.T, rho)\n",
    "ax.plot(mvf_df['std'], mvf_df['mean'])\n",
    "ax.scatter(solution_df['std'], solution_df['mean'])\n",
    "ax.set(xlabel='$\\sigma$', ylabel='$\\mu$', title='Mean-Variance Frontier')\n",
    "plt.show()"
   ]
  },
  {
   "cell_type": "markdown",
   "id": "5b9933b5",
   "metadata": {},
   "source": [
    "## Question 3\n",
    "\n",
    "What are the variance-minimizing portfolio weights?\n",
    "\n",
    "Recall the formula we derived last time:\n",
    "\n",
    "$$w = \\frac{\\sigma_b^2 - \\rho \\sigma_a \\sigma_b}{\\sigma^2_a + \\sigma_b^2 - 2 \\rho \\sigma_a \\sigma_b}$$"
   ]
  },
  {
   "cell_type": "code",
   "execution_count": 6,
   "id": "269f872a",
   "metadata": {},
   "outputs": [],
   "source": [
    "def compute_w_star(s2_1, s2_2, rho):\n",
    "    s1, s2 = s2_1 ** 0.5, s2_2 ** 0.5\n",
    "    cross_term = rho * s1 * s2\n",
    "    \n",
    "    top = s2_2 - cross_term\n",
    "    bot = s2_1 + s2_2 - 2 * cross_term\n",
    "    return top / bot"
   ]
  },
  {
   "cell_type": "code",
   "execution_count": 7,
   "id": "66a72338",
   "metadata": {},
   "outputs": [
    {
     "name": "stdout",
     "output_type": "stream",
     "text": [
      "Minimum variance Asset 1 allocation: 0.421\n"
     ]
    }
   ],
   "source": [
    "w_star = compute_w_star(*df.loc['variance'].values, rho)\n",
    "print(f'Minimum variance Asset 1 allocation: {w_star:0.3f}')"
   ]
  },
  {
   "cell_type": "markdown",
   "id": "62d1870a",
   "metadata": {},
   "source": [
    "## Question 4\n",
    "\n",
    "What are the moments of the minimum variance portfolio?"
   ]
  },
  {
   "cell_type": "code",
   "execution_count": 8,
   "id": "c3e86c57",
   "metadata": {},
   "outputs": [
    {
     "data": {
      "text/plain": [
       "mean        0.113158\n",
       "variance    0.014737\n",
       "std         0.121395\n",
       "dtype: float64"
      ]
     },
     "execution_count": 8,
     "metadata": {},
     "output_type": "execute_result"
    }
   ],
   "source": [
    "portfolio_star = pd.Series({'mean':portfolio_mean(w_star, df.loc['mean'].values)[0],\n",
    "                            'variance':portfolio_variance(w_star, df.loc['variance'].values, rho)[0]})\n",
    "portfolio_star['std'] = portfolio_star['variance'] ** 0.5\n",
    "portfolio_star"
   ]
  },
  {
   "cell_type": "markdown",
   "id": "ed1cebdd",
   "metadata": {},
   "source": [
    "## Question 5\n",
    "Plot the minimum variance portfolio and the captial market line.\n",
    "\n",
    "IMO this question is messed up. To get the tangency portfolio, this is the formula:\n",
    "\n",
    "$$w_{\\text{tan}} = \\frac{\\rho \\sigma_{a} \\sigma_{b} \\left(\\mu_{b} - r_{f}\\right) + \\sigma_{b}^{2} \\left(- \\mu_{a} + r_{f}\\right)}{\\rho \\sigma_{a} \\sigma_{b} \\left(\\mu_{a} + \\mu_{b} - 2 r_{f}\\right) + \\sigma_{a}^{2} \\left(- \\mu_{b} + r_{f}\\right) + \\sigma_{b}^{2} \\left(- \\mu_{a} + r_{f}\\right)}$$\n",
    "\n",
    "There's no way you're supposed to memorize this. Please don't. To be honest, I'd do this question by eyeballing it -- try to draw the capital market line with a ruler, and then estimate what the tangency portfolio is.\n",
    "\n",
    "Anyway, here's the exact computer solution."
   ]
  },
  {
   "cell_type": "code",
   "execution_count": 23,
   "id": "a1e1e4a9",
   "metadata": {},
   "outputs": [],
   "source": [
    "def compute_w_tan(mu_a, mu_b, s_a, s_b, rf, rho):\n",
    "    # Compute the weight associated with the tangency portfolio\n",
    "    # For details, see the TD05 notebook\n",
    "    ex_a = mu_a - rf\n",
    "    ex_b = mu_b - rf\n",
    "    s2_a = s_a ** 2\n",
    "    s2_b = s_b ** 2\n",
    "    cross = rho * s_a * s_b\n",
    "    \n",
    "    top = cross * ex_b - s2_b * ex_a\n",
    "    bot = cross * (mu_a + mu_b - 2 * rf) - s2_a * ex_b - s2_b * ex_a\n",
    "    \n",
    "    return top / bot    "
   ]
  },
  {
   "cell_type": "markdown",
   "id": "5a146668",
   "metadata": {},
   "source": [
    "**Use the above functions to compute the tangency portfolio**"
   ]
  },
  {
   "cell_type": "code",
   "execution_count": 10,
   "id": "b94707c4",
   "metadata": {},
   "outputs": [
    {
     "name": "stdout",
     "output_type": "stream",
     "text": [
      "Weight of the tangency portfolio: 0.6195286195286196\n"
     ]
    }
   ],
   "source": [
    "rf = 0.035\n",
    "w_tan = compute_w_tan(*df.loc['mean'].values, *df.loc['variance'].values ** 0.5, rf, rho)\n",
    "print(f'Weight of the tangency portfolio: {w_tan}')"
   ]
  },
  {
   "cell_type": "markdown",
   "id": "6d609421",
   "metadata": {},
   "source": [
    "**Compute some stuff to plot**\n",
    "- `alpha_weights` is a range of weights to make the capital market line\n",
    "- `tan_portfolio` give the moments of the tangency portfolio\n",
    "\n",
    "To actually plot the CML, we want to use the following formula:\n",
    "\n",
    "$$ \\mathbb \\mu_p = r_f + \\frac{\\mu_{\\text{tan}} - r_f}{\\sigma_{\\text{tan}}} \\sigma_p$$\n",
    "\n",
    "Where:\n",
    "- $\\mu_{\\text{tan}}$ and $\\sigma_{\\text{tan}}$ are the mean and standard deviation of the tangency portfolio\n",
    "- $\\mu_p$ and $\\sigma_p$ are the mean and standard deviaton of the portfolio of tangency + risk-free asset\n",
    "\n",
    "Notice that the slope of the CML is the sharpe ratio of the tangency portfolio!"
   ]
  },
  {
   "cell_type": "code",
   "execution_count": 11,
   "id": "630973ab",
   "metadata": {},
   "outputs": [],
   "source": [
    "tan_portfolio = portfolio_moments(w_tan, df.T, rho)\n",
    "tan_portfolio.index = ['tangency']"
   ]
  },
  {
   "cell_type": "markdown",
   "id": "278cf339",
   "metadata": {},
   "source": [
    "**Do the plotting**"
   ]
  },
  {
   "cell_type": "code",
   "execution_count": 22,
   "id": "5be16189",
   "metadata": {},
   "outputs": [
    {
     "data": {
      "image/png": "[encoded data removed]",
      "text/plain": [
       "<Figure size 640x480 with 1 Axes>"
      ]
     },
     "metadata": {},
     "output_type": "display_data"
    }
   ],
   "source": [
    "fig, ax = plt.subplots()\n",
    "ax.scatter(solution_df['std'], solution_df['mean'])\n",
    "ax.scatter(portfolio_star['std'], portfolio_star['mean'], marker='*', color='tab:red', zorder=10, s=100, label='Minimum Variance Portfolio')\n",
    "ax.scatter(tan_portfolio['std'], tan_portfolio['mean'], marker='*', color='tab:green', zorder=10, s=100, label='Tangency Portfolio')\n",
    "\n",
    "xlims, ylims = ax.get_xlim(), ax.get_ylim()\n",
    "ax.plot(mvf_df['std'], mvf_df['mean'], label='Mean-Variance Frontier')\n",
    "\n",
    "\n",
    "tan_sharpe = (tan_portfolio['mean'] - rf) / tan_portfolio['std']\n",
    "sigma_grid = np.linspace(0.12, 0.24, 100)\n",
    "ax.plot(sigma_grid, rf + tan_sharpe.values * sigma_grid, label='Capital Market Line')\n",
    "ax.set(xlabel='$\\sigma$', ylabel='$\\\\mu$', title='Mean-Variance Frontier', xlim=xlims)\n",
    "ax.legend()\n",
    "plt.show()"
   ]
  },
  {
   "cell_type": "markdown",
   "id": "d499c01d",
   "metadata": {},
   "source": [
    "## Question 6\n",
    "\n",
    "Compute the sharpe value associated with the tangency portfolio. Here's a formula you **do** need to know:\n",
    "\n",
    "$$s = \\frac{\\mu - r_f}{\\sigma}$$"
   ]
  },
  {
   "cell_type": "code",
   "execution_count": 13,
   "id": "3368d4d1",
   "metadata": {},
   "outputs": [
    {
     "data": {
      "text/html": [
       "<div>\n",
       "<style scoped>\n",
       "    .dataframe tbody tr th:only-of-type {\n",
       "        vertical-align: middle;\n",
       "    }\n",
       "\n",
       "    .dataframe tbody tr th {\n",
       "        vertical-align: top;\n",
       "    }\n",
       "\n",
       "    .dataframe thead th {\n",
       "        text-align: right;\n",
       "    }\n",
       "</style>\n",
       "<table border=\"1\" class=\"dataframe\">\n",
       "  <thead>\n",
       "    <tr style=\"text-align: right;\">\n",
       "      <th></th>\n",
       "      <th>mean</th>\n",
       "      <th>variance</th>\n",
       "      <th>std</th>\n",
       "      <th>sharpe</th>\n",
       "    </tr>\n",
       "  </thead>\n",
       "  <tbody>\n",
       "    <tr>\n",
       "      <th>tangency</th>\n",
       "      <td>0.1429</td>\n",
       "      <td>0.0204</td>\n",
       "      <td>0.1427</td>\n",
       "      <td>0.756132</td>\n",
       "    </tr>\n",
       "  </tbody>\n",
       "</table>\n",
       "</div>"
      ],
      "text/plain": [
       "            mean  variance     std    sharpe\n",
       "tangency  0.1429    0.0204  0.1427  0.756132"
      ]
     },
     "execution_count": 13,
     "metadata": {},
     "output_type": "execute_result"
    }
   ],
   "source": [
    "tan_portfolio['sharpe'] = (tan_portfolio['mean'] - rf) / tan_portfolio['std']\n",
    "tan_portfolio"
   ]
  },
  {
   "cell_type": "markdown",
   "id": "a94d9534",
   "metadata": {},
   "source": [
    "## Question 7\n",
    "\n",
    "Assuming now that an investor has a risk aversion coefficient $A = 10$ and a Mean-variance utility function. Determine the value $\\alpha^*$ and the characteristics $(\\mu_x, \\sigma_x)$ of this optimal portfolio. Calculate also the level associated with this utility function.\n",
    "\n",
    "First we need a formula for utility maximizing weights. Recall that the formula for MVU is:\n",
    "\n",
    "$$U = \\mu - \\frac{A}{2}\\sigma^2$$\n",
    "\n",
    "And we know that:\n",
    "\n",
    "$$\n",
    "\\begin{align}\n",
    "\\mu &= \\alpha \\mu_\\text{tan} + (1 - \\alpha) r_f\\\\\n",
    "\\sigma^2 &= \\alpha^2 \\sigma^2_{\\text{tan}}\n",
    "\\end{align}\n",
    "$$\n",
    "\n",
    "The $\\sigma^2$ expression is simplified by the fact that $r_f$ has no variance, which is great!\n",
    "\n",
    "Anyway, plug these into the MVU formula and take the derivative with respect to $\\alpha$:\n",
    "\n",
    "$$\\max_\\alpha \\alpha \\mu_\\text{tan} + (1 - \\alpha) r_f - \\frac{A}{2} \\alpha^2 \\sigma^2_{\\text{tan}}$$\n",
    "\n",
    "First order condition:\n",
    "\n",
    "$$\\mu_\\text{tan} - r_f - A \\alpha \\sigma^2_{\\text{tan}} = 0$$\n",
    "\n",
    "Solve for $\\alpha^\\star$:\n",
    "\n",
    "$$\\alpha^\\star = \\frac{\\mu_\\text{tan} - r_f}{A \\sigma^2_{\\text{tan}}}$$\n",
    "\n",
    "This is a nice result, notice that it's a **risk-weighted sharpe ratio** "
   ]
  },
  {
   "cell_type": "code",
   "execution_count": 14,
   "id": "0c7c3693",
   "metadata": {},
   "outputs": [
    {
     "data": {
      "text/plain": [
       "tangency    0.528922\n",
       "dtype: float64"
      ]
     },
     "execution_count": 14,
     "metadata": {},
     "output_type": "execute_result"
    }
   ],
   "source": [
    "A = 10\n",
    "alpha_star_10 = (tan_portfolio['mean'] - rf) / A / tan_portfolio['variance']\n",
    "alpha_star_10"
   ]
  },
  {
   "cell_type": "code",
   "execution_count": 15,
   "id": "cf987b7b",
   "metadata": {},
   "outputs": [],
   "source": [
    "tan_portfolio2 = portfolio_moments(w_tan, df.T, rho)\n",
    "tan_portfolio2.loc['risk-free'] = pd.Series({'mean':rf, 'variance':0, 'std':0})"
   ]
  },
  {
   "cell_type": "code",
   "execution_count": 16,
   "id": "157ea42d",
   "metadata": {},
   "outputs": [
    {
     "data": {
      "text/html": [
       "<div>\n",
       "<style scoped>\n",
       "    .dataframe tbody tr th:only-of-type {\n",
       "        vertical-align: middle;\n",
       "    }\n",
       "\n",
       "    .dataframe tbody tr th {\n",
       "        vertical-align: top;\n",
       "    }\n",
       "\n",
       "    .dataframe thead th {\n",
       "        text-align: right;\n",
       "    }\n",
       "</style>\n",
       "<table border=\"1\" class=\"dataframe\">\n",
       "  <thead>\n",
       "    <tr style=\"text-align: right;\">\n",
       "      <th></th>\n",
       "      <th>mean</th>\n",
       "      <th>variance</th>\n",
       "      <th>std</th>\n",
       "    </tr>\n",
       "  </thead>\n",
       "  <tbody>\n",
       "    <tr>\n",
       "      <th>max utility</th>\n",
       "      <td>0.0921</td>\n",
       "      <td>0.0057</td>\n",
       "      <td>0.0755</td>\n",
       "    </tr>\n",
       "  </tbody>\n",
       "</table>\n",
       "</div>"
      ],
      "text/plain": [
       "               mean  variance     std\n",
       "max utility  0.0921    0.0057  0.0755"
      ]
     },
     "execution_count": 16,
     "metadata": {},
     "output_type": "execute_result"
    }
   ],
   "source": [
    "U_max_portfolio = portfolio_moments(alpha_star_10, tan_portfolio2, 0)\n",
    "U_max_portfolio.index = ['max utility']\n",
    "U_max_portfolio"
   ]
  },
  {
   "cell_type": "code",
   "execution_count": 17,
   "id": "e6480f7c",
   "metadata": {},
   "outputs": [
    {
     "data": {
      "text/plain": [
       "max utility    0.0636\n",
       "dtype: float64"
      ]
     },
     "execution_count": 17,
     "metadata": {},
     "output_type": "execute_result"
    }
   ],
   "source": [
    "U_max_portfolio['mean'] - A / 2 * U_max_portfolio['variance']"
   ]
  },
  {
   "cell_type": "markdown",
   "id": "9e7386ef",
   "metadata": {},
   "source": [
    "## Question 8\n",
    "\n",
    "This investor has a wealth of 1000€. Indicate how his wealth is allocated between the risk free asset, the optimal risky portfolio, then between portfolio 1 and 2.\n",
    "\n",
    "This is just applying the weights we've already found. We know that the tangency portfolio has $\\delta = 0.62$, and the optimal portfolio weights at $A = 10$ is $\\alpha = 0.53$. \n",
    "\n",
    "So his wealth is split $53\\%$ in tangency portfolio, and $47\\%$ in risk-free asset. Of the $53\\%$ in tangency, $62\\%$ is in asset 1, and $38\\%$ is in asset 2. We just have to make these computations"
   ]
  },
  {
   "cell_type": "code",
   "execution_count": 35,
   "id": "fd3e9db1",
   "metadata": {},
   "outputs": [
    {
     "name": "stdout",
     "output_type": "stream",
     "text": [
      "Wealth in risk-free asset: 471.08€\n",
      "Wealth in tangency portfolio: 528.92€\n",
      "Wealth in asset 1: 327.68€\n",
      "Wealth in asset 2: 201.24€\n"
     ]
    }
   ],
   "source": [
    "W = 1000\n",
    "print(f'Wealth in risk-free asset: {W * (1 - alpha_star_10.values[0]):0.2f}' + u'\\N{Euro sign}')\n",
    "print(f'Wealth in tangency portfolio: {W * alpha_star_10.values[0]:0.2f}' + u'\\N{Euro sign}')\n",
    "print(f'Wealth in asset 1: {W * (alpha_star_10 * w_tan).values[0]:0.2f}' + u'\\N{Euro sign}')\n",
    "print(f'Wealth in asset 2: {W * (alpha_star_10 * (1 - w_tan)).values[0]:0.2f}' + u'\\N{Euro sign}')"
   ]
  },
  {
   "cell_type": "markdown",
   "id": "8b809a75",
   "metadata": {},
   "source": [
    "## Question 9\n",
    "\n",
    "We assume now that all the risky assets returns follow a Gaussian Law, determine the level of wealth below which, over a one year horizon, you may fall according to a level of probability of 5%\n",
    "\n",
    "This question is asking us what's our VaR(5%). We seek $x$ such that $P(X < x) = 0.05$. We don't know $x$ yet, but we can find the answer for $P(X < z)$ by turning to our trusty z-table. Remember we have to use the \"flip around\" trick: get $P(X < z) = 0.95$, then flip the sign around.\n",
    "\n",
    "Consulting the table, we find that $z = -1.65$. Now we can convert from $z$ to $x$ using the following formula:\n",
    "\n",
    "$$z = \\frac{x - \\mu}{\\sigma}$$\n",
    "\n",
    "Plug in the moments from this client's optimal portfolio and solve for x:\n",
    "\n",
    "$$x = \\mu_p + \\sigma_p z$$"
   ]
  },
  {
   "cell_type": "code",
   "execution_count": 39,
   "id": "2eec20ff",
   "metadata": {},
   "outputs": [
    {
     "name": "stdout",
     "output_type": "stream",
     "text": [
      "VaR(5%) for customer with A=10: -3.25%\n"
     ]
    }
   ],
   "source": [
    "mu_p = U_max_portfolio['mean'].values[0]\n",
    "sigma_p = U_max_portfolio['std'].values[0]\n",
    "x = -1.65 * sigma_p + mu_p\n",
    "print(f'VaR(5%) for customer with A=10: {x:0.2%}')"
   ]
  },
  {
   "cell_type": "markdown",
   "id": "8c83aea9",
   "metadata": {},
   "source": [
    "This gives the VaR in terms of returns, but we can also compute it terms of money by computing $(1 + \\text{VaR}(5\\%))W_0$"
   ]
  },
  {
   "cell_type": "code",
   "execution_count": 49,
   "id": "097b9c08",
   "metadata": {},
   "outputs": [
    {
     "name": "stdout",
     "output_type": "stream",
     "text": [
      "VaR(5%) losses: -32.47€\n",
      "Final wealth given VaR(5%) outcome: 967.52€\n"
     ]
    }
   ],
   "source": [
    "print(f'VaR(5%) losses: {1000 * x:0.2f}' + u'\\N{Euro sign}')\n",
    "print(f'Final wealth given VaR(5%) outcome: {1000 + 1000 * x:0.2f}' + u'\\N{Euro sign}')"
   ]
  },
  {
   "cell_type": "markdown",
   "id": "dbf74c4f",
   "metadata": {},
   "source": [
    "### Sidebar: Monte carlo simulation\n",
    "\n",
    "We can always check our math on these questions by doing a simulation. We can draw a bunch of returns from the portfolio, then compute the 5% quantile of the samples. This value will be the VaR(5%)."
   ]
  },
  {
   "cell_type": "code",
   "execution_count": 83,
   "id": "af7742e3",
   "metadata": {},
   "outputs": [
    {
     "data": {
      "image/png": "[encoded data removed]",
      "text/plain": [
       "<Figure size 640x480 with 1 Axes>"
      ]
     },
     "metadata": {},
     "output_type": "display_data"
    }
   ],
   "source": [
    "# Create a distribution to represent the portfolio\n",
    "d = stats.norm(loc=mu_p, scale=sigma_p)\n",
    "\n",
    "# Draw returns\n",
    "returns = d.rvs(100_000)\n",
    "\n",
    "# Compute the 5% quantile\n",
    "q05 = np.quantile(returns, 0.05)\n",
    "\n",
    "# Plot a histogram of returns\n",
    "fig, ax = plt.subplots()\n",
    "N, bins, patches = ax.hist(returns, bins=100, density=True)\n",
    "for n, b, patch in zip(N, bins, patches):\n",
    "    if b < q05:\n",
    "        patch.set_facecolor('tab:red')\n",
    "ax.axvline(mu_p, color='k', ls='--', label=r'$\\mu_p$')\n",
    "q05_line_loc = np.flatnonzero(bins < q05)[-1] + 1\n",
    "ax.vlines(q05, 0, N[q05_line_loc], color='k', label='VaR(5%)', lw=2)\n",
    "ax.legend()\n",
    "plt.show()"
   ]
  },
  {
   "cell_type": "code",
   "execution_count": 85,
   "id": "d8476f72",
   "metadata": {},
   "outputs": [
    {
     "name": "stdout",
     "output_type": "stream",
     "text": [
      "Monte carlo estimate of VaR(5%): -3.27%\n"
     ]
    }
   ],
   "source": [
    "print(f\"Monte carlo estimate of VaR(5%): {q05:0.2%}\")"
   ]
  },
  {
   "cell_type": "markdown",
   "id": "902782d6",
   "metadata": {},
   "source": [
    "## Question 10\n",
    "\n",
    "Re-do question 9 with a Student T distribution with 3 degrees of freedom.\n",
    "\n",
    "When you change the underlying distribtuion, the only thing that changes is the computation of $z$. After that, all the shift and scaling rules remain the same. So to get $P(X < z) = 0.05$, we go to the Student T table with $\\nu = 3$ and look up $P(X > z) = 0.95$, then flip the sign. For this second value, we find $z = 2.353$, so the critical value we want is $z = -2.353$.\n",
    "\n",
    "Shifting and scaling, we get $VaR(5\\%) = \\mu_p + \\sigma_p (-2.353) = 8.56\\%$\n",
    "\n"
   ]
  },
  {
   "cell_type": "code",
   "execution_count": 99,
   "id": "b17c93a3",
   "metadata": {},
   "outputs": [
    {
     "name": "stdout",
     "output_type": "stream",
     "text": [
      "VaR(5%) for customer with A=10: -8.56%\n"
     ]
    }
   ],
   "source": [
    "mu_p = U_max_portfolio['mean'].values[0]\n",
    "sigma_p = U_max_portfolio['std'].values[0]\n",
    "x = -2.353 * sigma_p + mu_p\n",
    "print(f'VaR(5%) for customer with A=10: {x:0.2%}')"
   ]
  },
  {
   "cell_type": "code",
   "execution_count": 100,
   "id": "6bbae8f9",
   "metadata": {},
   "outputs": [
    {
     "name": "stdout",
     "output_type": "stream",
     "text": [
      "VaR(5%) losses: -85.55€\n",
      "Final wealth given VaR(5%) outcome: 914.45€\n"
     ]
    }
   ],
   "source": [
    "print(f'VaR(5%) losses: {1000 * x:0.2f}' + u'\\N{Euro sign}')\n",
    "print(f'Final wealth given VaR(5%) outcome: {1000 + 1000 * x:0.2f}' + u'\\N{Euro sign}')"
   ]
  },
  {
   "cell_type": "code",
   "execution_count": 96,
   "id": "3642be5e",
   "metadata": {},
   "outputs": [
    {
     "data": {
      "image/png": "[encoded data removed]",
      "text/plain": [
       "<Figure size 640x480 with 1 Axes>"
      ]
     },
     "metadata": {},
     "output_type": "display_data"
    }
   ],
   "source": [
    "# Create a distribution to represent the portfolio\n",
    "d = stats.t(3, loc=mu_p, scale=sigma_p)\n",
    "\n",
    "# Draw returns\n",
    "returns = d.rvs(100_000)\n",
    "\n",
    "# Compute the 5% quantile\n",
    "q05 = np.quantile(returns, 0.05)\n",
    "\n",
    "# Plot a histogram of returns\n",
    "fig, ax = plt.subplots()\n",
    "N, bins, patches = ax.hist(returns, bins=250, density=True)\n",
    "for n, b, patch in zip(N, bins, patches):\n",
    "    if b <= q05:\n",
    "        patch.set_facecolor('tab:red')\n",
    "ax.axvline(mu_p, color='k', ls='--', label=r'$\\mu_p$')\n",
    "q05_line_loc = np.flatnonzero(bins < q05)[-1] + 1\n",
    "ax.vlines(q05, 0, N[q05_line_loc], color='k', label='VaR(5%)', lw=2)\n",
    "ax.legend()\n",
    "ax.set_xlim(-1, 1)\n",
    "plt.show()"
   ]
  },
  {
   "cell_type": "code",
   "execution_count": 97,
   "id": "a4087c84",
   "metadata": {},
   "outputs": [
    {
     "name": "stdout",
     "output_type": "stream",
     "text": [
      "Monte carlo estimate of VaR(5%): -8.61%\n"
     ]
    }
   ],
   "source": [
    "print(f\"Monte carlo estimate of VaR(5%): {q05:0.2%}\")"
   ]
  },
  {
   "cell_type": "markdown",
   "id": "9c5b3772",
   "metadata": {},
   "source": [
    "# Section 5-6-7.4\n",
    "\n",
    "**N Risky Assets Portfolio and one Risk free Asset**\n",
    "\n",
    "Given three assets characterized by:\n",
    "\n",
    "| Asset | Expected Return (in %) | Standard Deviation (in %) |\n",
    "|-------|------------------------|--------------------------|\n",
    "| 1     | 14                     | 6                        |\n",
    "| 2     | 8                      | 4                        |\n",
    "| 3     | 19                     | 12                       |\n",
    "\n",
    "And the following correlation coefficients:\n",
    "\n",
    "|       | Stock 1 | Stock 2 | Stock 3 |\n",
    "|-------|---------|---------|---------|\n",
    "| Stock 1 | 1       | 0.3     | 0.2     |\n",
    "| Stock 2 | 0.3     | 1       | 0.4     |\n",
    "| Stock 3 | 0.2     | 0.4     | 1       |\n",
    "\n",
    "The risk-free rate is 4%, and short selling is authorized.\n"
   ]
  },
  {
   "cell_type": "markdown",
   "id": "b17c7a4f",
   "metadata": {},
   "source": [
    "## Question 1\n",
    "\n",
    "Determine the market portfolio composition."
   ]
  },
  {
   "cell_type": "code",
   "execution_count": 106,
   "id": "9e98a48f",
   "metadata": {},
   "outputs": [
    {
     "data": {
      "text/html": [
       "<div>\n",
       "<style scoped>\n",
       "    .dataframe tbody tr th:only-of-type {\n",
       "        vertical-align: middle;\n",
       "    }\n",
       "\n",
       "    .dataframe tbody tr th {\n",
       "        vertical-align: top;\n",
       "    }\n",
       "\n",
       "    .dataframe thead th {\n",
       "        text-align: right;\n",
       "    }\n",
       "</style>\n",
       "<table border=\"1\" class=\"dataframe\">\n",
       "  <thead>\n",
       "    <tr style=\"text-align: right;\">\n",
       "      <th></th>\n",
       "      <th>mean</th>\n",
       "      <th>std</th>\n",
       "    </tr>\n",
       "  </thead>\n",
       "  <tbody>\n",
       "    <tr>\n",
       "      <th>Asset 1</th>\n",
       "      <td>0.14</td>\n",
       "      <td>0.06</td>\n",
       "    </tr>\n",
       "    <tr>\n",
       "      <th>Asset 2</th>\n",
       "      <td>0.08</td>\n",
       "      <td>0.04</td>\n",
       "    </tr>\n",
       "    <tr>\n",
       "      <th>Asset 3</th>\n",
       "      <td>0.19</td>\n",
       "      <td>0.12</td>\n",
       "    </tr>\n",
       "  </tbody>\n",
       "</table>\n",
       "</div>"
      ],
      "text/plain": [
       "         mean   std\n",
       "Asset 1  0.14  0.06\n",
       "Asset 2  0.08  0.04\n",
       "Asset 3  0.19  0.12"
      ]
     },
     "execution_count": 106,
     "metadata": {},
     "output_type": "execute_result"
    }
   ],
   "source": [
    "data = np.array([[0.14, 0.08, 0.19],\n",
    "                 [0.06, 0.04, 0.12]])\n",
    "\n",
    "df = pd.DataFrame(data, columns=['Asset 1', 'Asset 2', 'Asset 3'], index=['mean', 'std']).T\n",
    "df"
   ]
  },
  {
   "cell_type": "markdown",
   "id": "d419f661",
   "metadata": {},
   "source": [
    "First, this question is asking for the tangency portfolio. Since we have multiple assets, we're getting into linear algebra land. If you have a calculator that can do matrices, your life is going to be a lot easier on these questions.\n",
    "\n",
    "We had previously found a formula for the tangency portfolio when there are two risky assets. It turns out this formula comes from the solution to a system of linear equations, which can be generalized as:\n",
    "\n",
    "$$\\mu - r_f = \\Sigma Z$$\n",
    "\n",
    "Where:\n",
    "\n",
    "- $\\mu - rf$ is a **column vector** of asset means\n",
    "- $\\Sigma$ is the **covariance matrix** of market assets\n",
    "- $Z$ is a **column vector** of relative portfolio weights. To get the actual weights, we'll have to compute $w_i = \\frac{z_i}{\\sum Z}$\n",
    "\n",
    "For this question, written all out, it looks like this:\n",
    "\n",
    "$$\\begin{bmatrix} \\mu_1 - r_f \\\\ \\mu_2 - r_f \\\\ \\mu_3 - r_f \\end{bmatrix} = \n",
    "    \\begin{bmatrix} \\sigma_{1,1} & \\sigma_{1,2} & \\sigma_{1,3} \\\\\n",
    "                    \\sigma_{2,1} & \\sigma_{2,2} & \\sigma_{2,3} \\\\\n",
    "                    \\sigma_{3,1} & \\sigma_{3,2} & \\sigma_{3,3} \\end{bmatrix} \\begin{bmatrix} Z_1 \\\\ Z_2 \\\\ Z_3 \\end{bmatrix}$$\n",
    "                    \n",
    "If you're not comfortable with this notation, realize that it is just a system of three linear equations:\n",
    "\n",
    "$$\\begin{align} \\mu_1 - rf &=  \\sigma_{1 ,1} Z_1 + \\sigma_{1, 2} Z_2 + \\sigma_{1,3} Z_3 \\\\\n",
    "                \\mu_2 - rf &=  \\sigma_{2 ,1} Z_1 + \\sigma_{2, 2} Z_2 + \\sigma_{2,3} Z_3 \\\\\n",
    "                \\mu_3 - rf &=  \\sigma_{3 ,1} Z_1 + \\sigma_{3, 2} Z_2 + \\sigma_{3,3} Z_3 \\\\ \\end{align}$$\n",
    "                \n",
    "In all of these equations, $\\sigma_{x,y}$ is $\\text{Cov}(x, y)$.\n",
    "\n",
    "Notice that we're not given these covarainces, we have to compute them from $\\sigma_{x,y} = \\rho_{x,y} \\sigma_x \\sigma_y$.\n",
    "\n",
    "You can do these one by one, or you can do them all in one go if you notice that:\n",
    "\n",
    "$$\\Sigma = \\text{Diag}(\\sigma) \\rho \\text{Diag}(\\sigma) = \n",
    "    \\begin{bmatrix} \\sigma_1 & 0 & 0 \\\\\n",
    "                    0 & \\sigma_2 & 0 \\\\\n",
    "                    0 & 0 & \\sigma_3 \\end{bmatrix}\n",
    "    \\begin{bmatrix} 1 & \\rho_{1,2} & \\rho_{1,3} \\\\\n",
    "                    \\rho_{2,1} & 1 & \\rho_{2,3} \\\\\n",
    "                    \\rho_{3,1} & \\rho_{3,2} & 1 \\end{bmatrix}\n",
    "  \\begin{bmatrix} \\sigma_1 & 0 & 0 \\\\\n",
    "                    0 & \\sigma_2 & 0 \\\\\n",
    "                    0 & 0 & \\sigma_3 \\end{bmatrix}\n",
    "$$\n",
    "\n",
    "So we just need to compute $Z = \\Sigma^{-1}(\\mu - r_f)$"
   ]
  },
  {
   "cell_type": "markdown",
   "id": "abc8beb0",
   "metadata": {},
   "source": [
    "### Sidebar: Show that this method works\n",
    "\n",
    "In this little sidebar, I do the linear algebra approach for 2 assets, as show that we get the same formula as the maximization approach."
   ]
  },
  {
   "cell_type": "code",
   "execution_count": 160,
   "id": "9dfcc79e",
   "metadata": {},
   "outputs": [],
   "source": [
    "mu1, mu2 = sp.symbols('mu_1 mu_2')\n",
    "s1, s2 = sp.symbols('sigma_1 sigma_2')\n",
    "rho = sp.Symbol('rho')\n",
    "cov = sp.Matrix([[s1 **2, rho * s1 * s2], [rho * s1 * s2, s2**2]])\n",
    "rf = sp.Symbol('r_f')"
   ]
  },
  {
   "cell_type": "code",
   "execution_count": 166,
   "id": "33122ebd",
   "metadata": {},
   "outputs": [
    {
     "data": {
      "text/latex": [
       "$\\displaystyle \\left[\\begin{matrix}- \\frac{1}{\\rho^{2} \\sigma_{1}^{2} - \\sigma_{1}^{2}} & \\frac{\\rho}{\\rho^{2} \\sigma_{1} \\sigma_{2} - \\sigma_{1} \\sigma_{2}}\\\\\\frac{\\rho}{\\rho^{2} \\sigma_{1} \\sigma_{2} - \\sigma_{1} \\sigma_{2}} & - \\frac{1}{\\rho^{2} \\sigma_{2}^{2} - \\sigma_{2}^{2}}\\end{matrix}\\right]$"
      ],
      "text/plain": [
       "Matrix([\n",
       "[           -1/(rho**2*sigma_1**2 - sigma_1**2), rho/(rho**2*sigma_1*sigma_2 - sigma_1*sigma_2)],\n",
       "[rho/(rho**2*sigma_1*sigma_2 - sigma_1*sigma_2),            -1/(rho**2*sigma_2**2 - sigma_2**2)]])"
      ]
     },
     "execution_count": 166,
     "metadata": {},
     "output_type": "execute_result"
    }
   ],
   "source": [
    "cov_inv = sp.Inverse(cov).doit()\n",
    "cov_inv"
   ]
  },
  {
   "cell_type": "code",
   "execution_count": 167,
   "id": "0eae7495",
   "metadata": {},
   "outputs": [],
   "source": [
    "Zs = cov_inv @ sp.Matrix([[mu1 - rf], [mu2 - rf]])"
   ]
  },
  {
   "cell_type": "markdown",
   "id": "00fe5ae1",
   "metadata": {},
   "source": [
    "Remember that this method gives relative weights, so we have to divide by the sum of the Zs to get the final formula. We see that this formula is exactly what we had before!"
   ]
  },
  {
   "cell_type": "code",
   "execution_count": 169,
   "id": "2ac49c43",
   "metadata": {},
   "outputs": [
    {
     "data": {
      "text/latex": [
       "$\\displaystyle \\frac{\\sigma_{2} \\left(\\rho \\sigma_{1} \\left(\\mu_{2} - r_{f}\\right) + \\sigma_{2} \\left(- \\mu_{1} + r_{f}\\right)\\right)}{\\rho \\sigma_{1} \\sigma_{2} \\left(\\mu_{1} + \\mu_{2} - 2 r_{f}\\right) + \\sigma_{1}^{2} \\left(- \\mu_{2} + r_{f}\\right) + \\sigma_{2}^{2} \\left(- \\mu_{1} + r_{f}\\right)}$"
      ],
      "text/plain": [
       "sigma_2*(rho*sigma_1*(mu_2 - r_f) + sigma_2*(-mu_1 + r_f))/(rho*sigma_1*sigma_2*(mu_1 + mu_2 - 2*r_f) + sigma_1**2*(-mu_2 + r_f) + sigma_2**2*(-mu_1 + r_f))"
      ]
     },
     "execution_count": 169,
     "metadata": {},
     "output_type": "execute_result"
    }
   ],
   "source": [
    "(Zs[0] / (Zs[0] + Zs[1])).simplify()"
   ]
  },
  {
   "cell_type": "markdown",
   "id": "6007d586",
   "metadata": {},
   "source": [
    "**Sidebar over** "
   ]
  },
  {
   "cell_type": "code",
   "execution_count": 172,
   "id": "89f00806",
   "metadata": {},
   "outputs": [
    {
     "data": {
      "text/plain": [
       "array([[0.06, 0.  , 0.  ],\n",
       "       [0.  , 0.04, 0.  ],\n",
       "       [0.  , 0.  , 0.12]])"
      ]
     },
     "execution_count": 172,
     "metadata": {},
     "output_type": "execute_result"
    }
   ],
   "source": [
    "# Compute the covariance matrix for the market using Σ = diag(σ) @ ρ @ diag(σ)\n",
    "ρ = np.array([[1.0, 0.3, 0.2],\n",
    "              [0.3, 1.0, 0.4],\n",
    "              [0.2, 0.4, 1.0]])\n",
    "\n",
    "σ = np.diag(df['std'].values)\n",
    "σ"
   ]
  },
  {
   "cell_type": "code",
   "execution_count": 173,
   "id": "394e27c4",
   "metadata": {},
   "outputs": [
    {
     "data": {
      "text/plain": [
       "array([[0.0036 , 0.00072, 0.00144],\n",
       "       [0.00072, 0.0016 , 0.00192],\n",
       "       [0.00144, 0.00192, 0.0144 ]])"
      ]
     },
     "execution_count": 173,
     "metadata": {},
     "output_type": "execute_result"
    }
   ],
   "source": [
    "Σ = σ @ ρ @ σ\n",
    "Σ"
   ]
  },
  {
   "cell_type": "code",
   "execution_count": 174,
   "id": "6b98b7e7",
   "metadata": {},
   "outputs": [
    {
     "data": {
      "text/plain": [
       "array([0.64881101, 0.15168961, 0.19949937])"
      ]
     },
     "execution_count": 174,
     "metadata": {},
     "output_type": "execute_result"
    }
   ],
   "source": [
    "# To get the relative weights, solve mu - rf = Σ @ z --> z = Σ^-1 @ (mu - rf)\n",
    "mu = df['mean'].values.reshape(-1, 1)\n",
    "rf = 0.04\n",
    "\n",
    "Z = np.linalg.inv(Σ) @ (mu - rf)\n",
    "weights = Z.ravel() / Z.sum()\n",
    "weights"
   ]
  },
  {
   "cell_type": "markdown",
   "id": "533e620e",
   "metadata": {},
   "source": [
    "## Question 2\n",
    "\n",
    "Determine the equation of the efficient Frontier. What is the meaning of this line?\n",
    "\n",
    "This question is asking for the capital market line. We know the formula for it is:\n",
    "\n",
    "$$r_p = r_f + \\frac{\\mu_m - r_f}{\\sigma_m} \\sigma_p$$\n",
    "\n",
    "We just computed the portfolio weights to make the market portfolio, so we just have to compute the moments for the portfolio and plug them into this equation."
   ]
  },
  {
   "cell_type": "markdown",
   "id": "8e6c2346",
   "metadata": {},
   "source": [
    "Here again I'm doing it the linear algebra way. Given a vector $w$ of $N$ weights, the portfolio moments are:\n",
    "\n",
    "$$\n",
    "\\begin{align}\n",
    "\\mu_p &= w^T \\mu \\\\\n",
    "\\sigma^2_p &= w^T \\Sigma w\n",
    "\\end{align}\n",
    "$$\n",
    "\n",
    "Of course you can do these by hand too. It will just be:\n",
    "\n",
    "$$\n",
    "\\begin{align} \\mu_p &= w_1 \\mu_1 + w_2 \\mu_2 + w_3 \\mu_3 \\\\\n",
    "                \\sigma_p &= w_1^2 \\sigma_1^2 + w_2^2 \\sigma_2^2 + w_3^2 \\sigma_3^2 + 2 w_1 w_2 \\rho_{1,2}\\sigma_1\\sigma_2 + 2 w_1 w_3 \\rho_{1,3} \\sigma_1 \\sigma_3 + 2 w_2 w_3 \\rho_{2,3} \\sigma_2 \\sigma_3 \\end{align}\n",
    "$$\n",
    "\n",
    "Notice that in the by hand method, you have $N$ square terms (one for each asset), then you have $\\frac{N(N+1)}{2}$ cross-terms, each multipled by 2 (because correlations are symmetrical)."
   ]
  },
  {
   "cell_type": "code",
   "execution_count": 176,
   "id": "ec7de4ab",
   "metadata": {
    "scrolled": true
   },
   "outputs": [
    {
     "name": "stdout",
     "output_type": "stream",
     "text": [
      "Portfolio mean: 14.09%\n",
      "Portfolio variance: 0.28%\n",
      "Portfolio std: 5.25%\n",
      "Portfolio sharpe ratio: 1.92\n"
     ]
    }
   ],
   "source": [
    "# compute portfolio moments\n",
    "mu_p = weights @ mu.ravel()\n",
    "sigma2_p = weights @ Σ @ weights\n",
    "sigma_p = np.sqrt(sigma2_p)\n",
    "\n",
    "print(f'Portfolio mean: {mu_p:0.2%}')\n",
    "print(f'Portfolio variance: {sigma2_p:0.2%}')\n",
    "print(f'Portfolio std: {sigma_p:0.2%}')\n",
    "print(f'Portfolio sharpe ratio: {(mu_p - rf) / sigma_p:0.2f}')"
   ]
  },
  {
   "cell_type": "markdown",
   "id": "e2c261d5",
   "metadata": {},
   "source": [
    "So the formula is:\n",
    "\n",
    "$$r_p = 0.03 + 1.92\\sigma_p$$"
   ]
  },
  {
   "cell_type": "markdown",
   "id": "65bb3f58",
   "metadata": {},
   "source": [
    "## Question 3\n",
    "\n",
    "To get an expected return of 8%, how should you build your portfolio?\n",
    "\n",
    "We just have to choose a weight $\\alpha$ on the market portfolio such that the returns on the resulting portfolio are 0.08:\n",
    "\n",
    "$$\\begin{align}\n",
    "r_p &= \\alpha r_m + (1 - \\alpha) r_f \\\\\n",
    "r_p - r_f &= \\alpha (r_m - r_f) \\\\\n",
    "\\alpha &= \\frac{r_p - r_f}{r_m - r_f}\n",
    "\\end{align}$$\n",
    "\n",
    "Now just plug in numbers"
   ]
  },
  {
   "cell_type": "code",
   "execution_count": 179,
   "id": "285008e8",
   "metadata": {},
   "outputs": [
    {
     "name": "stdout",
     "output_type": "stream",
     "text": [
      "Share of market portfolio in total portfolio: 39.65%\n"
     ]
    }
   ],
   "source": [
    "alpha_08 = (0.08 - rf) / (mu_p - rf)\n",
    "print(f'Share of market portfolio in total portfolio: {alpha_08:0.2%}')"
   ]
  },
  {
   "cell_type": "markdown",
   "id": "18871e68",
   "metadata": {},
   "source": [
    "The question doesn't ask for it, but we can also get the volitility of the portfolio by using the CML"
   ]
  },
  {
   "cell_type": "code",
   "execution_count": 181,
   "id": "0cc2257e",
   "metadata": {},
   "outputs": [
    {
     "name": "stdout",
     "output_type": "stream",
     "text": [
      "Volitility of portfolio when r_p = 0.08: 2.60%\n"
     ]
    }
   ],
   "source": [
    "print(f'Volitility of portfolio when r_p = 0.08: {(0.08 - 0.03) / 1.92:0.2%}')"
   ]
  },
  {
   "cell_type": "code",
   "execution_count": null,
   "id": "fe708fd9",
   "metadata": {},
   "outputs": [],
   "source": []
  }
 ],
 "metadata": {
  "kernelspec": {
   "display_name": "Python 3 (ipykernel)",
   "language": "python",
   "name": "python3"
  },
  "language_info": {
   "codemirror_mode": {
    "name": "ipython",
    "version": 3
   },
   "file_extension": ".py",
   "mimetype": "text/x-python",
   "name": "python",
   "nbconvert_exporter": "python",
   "pygments_lexer": "ipython3",
   "version": "3.11.6"
  },
  "toc": {
   "base_numbering": 1,
   "nav_menu": {},
   "number_sections": true,
   "sideBar": true,
   "skip_h1_title": false,
   "title_cell": "Table of Contents",
   "title_sidebar": "Contents",
   "toc_cell": true,
   "toc_position": {},
   "toc_section_display": true,
   "toc_window_display": false
  }
 },
 "nbformat": 4,
 "nbformat_minor": 5
}
