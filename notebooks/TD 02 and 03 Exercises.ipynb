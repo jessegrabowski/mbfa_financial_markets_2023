{
 "cells": [
  {
   "cell_type": "markdown",
   "id": "a999182c",
   "metadata": {
    "toc": true
   },
   "source": [
    "<h1>Table of Contents<span class=\"tocSkip\"></span></h1>\n",
    "<div class=\"toc\"><ul class=\"toc-item\"><li><span><a href=\"#Part-1:-VNM-Utility\" data-toc-modified-id=\"Part-1:-VNM-Utility-1\"><span class=\"toc-item-num\">1&nbsp;&nbsp;</span>Part 1: VNM Utility</a></span><ul class=\"toc-item\"><li><span><a href=\"#Question-1\" data-toc-modified-id=\"Question-1-1.1\"><span class=\"toc-item-num\">1.1&nbsp;&nbsp;</span>Question 1</a></span></li><li><span><a href=\"#Question-2\" data-toc-modified-id=\"Question-2-1.2\"><span class=\"toc-item-num\">1.2&nbsp;&nbsp;</span>Question 2</a></span><ul class=\"toc-item\"><li><span><a href=\"#Q2,-redux\" data-toc-modified-id=\"Q2,-redux-1.2.1\"><span class=\"toc-item-num\">1.2.1&nbsp;&nbsp;</span>Q2, redux</a></span></li></ul></li></ul></li><li><span><a href=\"#Section-2:-Quadratic-Utility-and-Mean/Variance-Approach\" data-toc-modified-id=\"Section-2:-Quadratic-Utility-and-Mean/Variance-Approach-2\"><span class=\"toc-item-num\">2&nbsp;&nbsp;</span>Section 2: Quadratic Utility and Mean/Variance Approach</a></span><ul class=\"toc-item\"><li><span><a href=\"#Question-1\" data-toc-modified-id=\"Question-1-2.1\"><span class=\"toc-item-num\">2.1&nbsp;&nbsp;</span>Question 1</a></span><ul class=\"toc-item\"><li><span><a href=\"#Part-1\" data-toc-modified-id=\"Part-1-2.1.1\"><span class=\"toc-item-num\">2.1.1&nbsp;&nbsp;</span>Part 1</a></span></li><li><span><a href=\"#Part-2\" data-toc-modified-id=\"Part-2-2.1.2\"><span class=\"toc-item-num\">2.1.2&nbsp;&nbsp;</span>Part 2</a></span></li></ul></li><li><span><a href=\"#Part-3\" data-toc-modified-id=\"Part-3-2.2\"><span class=\"toc-item-num\">2.2&nbsp;&nbsp;</span>Part 3</a></span></li></ul></li><li><span><a href=\"#Part-3\" data-toc-modified-id=\"Part-3-3\"><span class=\"toc-item-num\">3&nbsp;&nbsp;</span>Part 3</a></span><ul class=\"toc-item\"><li><span><a href=\"#Compute-first-four-moments\" data-toc-modified-id=\"Compute-first-four-moments-3.1\"><span class=\"toc-item-num\">3.1&nbsp;&nbsp;</span>Compute first four moments</a></span></li><li><span><a href=\"#Plot-the-iso-curves\" data-toc-modified-id=\"Plot-the-iso-curves-3.2\"><span class=\"toc-item-num\">3.2&nbsp;&nbsp;</span>Plot the iso-curves</a></span></li><li><span><a href=\"#Stochastic-Dominance\" data-toc-modified-id=\"Stochastic-Dominance-3.3\"><span class=\"toc-item-num\">3.3&nbsp;&nbsp;</span>Stochastic Dominance</a></span><ul class=\"toc-item\"><li><span><a href=\"#First-Order\" data-toc-modified-id=\"First-Order-3.3.1\"><span class=\"toc-item-num\">3.3.1&nbsp;&nbsp;</span>First Order</a></span></li><li><span><a href=\"#Second-Order\" data-toc-modified-id=\"Second-Order-3.3.2\"><span class=\"toc-item-num\">3.3.2&nbsp;&nbsp;</span>Second Order</a></span></li></ul></li><li><span><a href=\"#Redo-with-new-probabilities\" data-toc-modified-id=\"Redo-with-new-probabilities-3.4\"><span class=\"toc-item-num\">3.4&nbsp;&nbsp;</span>Redo with new probabilities</a></span><ul class=\"toc-item\"><li><span><a href=\"#Stats\" data-toc-modified-id=\"Stats-3.4.1\"><span class=\"toc-item-num\">3.4.1&nbsp;&nbsp;</span>Stats</a></span></li><li><span><a href=\"#Investor-Utilities-and-Recommendations\" data-toc-modified-id=\"Investor-Utilities-and-Recommendations-3.4.2\"><span class=\"toc-item-num\">3.4.2&nbsp;&nbsp;</span>Investor Utilities and Recommendations</a></span></li><li><span><a href=\"#Isocurves\" data-toc-modified-id=\"Isocurves-3.4.3\"><span class=\"toc-item-num\">3.4.3&nbsp;&nbsp;</span>Isocurves</a></span></li><li><span><a href=\"#Dominance\" data-toc-modified-id=\"Dominance-3.4.4\"><span class=\"toc-item-num\">3.4.4&nbsp;&nbsp;</span>Dominance</a></span></li></ul></li></ul></li><li><span><a href=\"#Part-3---Risk-Premium\" data-toc-modified-id=\"Part-3---Risk-Premium-4\"><span class=\"toc-item-num\">4&nbsp;&nbsp;</span>Part 3 - Risk Premium</a></span><ul class=\"toc-item\"><li><span><a href=\"#Question-1\" data-toc-modified-id=\"Question-1-4.1\"><span class=\"toc-item-num\">4.1&nbsp;&nbsp;</span>Question 1</a></span><ul class=\"toc-item\"><li><span><a href=\"#Asset-1----Formula-Fund\" data-toc-modified-id=\"Asset-1----Formula-Fund-4.1.1\"><span class=\"toc-item-num\">4.1.1&nbsp;&nbsp;</span>Asset 1 -- Formula Fund</a></span></li><li><span><a href=\"#Arrow-Pratt-Risk\" data-toc-modified-id=\"Arrow-Pratt-Risk-4.1.2\"><span class=\"toc-item-num\">4.1.2&nbsp;&nbsp;</span>Arrow-Pratt Risk</a></span></li><li><span><a href=\"#Markowitz-Risk\" data-toc-modified-id=\"Markowitz-Risk-4.1.3\"><span class=\"toc-item-num\">4.1.3&nbsp;&nbsp;</span>Markowitz Risk</a></span></li><li><span><a href=\"#Asset-2----Hedge-Fund\" data-toc-modified-id=\"Asset-2----Hedge-Fund-4.1.4\"><span class=\"toc-item-num\">4.1.4&nbsp;&nbsp;</span>Asset 2 -- Hedge Fund</a></span></li><li><span><a href=\"#Arrow-Pratt\" data-toc-modified-id=\"Arrow-Pratt-4.1.5\"><span class=\"toc-item-num\">4.1.5&nbsp;&nbsp;</span>Arrow-Pratt</a></span></li><li><span><a href=\"#Markowitz\" data-toc-modified-id=\"Markowitz-4.1.6\"><span class=\"toc-item-num\">4.1.6&nbsp;&nbsp;</span>Markowitz</a></span></li></ul></li></ul></li><li><span><a href=\"#Supplimentary-Exercises\" data-toc-modified-id=\"Supplimentary-Exercises-5\"><span class=\"toc-item-num\">5&nbsp;&nbsp;</span>Supplimentary Exercises</a></span><ul class=\"toc-item\"><li><span><a href=\"#Part-1---Stochastic-Dominance,-MV-Criteria\" data-toc-modified-id=\"Part-1---Stochastic-Dominance,-MV-Criteria-5.1\"><span class=\"toc-item-num\">5.1&nbsp;&nbsp;</span>Part 1 - Stochastic Dominance, MV Criteria</a></span><ul class=\"toc-item\"><li><span><a href=\"#Stats\" data-toc-modified-id=\"Stats-5.1.1\"><span class=\"toc-item-num\">5.1.1&nbsp;&nbsp;</span>Stats</a></span></li><li><span><a href=\"#Why-will-some-investors-choose-fund-A?\" data-toc-modified-id=\"Why-will-some-investors-choose-fund-A?-5.1.2\"><span class=\"toc-item-num\">5.1.2&nbsp;&nbsp;</span>Why will some investors choose fund A?</a></span></li><li><span><a href=\"#Stochastic-Dominance\" data-toc-modified-id=\"Stochastic-Dominance-5.1.3\"><span class=\"toc-item-num\">5.1.3&nbsp;&nbsp;</span>Stochastic Dominance</a></span></li></ul></li><li><span><a href=\"#Dominance,-MV-given-Normal-returns\" data-toc-modified-id=\"Dominance,-MV-given-Normal-returns-5.2\"><span class=\"toc-item-num\">5.2&nbsp;&nbsp;</span>Dominance, MV given Normal returns</a></span><ul class=\"toc-item\"><li><span><a href=\"#Case-1\" data-toc-modified-id=\"Case-1-5.2.1\"><span class=\"toc-item-num\">5.2.1&nbsp;&nbsp;</span>Case 1</a></span></li></ul></li><li><span><a href=\"#Attitudes-w.r.t-risk\" data-toc-modified-id=\"Attitudes-w.r.t-risk-5.3\"><span class=\"toc-item-num\">5.3&nbsp;&nbsp;</span>Attitudes w.r.t risk</a></span><ul class=\"toc-item\"><li><span><a href=\"#Absolute-Risk-Aversion\" data-toc-modified-id=\"Absolute-Risk-Aversion-5.3.1\"><span class=\"toc-item-num\">5.3.1&nbsp;&nbsp;</span>Absolute Risk Aversion</a></span></li><li><span><a href=\"#Relative-Risk-Aversion\" data-toc-modified-id=\"Relative-Risk-Aversion-5.3.2\"><span class=\"toc-item-num\">5.3.2&nbsp;&nbsp;</span>Relative Risk Aversion</a></span></li><li><span><a href=\"#Prudence\" data-toc-modified-id=\"Prudence-5.3.3\"><span class=\"toc-item-num\">5.3.3&nbsp;&nbsp;</span>Prudence</a></span></li><li><span><a href=\"#Temperance\" data-toc-modified-id=\"Temperance-5.3.4\"><span class=\"toc-item-num\">5.3.4&nbsp;&nbsp;</span>Temperance</a></span></li><li><span><a href=\"#Anxiety\" data-toc-modified-id=\"Anxiety-5.3.5\"><span class=\"toc-item-num\">5.3.5&nbsp;&nbsp;</span>Anxiety</a></span></li></ul></li><li><span><a href=\"#MV-Assumptions\" data-toc-modified-id=\"MV-Assumptions-5.4\"><span class=\"toc-item-num\">5.4&nbsp;&nbsp;</span>MV Assumptions</a></span><ul class=\"toc-item\"><li><span><a href=\"#Is-MV-appropriate?\" data-toc-modified-id=\"Is-MV-appropriate?-5.4.1\"><span class=\"toc-item-num\">5.4.1&nbsp;&nbsp;</span>Is MV appropriate?</a></span></li><li><span><a href=\"#B-vs-C?\" data-toc-modified-id=\"B-vs-C?-5.4.2\"><span class=\"toc-item-num\">5.4.2&nbsp;&nbsp;</span>B vs C?</a></span></li></ul></li><li><span><a href=\"#Utility-Function-and-Risk-Aversion\" data-toc-modified-id=\"Utility-Function-and-Risk-Aversion-5.5\"><span class=\"toc-item-num\">5.5&nbsp;&nbsp;</span>Utility Function and Risk Aversion</a></span><ul class=\"toc-item\"><li><span><a href=\"#\" data-toc-modified-id=\"-5.5.1\"><span class=\"toc-item-num\">5.5.1&nbsp;&nbsp;</span></a></span><ul class=\"toc-item\"><li><span><a href=\"#Comment\" data-toc-modified-id=\"Comment-5.5.1.1\"><span class=\"toc-item-num\">5.5.1.1&nbsp;&nbsp;</span>Comment</a></span></li></ul></li><li><span><a href=\"#\" data-toc-modified-id=\"-5.5.2\"><span class=\"toc-item-num\">5.5.2&nbsp;&nbsp;</span></a></span><ul class=\"toc-item\"><li><span><a href=\"#Comment\" data-toc-modified-id=\"Comment-5.5.2.1\"><span class=\"toc-item-num\">5.5.2.1&nbsp;&nbsp;</span>Comment</a></span></li></ul></li></ul></li></ul></li></ul></div>"
   ]
  },
  {
   "cell_type": "code",
   "execution_count": 1,
   "id": "bda2bfbb",
   "metadata": {},
   "outputs": [],
   "source": [
    "import sympy as sp\n",
    "import numpy as np\n",
    "import matplotlib.pyplot as plt\n",
    "from scipy import stats\n",
    "import pandas as pd"
   ]
  },
  {
   "cell_type": "markdown",
   "id": "12495617",
   "metadata": {},
   "source": [
    "# Part 1: VNM Utility"
   ]
  },
  {
   "cell_type": "markdown",
   "id": "e6e69b93",
   "metadata": {},
   "source": [
    "## Question 1\n",
    "\n",
    "A rational agent in von Neumann- Morgenstern's sense is indifferent between the lotteries A and B (presented below). Does he prefer A or C?\n",
    "\n",
    "Lottery A ≡ (0, ½ ; 20, 1/3 ; 50, 1/6)\n",
    "Lottery B ≡ (0, 2/3 ; 50, 1/3)\n",
    "Lottery C ≡ (0, ¼ ; 20, ¾)\n",
    "\n",
    "We consider that u(0) = 0 and u(50) = 20"
   ]
  },
  {
   "cell_type": "markdown",
   "id": "b86a8248",
   "metadata": {},
   "source": [
    "This is an Algebra problem in disguise. First, we need to know that with VNM preferences:\n",
    "\n",
    "$$\\mathbb E[U(x)] = \\sum_i p_i U(x_i)$$\n",
    "\n",
    "This implies:\n",
    "\n",
    "$$\\begin{align}\n",
    "\\mathbb E[U(A)] & = \\sum_i p_i U(A_i) & = \\frac{1}{2} U(0) + \\frac{1}{3} U(20) + \\frac{1}{6} U(50) \\\\\n",
    "\\mathbb E[U(B)] & = \\sum_i p_i U(B_i) & = \\frac{2}{3} U(0) + \\frac{1}{3} U(50) \\\\\n",
    "\\mathbb E[U(C)] & = \\sum_i p_i U(C_i) & = \\frac{1}{4} U(0) + \\frac{3}{4} U(20)\n",
    "\\end{align}$$\n",
    "\n",
    "We also know that $E[U(A)] = E[U(B)]$, because that's what being indifferent between two gambles means in the context. Plug in the values of $U(0)$ and $U(50)$ and solve for $U(20)$:\n",
    "\n",
    "$$\\begin{align}\n",
    "\\frac{1}{2} U(0) + \\frac{1}{3} U(20) + \\frac{1}{6} U(50) &=  \\frac{2}{3} U(0) + \\frac{1}{3} U(50) \\\\\n",
    "\\frac{1}{2} 0 + \\frac{1}{3} U(20) + \\frac{1}{6} 20 &=  \\frac{2}{3} 0 + \\frac{1}{3} 20 \\\\\n",
    "U(20) &= \\frac{3 \\cdot 20}{6} = 10\n",
    "\\end{align}$$\n",
    "\n",
    "From here compute expected utilities for all three gambles:\n",
    "\n",
    "$$\\begin{align}\n",
    "\\mathbb E[U(A)] &= \\frac{1}{3} 10 + \\frac{1}{6} 20 &= \\frac{40}{6} \\\\\n",
    "\\mathbb E[U(B)] & = \\frac{1}{3} U(50) &= \\frac{20}{3} \\\\\n",
    "\\mathbb E[U(C)] &= \\frac{3}{4} 10 &= \\frac{15}{2}\n",
    "\\end{align}$$\n",
    "\n",
    "Since $\\frac{40}{6} < \\frac{15}{2}$, the agent prefers C to A ($\\frac{15}{2} = \\frac{45}{6}$)\n"
   ]
  },
  {
   "cell_type": "markdown",
   "id": "2b7d7662",
   "metadata": {},
   "source": [
    "## Question 2\n",
    "\n",
    "An agent whose preferences satisfy the axioms of von Neumann – Morgenstern strictly prefers the lottery A ≡ (1000, 10% ; 100, 70% ; 0, 20%) to the lottery B ≡ (500, 10% ; 100, 90%). Besides, he is indifferent to receive 200 euros with certainty or to play the lottery (1000, 62.5% ; 0, 37.5%). Which of the lotteries C and D (presented below) will he prefer?\n",
    "\n",
    "Lottery C ≡ (500, 90% ; 0 ; 10%)\n",
    "Lottery D ≡ (500, 80% ; 100, 20%)"
   ]
  },
  {
   "cell_type": "markdown",
   "id": "9d3cbbb6",
   "metadata": {},
   "source": [
    "We are given one equality relationship:\n",
    "$$0.625 U(1000) + 0.375 U(0) = U(200)$$\n",
    "\n",
    "And one inequality:\n",
    "$$0.1 U(1000) + 0.7 U(100) + 0.2 U(0) > 0.1 U(500) + 0.9 U(100)$$\n",
    "\n",
    "But there's not enough info here to solve algebraically for the expected based on this alone. Note that we have 4 unknowns (U(1000),  U(200), U(100), U(0)) and only two equations (one of which is an inequality, which isn't so helpful). We need to make some assumptions.\n",
    "\n",
    "Guess that the utility is a relative CRRA utility:\n",
    "$U(x) = \\frac{(x - b)^{1 - a}}{1 - a}$\n",
    "\n",
    "This function respects the assumptions of VNM utility, and we go from 4 unknowns to just 2 (a and b). The CRRA is \"constant relative risk aversion\", but the consumer in this case has a reference level of wealth, $b$, below which he derives no utility.\n",
    "\n",
    "In principal we can get a solution for solving the system of two equations for two unknowns. In practice there's no closed form solution, so I use a numerical optimizer to get some numbers for a and b that work."
   ]
  },
  {
   "cell_type": "code",
   "execution_count": 2,
   "id": "da87537d",
   "metadata": {},
   "outputs": [],
   "source": [
    "from scipy import optimize\n",
    "a, b =sp.symbols('a b', real=True, positive=True)\n",
    "def u(x):\n",
    "    inner = (x - b)\n",
    "    f = inner ** (1 - a) / (1 - a)\n",
    "    return sp.Piecewise((0,  inner <= 0), \n",
    "                        (sp.log(inner), a == 1),\n",
    "                        (f, inner > 0))\n",
    "    \n",
    "# Solve for a, b using a numerical optimizer\n",
    "eq = 0.625 * u(1000) + 0.375 * u(0) - u(200)\n",
    "ineq = sp.GreaterThan(0.1 * u(1000) + 0.7 * u(100) + 0.2 * u(0), 0.1 * u(500) + 0.9 * u(100))\n",
    "eq2 = (ineq.lhs - ineq.rhs)\n",
    "def wrapper(f):\n",
    "    def wrapped_f(args):\n",
    "        return f(*args)\n",
    "    return wrapped_f\n",
    "\n",
    "f = wrapper(sp.lambdify([a, b], eq ** 2))\n",
    "f_constr = wrapper(sp.lambdify([a, b], eq2))\n",
    "res = optimize.minimize(f, x0=np.array([0.33, 10]), \n",
    "                        constraints={'type':'ineq', 'fun':f_constr}, \n",
    "                        bounds=[[0, None], [1e-4, None]],\n",
    "                        method='trust-constr', tol=1e-8, options={'maxiter':10_000})\n",
    "\n",
    "assert res.success\n",
    "a_val, b_val = res.x\n",
    "x = sp.Symbol('x')\n",
    "f_u = sp.lambdify([x], u(x).subs({a:a_val, b:b_val}))"
   ]
  },
  {
   "cell_type": "code",
   "execution_count": 3,
   "id": "566ced4f",
   "metadata": {},
   "outputs": [],
   "source": [
    "# If we found a solution, this equation should be zero\n",
    "eq.subs({a:a_val, b:b_val})"
   ]
  },
  {
   "cell_type": "code",
   "execution_count": 4,
   "id": "315f3d06",
   "metadata": {},
   "outputs": [],
   "source": [
    "# And the inequality condition should be true\n",
    "ineq.subs({a:a_val, b:b_val})"
   ]
  },
  {
   "cell_type": "code",
   "execution_count": 5,
   "id": "4504ef27",
   "metadata": {},
   "outputs": [],
   "source": [
    "# Evaluate gambles C and D\n",
    "UC = 0.9 * f_u(500) + 0.1 * f_u(0)\n",
    "UD = 0.8 * f_u(500) + 0.2 * f_u(100)\n",
    "print(f'Utility of Gamble C: {UC.real}')\n",
    "print(f'Utility of Gamble D: {UD}')"
   ]
  },
  {
   "cell_type": "markdown",
   "id": "f57ac2b8",
   "metadata": {},
   "source": [
    "Since the utility of gamble C is higher, we prefer it."
   ]
  },
  {
   "cell_type": "markdown",
   "id": "4ee30536",
   "metadata": {},
   "source": [
    "### Q2, redux\n",
    "\n",
    "That was insane, and not very helpful. Trying to assume a specific functional form and solve a functional equation is really hard. Let's try something simpler.\n",
    "\n",
    "A VNM utility function must be (at least): 1) monotonic in x (meaning it only goes up), and 2) smooth and differentiable everywhere.\n",
    "\n",
    "This means we can assume our function has arbitrary values at the **endpoints** we are interested in, then study what happens on the inside. This is sort of equivalent to solving for a specific function, but backwards. Instead of trying to guess the function, we **impose** some function values in strategic places, and then see what happens.\n",
    "\n",
    "The endpoints in our case are $U(0)$ and $U(1000)$. We can choose anything we want, as long as $U(1000) > U(0)$. Let's take $U(0) = 0$ and $U(1000) = 1$, because that makes our computation easier.\n",
    "\n",
    "Knowing this, we immediately get a value for $U(200)$:\n",
    "\n",
    "$$U(200) = 0.625 U(1000) + 0.37 U(0) = 0.625$$\n",
    "\n",
    "We can also do some work on the inequality:\n",
    "$$\\begin{align}\n",
    "0.1 U(1000)+ 0.7 U(100) + 0.2 U(0) &> 0.1 U(500) + 0.9 U(100) \\\\\n",
    "0.1 + 0.7 U(100) &> 0.1 U(500) + 0.9 U(100) \\\\\n",
    "0.1 &> 0.1 U(500) + 0.2 U(100) \\\\\n",
    "1 &> U(500) + 2 U(100)\n",
    "\\end{align}$$\n",
    "\n",
    "So far we're just playing with algebra, but maybe it's all we have to work with. Let's turn to the proposition we want to verify. Just assume $C > D$ and check if it's true. If it ends up being False, the answer is $D > C$. We have:\n",
    "\n",
    "$$\\begin{align}\n",
    "0.9 U(500) + 0.1 U(0) &> 0.8 U(500) + 0.2 U(100) \\\\\n",
    "0.1 U(500) &> 0.2 U(100) \\\\\n",
    "U(500) &> 2 U(100)\n",
    "\\end{align}$$\n",
    "\n",
    "The last line looks really close to the expression we dug out of the inequality $A > B$, we're just missing a $U(500)$ on the right-hand side. Let's add it in:\n",
    "\n",
    "$$2 U(500) > U(500) + 2U(100)$$\n",
    "\n",
    "So now we can start relating things we've found. We know that $U(500) + 2U(100) < 1$, so the question is whether $2 U(500) \\geq 1$. If it is, then C > D must be true. So is it? We know that:\n",
    "\n",
    "1. U(x) is monotonic increasing, so $U(x) \\geq U(y)$ for any $y \\geq x$.\n",
    "2. $U(200) = 0.625$\n",
    "3. Given (1), it must be that $U(500) > U(200)$\n",
    "4. Thus, $2 U(500) > 2 U(200) \\implies 2 U(500) > 1.25$\n",
    "\n",
    "Since $2 U(500)$ is bigger than 1, the relation $2 U(500) > 1 >  U(500) + 2U(100)$ is verified. We conclude that $C > D$."
   ]
  },
  {
   "cell_type": "markdown",
   "id": "5966ebe1",
   "metadata": {},
   "source": [
    "# Section 2: Quadratic Utility and Mean/Variance Approach"
   ]
  },
  {
   "cell_type": "markdown",
   "id": "6504ae7e",
   "metadata": {},
   "source": [
    "## Question 1\n",
    "The given utility function depending on the level of wealth (denoted \\(W\\)) is:\n",
    "\n",
    "$$U(W) = W - \\frac{b}{2} W^2$$\n",
    "\n",
    "The wealth is assumed to be linked to the initial wealth level and the risky asset return, such as:\n",
    "\n",
    "$$W = W_0 (1 + R)$$\n",
    "\n",
    "Where:\n",
    "- $U(W)$ is the utility function.\n",
    "- $W$ represents the level of wealth.\n",
    "- $b$ is the risk aversion parameter\n",
    "- $W_0$ is the initial wealth level.\n",
    "- $R$ is the rate of return on the risky asset"
   ]
  },
  {
   "cell_type": "markdown",
   "id": "e253dcb9",
   "metadata": {},
   "source": [
    "### Part 1\n",
    "\n",
    "Show that the utility function can be expressed according to the return"
   ]
  },
  {
   "cell_type": "markdown",
   "id": "dfc60f2d",
   "metadata": {},
   "source": [
    "Just plug and chug. I'll have sympy do it for me."
   ]
  },
  {
   "cell_type": "code",
   "execution_count": 6,
   "id": "708fc563",
   "metadata": {},
   "outputs": [],
   "source": [
    "b, W0, R = sp.symbols('b W_0 R', positive=True, real=True)\n",
    "W = W0 * (1 + R)\n",
    "U = W - b/2 * W ** 2\n",
    "U.expand().collect(R)\n"
   ]
  },
  {
   "cell_type": "markdown",
   "id": "111a196a",
   "metadata": {},
   "source": [
    "We can re-write this so that it's quadratic mean-variance in R. If you stare at this, you will see that there is:\n",
    "\n",
    "1. A collection of constant terms with no $R$: $k_0 = W_0 - \\frac{W_0^2 b}{2}$\n",
    "2. A linear term: $k_1 = W_0^2 b + W_0$\n",
    "3. A quadratic term, $k_2 = W_0^2 b$\n",
    "\n",
    "Making these subsitutions, we get back the initial Mean-Variance form:"
   ]
  },
  {
   "cell_type": "code",
   "execution_count": 7,
   "id": "d0772ff1",
   "metadata": {},
   "outputs": [],
   "source": [
    "k0, k1, k2 = sp.symbols('k_0 k_1 k_2')\n",
    "U.expand().subs(-W0**2 * b / 2 + W0, k0).collect(R).subs(-W0**2 * b + W0, k1).subs(W0**2 * b, k2)"
   ]
  },
  {
   "cell_type": "markdown",
   "id": "c18ccac5",
   "metadata": {},
   "source": [
    "### Part 2\n",
    "\n",
    "Assume that $\\mathbb E[R] = \\mu$ and $\\mathbb E[(R - \\mu)^2] = \\sigma^2$. Find $\\mathbb E[U(R)]$."
   ]
  },
  {
   "cell_type": "markdown",
   "id": "ec884e0c",
   "metadata": {},
   "source": [
    "Expectations are linear (it's adding, right?) So do it:\n",
    "\n",
    "$$\\begin{align}\n",
    "\\mathbb E[U(R)] &= \\mathbb E[k_0 + k_1 R - \\frac{k_2}{2} R^2] \\\\\n",
    "&= \\mathbb E[k_0] + \\mathbb E[k_1 R] - \\mathbb E [\\frac{k_2}{2} R^2 ]\n",
    "\\end{align}$$\n",
    "\n",
    "Pause to note that non-random things can be pulled out of expectations, so $\\mathbb E[k_1 R] = k_1 \\mathbb E[R]$, for example. Applying this rule:\n",
    "\n",
    "$$\n",
    "\\begin{align}\n",
    "&= k_0 + k_1 \\mathbb E[R] - \\frac{k_2}{2} \\mathbb E[R^2] \\\\\n",
    "\\end{align}\n",
    "$$\n",
    "\n",
    "We know that $\\mathbb E[R] = \\mu$, but we don't know $\\mathbb E[R^2]$. We do know that $\\sigma^2 = \\mathbb E[(R - \\mu)^2]$. Expand the variance equation:\n",
    "$$\\begin{align}\n",
    "\\sigma^2 &= \\mathbb E[R^2 - 2R\\mu + \\mu^2]\\\\\n",
    "&= \\mathbb E[R^2] - 2\\mu \\mathbb E[R]  + \\mu^2 \\\\\n",
    "&= \\mathbb E[R^2] - 2 \\mu^2 + \\mu^2 \\\\\n",
    "&= \\mathbb E[R^2] - \\mu^2\n",
    "\\end{align}$$\n",
    "\n",
    "Solving for $\\mathbb E[R^2]$ gives $\\mathbb E[R^2] = \\sigma^2 + \\mu^2$. The final answer is then:\n",
    "\n",
    "$$\\mathbb E[U(R)] = k_0 + k_1 \\mu - \\frac{k_2}{2} (\\sigma^2 + \\mu^2)$$"
   ]
  },
  {
   "cell_type": "markdown",
   "id": "7e29f286",
   "metadata": {},
   "source": [
    "## Part 3\n",
    "\n",
    "What is the slope of the iso-utility curves?"
   ]
  },
  {
   "cell_type": "markdown",
   "id": "f8ae2063",
   "metadata": {},
   "source": [
    "To get this, we to take the [implicit derivative](https://en.wikipedia.org/wiki/Implicit_function#Implicit_differentiation) of the utility function, set it equal to zero, and solve for $\\frac{d\\sigma}{d\\mu}$:"
   ]
  },
  {
   "cell_type": "code",
   "execution_count": 8,
   "id": "fbd8de10",
   "metadata": {},
   "outputs": [],
   "source": [
    "mu, sigma, U_bar = sp.symbols(r'mu sigma \\bar{U}')\n",
    "eq = k0 + k1 * mu - k2/2 * (sigma ** 2 + mu ** 2)\n",
    "sp.idiff(eq, mu, sigma)"
   ]
  },
  {
   "cell_type": "markdown",
   "id": "4ffbdd53",
   "metadata": {},
   "source": [
    "Note that this is positive (i.e. the marginal utility of additional wealth is positive) only when $k_1 > k_2 \\mu$. "
   ]
  },
  {
   "cell_type": "code",
   "execution_count": 9,
   "id": "3be4e019",
   "metadata": {},
   "outputs": [],
   "source": [
    "f_U = sp.lambdify([mu, sigma, k0, k1, k2], eq)"
   ]
  },
  {
   "cell_type": "code",
   "execution_count": 10,
   "id": "0dbf17c7",
   "metadata": {},
   "outputs": [],
   "source": [
    "mu_range = np.linspace(-2, 2, 100)\n",
    "s2_range = np.linspace(1e-4, 5, 100)\n",
    "mu_grid, s2_grid = np.meshgrid(mu_range, s2_range)\n",
    "k_values = [3, 2, 1]\n",
    "\n",
    "U_grid = f_U(mu_grid, s2_grid, *k_values)\n",
    "cutoff_mask = k_values[1] < (k_values[2] * mu_grid)\n",
    "U_grid[cutoff_mask] = np.nan"
   ]
  },
  {
   "cell_type": "code",
   "execution_count": 11,
   "id": "3578e598",
   "metadata": {},
   "outputs": [],
   "source": [
    "fig, ax = plt.subplots()\n",
    "\n",
    "ax.contourf(s2_grid, mu_grid, U_grid)\n",
    "CS = ax.contour(s2_grid, mu_grid, U_grid, colors='k')\n",
    "ax.clabel(CS, CS.levels, inline=True, fmt=lambda x: f'U = {x:0.2f}', fontsize=10)\n",
    "ax.set_xlabel(r'$\\sigma^2$', fontsize=12)\n",
    "ax.set_ylabel(r'$\\mu$', fontsize=12)\n",
    "\n",
    "plt.show()"
   ]
  },
  {
   "cell_type": "markdown",
   "id": "a2ef95f3",
   "metadata": {},
   "source": [
    "# Part 3"
   ]
  },
  {
   "cell_type": "markdown",
   "id": "aebf9d85",
   "metadata": {},
   "source": [
    "## Compute first four moments"
   ]
  },
  {
   "cell_type": "code",
   "execution_count": 12,
   "id": "e43fa682",
   "metadata": {},
   "outputs": [],
   "source": [
    "r_A = np.array([0.03, 0.04, 0.05, 0.06, 0.07])\n",
    "r_B = np.array([0.03, 0.05, 0.07, 0.09, 0.11])\n",
    "p = np.full(5, 0.2)"
   ]
  },
  {
   "cell_type": "code",
   "execution_count": 13,
   "id": "cbc8bf3c",
   "metadata": {},
   "outputs": [],
   "source": [
    "μ_A = (p * r_A).sum()\n",
    "μ_B = (p * r_B).sum()\n",
    "\n",
    "print(f'Mean of asset A: {μ_A:0.2%}')\n",
    "print(f'Mean of asset B: {μ_B:0.2%}')"
   ]
  },
  {
   "cell_type": "code",
   "execution_count": 14,
   "id": "65f4b445",
   "metadata": {},
   "outputs": [],
   "source": [
    "σ2_A = (p * r_A ** 2).sum() - μ_A ** 2\n",
    "σ2_B = (p * r_B ** 2).sum() - μ_B ** 2\n",
    "\n",
    "print(f'Variance of asset A: {σ2_A:0.2%}')\n",
    "print(f'Std of asset A: {np.sqrt(σ2_A):0.2%}')\n",
    "print(f'Variance of asset B: {σ2_B:0.2%}')\n",
    "print(f'Std of asset B: {np.sqrt(σ2_B):0.2%}')"
   ]
  },
  {
   "cell_type": "code",
   "execution_count": 15,
   "id": "78e66cf4",
   "metadata": {},
   "outputs": [],
   "source": [
    "skew_A = (p * ((r_A - μ_A) / np.sqrt(σ2_A)) ** 3).sum()\n",
    "skew_B = (p * ((r_B - μ_B) / np.sqrt(σ2_B)) ** 3).sum()\n",
    "\n",
    "print(f'Skew of A: {skew_A}')\n",
    "print(f'Skew of B: {skew_B}')"
   ]
  },
  {
   "cell_type": "code",
   "execution_count": 16,
   "id": "3c775fab",
   "metadata": {},
   "outputs": [],
   "source": [
    "kurt_A = (p * ((r_A - μ_A) / np.sqrt(σ2_A)) ** 4).sum()\n",
    "kurt_B = (p * ((r_B - μ_B) / np.sqrt(σ2_B)) ** 4).sum()\n",
    "\n",
    "print(f'Kurtosis of A: {kurt_A}')\n",
    "print(f'Kurtosis of B: {kurt_B}')"
   ]
  },
  {
   "cell_type": "code",
   "execution_count": 17,
   "id": "753ac948",
   "metadata": {},
   "outputs": [],
   "source": [
    "def mv_utility(A, r, p):\n",
    "    μ = (r * p).sum(axis=0)\n",
    "    σ2 = (r ** 2 * p).sum(axis=0) - μ ** 2\n",
    "    U = μ - 0.5 * A * σ2\n",
    "    return U"
   ]
  },
  {
   "cell_type": "code",
   "execution_count": 18,
   "id": "1daf71b3",
   "metadata": {},
   "outputs": [],
   "source": [
    "investors = ['Pierre', 'Paul', 'Jack']\n",
    "assets = ['Balanced', 'Dynamic']\n",
    "\n",
    "utilities = mv_utility(np.array([66.67, 10, 90])[:, None], np.c_[r_A, r_B], p[:, None])\n",
    "df = pd.DataFrame(utilities, index=investors, columns=assets)\n",
    "df"
   ]
  },
  {
   "cell_type": "code",
   "execution_count": 19,
   "id": "778d5390",
   "metadata": {},
   "outputs": [],
   "source": [
    "best_assets = np.argmax(utilities, axis=1)\n",
    "for i, (name, idx) in enumerate(zip(investors, best_assets)):\n",
    "    if np.allclose(*utilities[i], atol=1e-3):\n",
    "        print(f'{name}: Indifferent')\n",
    "    else:\n",
    "        print(f'{name}: {assets[idx]}')"
   ]
  },
  {
   "cell_type": "markdown",
   "id": "3a500ba5",
   "metadata": {},
   "source": [
    "The first client is indifferent, the second client prefers B, the third client prefers A."
   ]
  },
  {
   "cell_type": "markdown",
   "id": "9d809617",
   "metadata": {},
   "source": [
    "## Plot the iso-curves"
   ]
  },
  {
   "cell_type": "code",
   "execution_count": 20,
   "id": "dfb2ffd8",
   "metadata": {},
   "outputs": [],
   "source": [
    "from matplotlib.ticker import PercentFormatter"
   ]
  },
  {
   "cell_type": "code",
   "execution_count": 21,
   "id": "c4d4cd77",
   "metadata": {},
   "outputs": [],
   "source": [
    "def f_μ(A, U, σ):\n",
    "    return U + 0.5 * A * σ ** 2\n",
    "\n",
    "def plot_isocurves(utilities, investors, assets):\n",
    "    σ_grid = np.linspace(0, 0.03, 100)\n",
    "    fig, ax = plt.subplots()\n",
    "    colors = ['tab:blue', 'tab:orange', 'tab:purple']\n",
    "    for i, Us in enumerate(utilities.T):\n",
    "        σ_i = np.sqrt(σ2_A) if i == 0 else np.sqrt(σ2_B)\n",
    "        μ_grid = f_μ(np.array([66.67, 10, 90])[:, None], Us[:, None], σ_grid)\n",
    "    #     ax.scatter(np.full(3, σ_2_i), f_μ(np.array([66.67, 10, 90])[:, None], Us[:, None], σ_2_i))\n",
    "        for j, μ_vals in enumerate(μ_grid):\n",
    "            ax.plot(σ_grid, μ_vals, ls='--' if i==0 else '-', label=f'{investors[j]}, {assets[i]}', c=colors[j], lw=2)\n",
    "    ax.xaxis.set_major_formatter(PercentFormatter(1))\n",
    "    ax.yaxis.set_major_formatter(PercentFormatter(1))\n",
    "    ax.set_xlabel(r'$\\sigma$', fontsize=12)\n",
    "    ax.set_ylabel(r'$\\mu$', fontsize=12)\n",
    "    ax.legend()\n",
    "    plt.show()\n",
    "    \n",
    "plot_isocurves(utilities, investors, assets)"
   ]
  },
  {
   "cell_type": "markdown",
   "id": "76eb1be3",
   "metadata": {},
   "source": [
    "## Stochastic Dominance"
   ]
  },
  {
   "cell_type": "markdown",
   "id": "421f74f2",
   "metadata": {},
   "source": [
    "### First Order"
   ]
  },
  {
   "cell_type": "markdown",
   "id": "966fe7c7",
   "metadata": {},
   "source": [
    "The way to check dominance is to look at the CDFs. Since we have discrete RVs, it just means looking at the cumulative probability over the full range of returns. The only wrinkle here is that we need to assign a probability for every possible return to each investment -- that means filling in some zeros.\n",
    "\n",
    "Since the CDF of Dynamic is to the right (below) that of Dynamic at every point, B dominates A at the first order."
   ]
  },
  {
   "cell_type": "code",
   "execution_count": 22,
   "id": "5e3dabc6",
   "metadata": {},
   "outputs": [],
   "source": [
    "def merge_returns(returns, p, assets, stepsize=0.01, round_at=2):\n",
    "    if isinstance(p, np.ndarray):\n",
    "        ps = [p] * len(returns)\n",
    "    else:\n",
    "        ps = p\n",
    "    \n",
    "    r_min = np.r_[returns].min()\n",
    "    r_max = np.r_[returns].max() + stepsize\n",
    "    \n",
    "    all_returns = np.round(np.arange(r_min, r_max, stepsize), round_at)\n",
    "    \n",
    "    df = None\n",
    "    for r, prob, name in zip(returns, ps, assets):\n",
    "        temp = pd.Series(prob, index=r, name=name)\n",
    "        df = temp if df is None else pd.merge(df, temp, left_index=True, right_index=True, how='outer').fillna(0)\n",
    "    \n",
    "    df = df.reindex(all_returns).fillna(0)\n",
    "    return df\n",
    "\n",
    "def plot_cdfs(df):\n",
    "    fig, ax = plt.subplots()\n",
    "    CDF = df.cumsum(axis=0)\n",
    "    for asset in CDF:\n",
    "        ax.plot(CDF.index, CDF[asset].values, label=asset)\n",
    "    ax.legend()\n",
    "    ax.xaxis.set_major_formatter(PercentFormatter(1))\n",
    "    ax.set_xlabel('Returns', fontsize=12)\n",
    "    ax.set_ylabel('Cumulative Probability', fontsize=12)\n",
    "    plt.show()\n",
    "    \n",
    "plot_cdfs(merge_returns([r_A, r_B], p, ['Balanced', 'Dynamic']))"
   ]
  },
  {
   "cell_type": "markdown",
   "id": "4ae67861",
   "metadata": {},
   "source": [
    "### Second Order"
   ]
  },
  {
   "cell_type": "markdown",
   "id": "7a59020b",
   "metadata": {},
   "source": [
    "For second order dominance, A dominates B if $\\int_{-\\infty}^x (F_B(t) - F_A(t))dt \\geq 0$\n",
    "\n",
    "Where $F_x$ is the CDF of the random variable $X$. This formula is for the continuous case; for the discrete case, we just need to compute the cumulative sum of the difference between the CDFs and check the sign."
   ]
  },
  {
   "cell_type": "code",
   "execution_count": 23,
   "id": "d5b99016",
   "metadata": {},
   "outputs": [],
   "source": [
    "df_returns = merge_returns([r_A, r_B], np.full(5, 0.2), assets)\n",
    "F_A, F_B = df_returns.cumsum(axis=0).T.values\n",
    "fig, ax = plt.subplots()\n",
    "ax.plot(df_returns.index, (F_A - F_B).cumsum())\n",
    "ax.xaxis.set_major_formatter(PercentFormatter(1))\n",
    "ax.set_xlabel('Returns', fontsize=12)\n",
    "ax.set_ylabel('Cumulative (F(A) - F(B))', fontsize=12)\n",
    "plt.show()"
   ]
  },
  {
   "cell_type": "markdown",
   "id": "fe8b0627",
   "metadata": {},
   "source": [
    "Since I did F_A(x) - F_B(x) and got a strictly positive graph, we conclude that B dominates A at the second order."
   ]
  },
  {
   "cell_type": "markdown",
   "id": "280a8d8e",
   "metadata": {},
   "source": [
    "## Redo with new probabilities"
   ]
  },
  {
   "cell_type": "code",
   "execution_count": 24,
   "id": "a844a44a",
   "metadata": {},
   "outputs": [],
   "source": [
    "def compute_stats(returns, p, names):\n",
    "    if isinstance(p, np.ndarray):\n",
    "        ps = [p] * len(returns)\n",
    "    else:\n",
    "        ps = p\n",
    "    header = ''.join([f'{name:>20}' for name in names])\n",
    "    print(header)\n",
    "    print('-'*len(header))\n",
    "    lines = [[f'{x:<10}'] for x in ['μ', 'σ', 'σ2', 'Skew', 'Kurt']]\n",
    "    for r, p in zip(returns, ps):\n",
    "        mu = (r * p).sum()\n",
    "        lines[0] += f'{mu:>15.3%}'\n",
    "        s2 = (r ** 2 * p).sum() - mu ** 2\n",
    "        s = np.sqrt(s2)\n",
    "        lines[1] += f'{s:>15.3%}'\n",
    "        lines[2] += f'{s2:>15.3%}'\n",
    "        \n",
    "        sk = (((r - mu) / s) ** 3 * p).sum()\n",
    "        kr = (((r - mu) / s) ** 4 * p).sum()\n",
    "        \n",
    "        lines[3] += f'{sk:>15.3f}'\n",
    "        lines[4] += f'{kr:>15.3f}'\n",
    "        \n",
    "    for line in lines:\n",
    "        print(''.join(line))"
   ]
  },
  {
   "cell_type": "markdown",
   "id": "50580864",
   "metadata": {},
   "source": [
    "### Stats"
   ]
  },
  {
   "cell_type": "code",
   "execution_count": 25,
   "id": "3a9355b8",
   "metadata": {},
   "outputs": [],
   "source": [
    "p = np.array([0.03, 0.22, 0.5, 0.22, 0.03])\n",
    "compute_stats([r_A, r_B], p, ['A', 'B'])"
   ]
  },
  {
   "cell_type": "markdown",
   "id": "1908ab9d",
   "metadata": {},
   "source": [
    "### Investor Utilities and Recommendations"
   ]
  },
  {
   "cell_type": "code",
   "execution_count": 26,
   "id": "d4294c8c",
   "metadata": {},
   "outputs": [],
   "source": [
    "utilities = mv_utility(np.array([66.67, 10, 90])[:, None], np.c_[r_A, r_B], p[:, None])\n",
    "assets = ['Balanced+', 'Dynamic+']\n",
    "df2 = pd.DataFrame(utilities, index=investors, columns=assets)\n",
    "df2"
   ]
  },
  {
   "cell_type": "code",
   "execution_count": 27,
   "id": "38ad5821",
   "metadata": {},
   "outputs": [],
   "source": [
    "best_assets = np.argmax(utilities, axis=1)\n",
    "for name, idx in zip(investors, best_assets):\n",
    "    print(f'{name}: {assets[idx]}')"
   ]
  },
  {
   "cell_type": "markdown",
   "id": "eec9bebd",
   "metadata": {},
   "source": [
    "### Isocurves"
   ]
  },
  {
   "cell_type": "code",
   "execution_count": 28,
   "id": "742d71cf",
   "metadata": {},
   "outputs": [],
   "source": [
    "plot_isocurves(utilities, investors, assets)"
   ]
  },
  {
   "cell_type": "markdown",
   "id": "87cca0c1",
   "metadata": {},
   "source": [
    "### Dominance\n",
    "\n",
    "From the stats, we expect that B dominates A in all cases. Checking the CDFs shows that, indeed, Dynamic+ dominates Balanced+"
   ]
  },
  {
   "cell_type": "code",
   "execution_count": 29,
   "id": "7796f8d4",
   "metadata": {},
   "outputs": [],
   "source": [
    "df_returns = merge_returns([r_A, r_B], p, assets)\n",
    "\n",
    "plot_cdfs(df_returns)"
   ]
  },
  {
   "cell_type": "code",
   "execution_count": 30,
   "id": "16b7f3af",
   "metadata": {},
   "outputs": [],
   "source": [
    "F_A, F_B = df_returns.cumsum(axis=0).T.values\n",
    "fig, ax = plt.subplots()\n",
    "ax.plot(df_returns.index, (F_A - F_B).cumsum())\n",
    "ax.xaxis.set_major_formatter(PercentFormatter(1))\n",
    "ax.set_xlabel('Returns', fontsize=12)\n",
    "ax.set_ylabel('Cumulative (F(A) - F(B))', fontsize=12)"
   ]
  },
  {
   "cell_type": "markdown",
   "id": "bba19ecc",
   "metadata": {},
   "source": [
    "# Part 3 - Risk Premium\n",
    "\n",
    "A student behaviour is assumed to be represented by a logarithmic utility function. His total wealth, a maid’s roomin the Latin Quarter, is about 200000€.\n",
    "His Swiss Bank advises him to sell his property to invest in two types of funds:\n",
    "1. A formula fund: \n",
    "    - 50% to gain 14,000€\n",
    "    - 50% to lose 14,000€\n",
    "2. Fund of Hedge Funds : \n",
    "    - 80% to gain 25,000€\n",
    "    - 20% to lose 50,000€"
   ]
  },
  {
   "cell_type": "markdown",
   "id": "8e97e3ba",
   "metadata": {},
   "source": [
    "## Question 1\n",
    "\n",
    "Calculate and compare the Markowitz and Arrow-Pratt Risk premia of this student for formula fund\n",
    "\n",
    "We need to know:\n",
    "\n",
    "- Arrow-Pratt risk premium is:\n",
    "$$\\pi = -\\frac{1}{2}\\sigma_w^2 \\frac{U^{\\prime\\prime}(\\tilde W)}{U^{\\prime}(\\tilde W)}$$\n",
    "\n",
    "- Markowitz risk premium:\n",
    "$$\\rho = U^{-1}(\\mathbb E[U(\\tilde W)]) - \\tilde W$$\n",
    "\n",
    "Since we have log utility, we start by computing the derivatives:\n",
    "\n",
    "$$U^{\\prime}(x) = \\frac{1}{x}$$\n",
    "$$U^{\\prime\\prime}(x) = -\\frac{1}{x^2}$$\n",
    "\n",
    "So:\n",
    "$$\\frac{U^{\\prime\\prime}(\\tilde W)}{U^{\\prime}(\\tilde W)} = -\\frac{\\tilde W}{\\tilde W^2} = -\\frac{1}{\\tilde W}$$\n",
    "\n",
    "Where $\\tilde W = W + \\mathbb E[Z]$"
   ]
  },
  {
   "cell_type": "code",
   "execution_count": 18,
   "id": "6226326f",
   "metadata": {},
   "outputs": [],
   "source": [
    "# utility function\n",
    "U = np.log\n",
    "U_prime = lambda x: 1 / x\n",
    "U_pprime = lambda x: -1 / x ** 2\n",
    "# inverse utility function\n",
    "U_inv = np.exp"
   ]
  },
  {
   "cell_type": "markdown",
   "id": "a27bacb6",
   "metadata": {},
   "source": [
    "### Asset 1 -- Formula Fund"
   ]
  },
  {
   "cell_type": "code",
   "execution_count": 19,
   "id": "973287b7",
   "metadata": {},
   "outputs": [
    {
     "name": "stdout",
     "output_type": "stream",
     "text": [
      "W_tilde: 200,000.0\n",
      "Expected return: 0.0\n",
      "Variance: 196,000,000.0\n"
     ]
    }
   ],
   "source": [
    "# Compute W_tilde\n",
    "W = 200_000\n",
    "r_Z = np.array([14_000, -14_000])\n",
    "p_Z = np.array([0.5, 0.5])\n",
    "μ_Z = (r_Z * p_Z).sum()\n",
    "σ2_Z = (r_Z ** 2 * p_Z).sum() - μ_Z ** 2\n",
    "W_tilde = W + μ_Z\n",
    "\n",
    "print(f'W_tilde: {W_tilde:,}')\n",
    "print(f'Expected return: {μ_Z:,}')\n",
    "print(f'Variance: {σ2_Z:,}')"
   ]
  },
  {
   "cell_type": "markdown",
   "id": "5e01f498",
   "metadata": {},
   "source": [
    "### Arrow-Pratt Risk"
   ]
  },
  {
   "cell_type": "code",
   "execution_count": 20,
   "id": "1e605c65",
   "metadata": {},
   "outputs": [
    {
     "data": {
      "text/plain": [
       "489.99999999999994"
      ]
     },
     "execution_count": 20,
     "metadata": {},
     "output_type": "execute_result"
    }
   ],
   "source": [
    "π = -0.5 * σ2_Z * U_pprime(W_tilde) / U_prime(W_tilde)\n",
    "π"
   ]
  },
  {
   "cell_type": "markdown",
   "id": "c8bbf841",
   "metadata": {},
   "source": [
    "### Markowitz Risk"
   ]
  },
  {
   "cell_type": "code",
   "execution_count": 21,
   "id": "51d84e12",
   "metadata": {},
   "outputs": [
    {
     "data": {
      "text/plain": [
       "490.6017251317098"
      ]
     },
     "execution_count": 21,
     "metadata": {},
     "output_type": "execute_result"
    }
   ],
   "source": [
    "E_utility = (U(W + r_Z) * p_Z).sum()\n",
    "certainty_equivalent = U_inv(E_utility)\n",
    "ρ = W_tilde - certainty_equivalent\n",
    "ρ"
   ]
  },
  {
   "cell_type": "markdown",
   "id": "5e378bc0",
   "metadata": {},
   "source": [
    "### Asset 2 -- Hedge Fund"
   ]
  },
  {
   "cell_type": "code",
   "execution_count": 64,
   "id": "31ecd34d",
   "metadata": {},
   "outputs": [
    {
     "name": "stdout",
     "output_type": "stream",
     "text": [
      "W_tilde: 210,000.0\n",
      "Expected return: 10,000.0\n",
      "Variance of W: 900,000,000.0\n"
     ]
    }
   ],
   "source": [
    "r_Z = np.array([25_000., -50_000.])\n",
    "p_Z = np.array([0.8, 0.2])\n",
    "W_tilde = W + μ_Z\n",
    "\n",
    "μ_Z = (r_Z * p_Z).sum()\n",
    "σ2_Z = (r_Z ** 2 * p_Z).sum() - μ_Z ** 2\n",
    "\n",
    "print(f'W_tilde: {W_tilde:,}')\n",
    "print(f'Expected return: {μ_Z:,}')\n",
    "print(f'Variance of W: {σ2_Z:,}')"
   ]
  },
  {
   "cell_type": "markdown",
   "id": "b0de3be4",
   "metadata": {},
   "source": [
    "### Arrow-Pratt"
   ]
  },
  {
   "cell_type": "code",
   "execution_count": 70,
   "id": "12b09331",
   "metadata": {},
   "outputs": [
    {
     "data": {
      "text/plain": [
       "2249.9999999999995"
      ]
     },
     "execution_count": 70,
     "metadata": {},
     "output_type": "execute_result"
    }
   ],
   "source": [
    "π = -0.5 * σ2_Z * U_pprime(W) / U_prime(W)\n",
    "π"
   ]
  },
  {
   "cell_type": "code",
   "execution_count": 75,
   "id": "1aa948d0",
   "metadata": {},
   "outputs": [
    {
     "data": {
      "text/plain": [
       "-7750.0"
      ]
     },
     "execution_count": 75,
     "metadata": {},
     "output_type": "execute_result"
    }
   ],
   "source": [
    "(-0.5 * σ2_Z * U_pprime(W) / U_prime(W) - μ_Z)"
   ]
  },
  {
   "cell_type": "markdown",
   "id": "457ec60e",
   "metadata": {},
   "source": [
    "### Markowitz"
   ]
  },
  {
   "cell_type": "code",
   "execution_count": 25,
   "id": "e919e502",
   "metadata": {},
   "outputs": [
    {
     "data": {
      "text/plain": [
       "2525.719916610862"
      ]
     },
     "execution_count": 25,
     "metadata": {},
     "output_type": "execute_result"
    }
   ],
   "source": [
    "E_utility = (U(W + r_Z) * p_Z).sum()\n",
    "certainty_equivalent = U_inv(E_utility)\n",
    "ρ = W_tilde - certainty_equivalent\n",
    "ρ"
   ]
  },
  {
   "cell_type": "code",
   "execution_count": null,
   "id": "72ab794b",
   "metadata": {},
   "outputs": [],
   "source": [
    "r_Z = np.array([25_000., -50_000.])\n",
    "p_Z = np.array([0.8, 0.2])\n",
    "W_tilde = W + μ_Z\n",
    "\n",
    "μ_Z = (r_Z * p_Z).sum()\n",
    "σ2_Z = (r_Z ** 2 * p_Z).sum() - μ_Z ** 2\n",
    "\n",
    "print(f'W_tilde: {W_tilde:,}')\n",
    "print(f'Expected return: {μ_Z:,}')\n",
    "print(f'Variance of W: {σ2_Z:,}')"
   ]
  },
  {
   "cell_type": "code",
   "execution_count": null,
   "id": "e85479b1",
   "metadata": {},
   "outputs": [],
   "source": []
  },
  {
   "cell_type": "markdown",
   "id": "c90bbbdd",
   "metadata": {},
   "source": [
    "# Supplimentary Exercises"
   ]
  },
  {
   "cell_type": "markdown",
   "id": "9f5e3b88",
   "metadata": {},
   "source": [
    "## Part 1 - Stochastic Dominance, MV Criteria"
   ]
  },
  {
   "cell_type": "markdown",
   "id": "73908aa3",
   "metadata": {},
   "source": [
    "### Stats"
   ]
  },
  {
   "cell_type": "code",
   "execution_count": 38,
   "id": "ee968c6d",
   "metadata": {},
   "outputs": [],
   "source": [
    "r_A = np.array([0, 0.5, 1.0, 2.0, 3.0]) * 1e-2\n",
    "p_A = np.array([0.1, 0.2, 0.4, 0.2, 0.1])\n",
    "\n",
    "r_B = np.array([-0.5, -0.25, 1.5, 3, 4]) * 1e-2\n",
    "p_B = np.array([0.1, 0.2, 0.4, 0.2, 0.1])"
   ]
  },
  {
   "cell_type": "code",
   "execution_count": 39,
   "id": "e85ef752",
   "metadata": {},
   "outputs": [
    {
     "name": "stdout",
     "output_type": "stream",
     "text": [
      "              Fund A              Fund B\n",
      "----------------------------------------\n",
      "μ                  1.200%         1.500%\n",
      "σ                  0.843%         1.445%\n",
      "σ2                 0.007%         0.021%\n",
      "Skew                0.737          0.121\n",
      "Kurt                2.753          1.926\n"
     ]
    }
   ],
   "source": [
    "assets = ['Fund A', 'Fund B']\n",
    "compute_stats([r_A, r_B], [p_A, p_B], assets)"
   ]
  },
  {
   "cell_type": "markdown",
   "id": "03f707ad",
   "metadata": {},
   "source": [
    "### Why will some investors choose fund A?"
   ]
  },
  {
   "cell_type": "markdown",
   "id": "bf69adc1",
   "metadata": {},
   "source": [
    "Some investors might choose fund A because it has lower risk (as measured by the variance) than fund B. "
   ]
  },
  {
   "cell_type": "markdown",
   "id": "72fef247",
   "metadata": {},
   "source": [
    "### Stochastic Dominance\n",
    "\n",
    "Neither fund dominates at the first order, because we have the crossing at 0.005"
   ]
  },
  {
   "cell_type": "code",
   "execution_count": 40,
   "id": "afc6e4ad",
   "metadata": {},
   "outputs": [
    {
     "data": {
      "image/png": "[encoded data removed]",
      "text/plain": [
       "<Figure size 640x480 with 1 Axes>"
      ]
     },
     "metadata": {},
     "output_type": "display_data"
    }
   ],
   "source": [
    "df_returns = merge_returns([r_A, r_B], [p_A, p_B], assets, stepsize=0.0025, round_at=4)\n",
    "df_returns.cumsum(axis=0).plot();"
   ]
  },
  {
   "cell_type": "markdown",
   "id": "6c775d43",
   "metadata": {},
   "source": [
    "Similarly, the second order graph crosses y=0, so there is no dominant asset."
   ]
  },
  {
   "cell_type": "code",
   "execution_count": 41,
   "id": "6674a129",
   "metadata": {},
   "outputs": [
    {
     "data": {
      "text/plain": [
       "<Axes: >"
      ]
     },
     "execution_count": 41,
     "metadata": {},
     "output_type": "execute_result"
    },
    {
     "data": {
      "image/png": "[encoded data removed]",
      "text/plain": [
       "<Figure size 640x480 with 1 Axes>"
      ]
     },
     "metadata": {},
     "output_type": "display_data"
    }
   ],
   "source": [
    "df_returns.cumsum(axis=0).diff(axis=1).iloc[:, 1].cumsum().plot()\n"
   ]
  },
  {
   "cell_type": "markdown",
   "id": "022ee07f",
   "metadata": {},
   "source": [
    "## Dominance, MV given Normal returns"
   ]
  },
  {
   "cell_type": "markdown",
   "id": "ea04891f",
   "metadata": {},
   "source": [
    "### Case 1\n",
    "$$\\mu_A = \\mu_B, \\sigma_A > \\sigma_B$$"
   ]
  },
  {
   "cell_type": "code",
   "execution_count": 42,
   "id": "581c117a",
   "metadata": {},
   "outputs": [],
   "source": [
    "def analyse_case(params_A, params_B):\n",
    "    fig, ax = plt.subplots(1, 3, figsize=(14, 4))\n",
    "    d_A = stats.norm(*params_A)\n",
    "    d_B = stats.norm(*params_B)\n",
    "    r_grid = np.linspace(-3, 3, 100)\n",
    "    \n",
    "    def pdf(d, x_grid):\n",
    "        return d.pdf(x_grid)\n",
    "    \n",
    "    def cdf(d, x_grid):\n",
    "        return d.cdf(x_grid)\n",
    "    \n",
    "    def diff_cdf(d_A, d_B, x_grid):\n",
    "        F_A = d_A.cdf(x_grid)\n",
    "        F_B = d_B.cdf(x_grid)\n",
    "        return (F_A - F_B).cumsum()\n",
    "    \n",
    "    names = ['PDF', 'CDF', 'diff_CDF']\n",
    "    for axis, func, name in zip(fig.axes, [pdf, cdf, diff_cdf], names):\n",
    "        if name != 'diff_CDF':\n",
    "            axis.plot(r_grid, func(d_A, r_grid), label=f'{name} of A')\n",
    "            axis.plot(r_grid, func(d_B, r_grid), label=f'{name} of B')\n",
    "        else:\n",
    "            axis.plot(r_grid, func(d_A, d_B, r_grid), label='F_A(x) - F_B(x)')\n",
    "        axis.set_title(name)\n",
    "        axis.legend()\n",
    "    plt.show()"
   ]
  },
  {
   "cell_type": "code",
   "execution_count": 43,
   "id": "1d8e2755",
   "metadata": {},
   "outputs": [
    {
     "name": "stdout",
     "output_type": "stream",
     "text": [
      "Case 1: Equal means, A has larger variance\n"
     ]
    },
    {
     "data": {
      "image/png": "[encoded data removed]",
      "text/plain": [
       "<Figure size 1400x400 with 3 Axes>"
      ]
     },
     "metadata": {},
     "output_type": "display_data"
    },
    {
     "name": "stdout",
     "output_type": "stream",
     "text": [
      "Case 2: Equal variance, A has larger mean\n"
     ]
    },
    {
     "data": {
      "image/png": "[encoded data removed]",
      "text/plain": [
       "<Figure size 1400x400 with 3 Axes>"
      ]
     },
     "metadata": {},
     "output_type": "display_data"
    },
    {
     "name": "stdout",
     "output_type": "stream",
     "text": [
      "Case 3: B has larger mean and larger variance\n"
     ]
    },
    {
     "data": {
      "image/png": "[encoded data removed]",
      "text/plain": [
       "<Figure size 1400x400 with 3 Axes>"
      ]
     },
     "metadata": {},
     "output_type": "display_data"
    }
   ],
   "source": [
    "print('Case 1: Equal means, A has larger variance')\n",
    "analyse_case([0, 2], [0, 1])\n",
    "\n",
    "print('Case 2: Equal variance, A has larger mean')\n",
    "analyse_case([1, 1], [0, 1])\n",
    "\n",
    "print('Case 3: B has larger mean and larger variance')\n",
    "analyse_case([0, 1], [1, 2])"
   ]
  },
  {
   "cell_type": "markdown",
   "id": "7861c137",
   "metadata": {},
   "source": [
    "Comments:\n",
    "- Case 1: A has both up-side and down-side risk relative to B, since they have the same mean but A has higher variance. You can see that in the PDF plot -- A (blue) has fatter tails. As a result, either asset dominates in the first order -- asset B is better in the region of negative returns (because there are fewer of them) but A is better in the region of positive returns (because it goes out farther. B dominates A at the second order, though, since it gives the same expected returns at lower risk.\n",
    "\n",
    "- Case 2: Since the variances are equal but A has a higher expected return, it's clear that A should be considered a superior investment by all metrics. Indeed, we can see that A dominates B at the first order, and at the second order (because F_A(x) - F_B(x) is strictly negative).\n",
    "\n",
    "- Case 3: My intuition for this one is that it depends on the relative differences in mean and standard deviation between the distributions of returns for assets A and B. The way I've drawn it, neither asset dominates at either order, because the extra expected return from B is not enough to compensate for the additional variance. A motivated student could figure out what is the correct \"price\" of addional variance, in terms of additional expected return, to ensure that B always dominates A."
   ]
  },
  {
   "cell_type": "markdown",
   "id": "ae96b4d5",
   "metadata": {},
   "source": [
    "## Attitudes w.r.t risk"
   ]
  },
  {
   "cell_type": "code",
   "execution_count": 2,
   "id": "da63ec28",
   "metadata": {},
   "outputs": [],
   "source": [
    "g, W = sp.symbols('gamma W')\n",
    "u1 = -sp.exp(-g * W)\n",
    "u2 = 2 * sp.log(W)\n",
    "\n",
    "# We need up to the 4th derivate of each of these\n",
    "d1_u1 = u1.diff(W)\n",
    "d2_u1 = d1_u1.diff(W)\n",
    "d3_u1 = d2_u1.diff(W)\n",
    "d4_u1 = d3_u1.diff(W)\n",
    "d5_u1 = d4_u1.diff(W)\n",
    "\n",
    "d1_u2 = u2.diff(W)\n",
    "d2_u2 = d1_u2.diff(W)\n",
    "d3_u2 = d2_u2.diff(W)\n",
    "d4_u2 = d3_u2.diff(W)\n",
    "d5_u2 = d4_u2.diff(W)\n"
   ]
  },
  {
   "cell_type": "markdown",
   "id": "d6632ba3",
   "metadata": {},
   "source": [
    "### Absolute Risk Aversion\n",
    "\n",
    "The absolute risk aversion index indicates how an agent's demand for risky assets changes with their wealth"
   ]
  },
  {
   "cell_type": "code",
   "execution_count": 3,
   "id": "48aa5132",
   "metadata": {},
   "outputs": [
    {
     "data": {
      "text/latex": [
       "$\\displaystyle ARA_{exp} = \\gamma$"
      ],
      "text/plain": [
       "Eq(ARA_{exp}, gamma)"
      ]
     },
     "metadata": {},
     "output_type": "display_data"
    },
    {
     "data": {
      "text/latex": [
       "$\\displaystyle ARA_{log} = \\frac{1}{W}$"
      ],
      "text/plain": [
       "Eq(ARA_{log}, 1/W)"
      ]
     },
     "metadata": {},
     "output_type": "display_data"
    }
   ],
   "source": [
    "# Absolute risk aversion (ARA)\n",
    "ara_1 = -d2_u1 / d1_u1\n",
    "ara_2 = -d2_u2 / d1_u2\n",
    "\n",
    "display(sp.Eq(sp.Symbol('ARA_{exp}'), ara_1))\n",
    "display(sp.Eq(sp.Symbol('ARA_{log}'), ara_2))"
   ]
  },
  {
   "cell_type": "markdown",
   "id": "6f1324bc",
   "metadata": {},
   "source": [
    "### Relative Risk Aversion\n",
    "The relative risk aversion index describes how the proportion invested in risky assets changes with wealth."
   ]
  },
  {
   "cell_type": "code",
   "execution_count": 4,
   "id": "6887fd3a",
   "metadata": {},
   "outputs": [
    {
     "data": {
      "text/latex": [
       "$\\displaystyle RRA_{exp} = W \\gamma$"
      ],
      "text/plain": [
       "Eq(RRA_{exp}, W*gamma)"
      ]
     },
     "metadata": {},
     "output_type": "display_data"
    },
    {
     "data": {
      "text/latex": [
       "$\\displaystyle RRA_{log} = 1$"
      ],
      "text/plain": [
       "Eq(RRA_{log}, 1)"
      ]
     },
     "metadata": {},
     "output_type": "display_data"
    }
   ],
   "source": [
    "rra_1 = W * ara_1\n",
    "rra_2 = W * ara_2\n",
    "display(sp.Eq(sp.Symbol('RRA_{exp}'), rra_1))\n",
    "display(sp.Eq(sp.Symbol('RRA_{log}'), rra_2))"
   ]
  },
  {
   "cell_type": "markdown",
   "id": "f47d3553",
   "metadata": {},
   "source": [
    "### Prudence\n",
    "\n",
    "The prudence index reflects aversion to loss or downside risk and a preference for positive asymmetry."
   ]
  },
  {
   "cell_type": "code",
   "execution_count": 5,
   "id": "182134ce",
   "metadata": {},
   "outputs": [
    {
     "data": {
      "text/latex": [
       "$\\displaystyle P_{exp} = \\gamma$"
      ],
      "text/plain": [
       "Eq(P_{exp}, gamma)"
      ]
     },
     "metadata": {},
     "output_type": "display_data"
    },
    {
     "data": {
      "text/latex": [
       "$\\displaystyle P_{log} = \\frac{2}{W}$"
      ],
      "text/plain": [
       "Eq(P_{log}, 2/W)"
      ]
     },
     "metadata": {},
     "output_type": "display_data"
    }
   ],
   "source": [
    "P1 = -d3_u1 / d2_u1\n",
    "P2 = -d3_u2 / d2_u2\n",
    "\n",
    "display(sp.Eq(sp.Symbol('P_{exp}'), P1))\n",
    "display(sp.Eq(sp.Symbol('P_{log}'), P2))"
   ]
  },
  {
   "cell_type": "markdown",
   "id": "7e558f50",
   "metadata": {},
   "source": [
    "### Temperance\n",
    "\n",
    "The temperance index reflects an agent's behavior when facing uninsurable risk. An agent who exhibits \"temperance\" and confronts non-insurable income risk will reduce their allocation to risky assets in their portfolio (their exposure to other risks) even if both risks are statistically independent."
   ]
  },
  {
   "cell_type": "code",
   "execution_count": 6,
   "id": "9b01794b",
   "metadata": {},
   "outputs": [
    {
     "data": {
      "text/latex": [
       "$\\displaystyle T_{exp} = \\gamma$"
      ],
      "text/plain": [
       "Eq(T_{exp}, gamma)"
      ]
     },
     "metadata": {},
     "output_type": "display_data"
    },
    {
     "data": {
      "text/latex": [
       "$\\displaystyle T_{log} = \\frac{3}{W}$"
      ],
      "text/plain": [
       "Eq(T_{log}, 3/W)"
      ]
     },
     "metadata": {},
     "output_type": "display_data"
    }
   ],
   "source": [
    "T1 = -d4_u1 / d3_u1\n",
    "T2 = -d4_u2 / d3_u2\n",
    "\n",
    "display(sp.Eq(sp.Symbol('T_{exp}'), T1))\n",
    "display(sp.Eq(sp.Symbol('T_{log}'), T2))"
   ]
  },
  {
   "cell_type": "markdown",
   "id": "fc00ba36",
   "metadata": {},
   "source": [
    "### Anxiety\n",
    "\n",
    "The anxiety index reflects an agent's reaction to multiple risks."
   ]
  },
  {
   "cell_type": "code",
   "execution_count": 7,
   "id": "f64e9f00",
   "metadata": {},
   "outputs": [
    {
     "data": {
      "text/latex": [
       "$\\displaystyle A_{exp} = \\gamma$"
      ],
      "text/plain": [
       "Eq(A_{exp}, gamma)"
      ]
     },
     "metadata": {},
     "output_type": "display_data"
    },
    {
     "data": {
      "text/latex": [
       "$\\displaystyle A_{log} = \\frac{4}{W}$"
      ],
      "text/plain": [
       "Eq(A_{log}, 4/W)"
      ]
     },
     "metadata": {},
     "output_type": "display_data"
    }
   ],
   "source": [
    "A1 = -d5_u1 / d4_u1\n",
    "A2 = -d5_u2 / d4_u2\n",
    "\n",
    "display(sp.Eq(sp.Symbol('A_{exp}'), A1))\n",
    "display(sp.Eq(sp.Symbol('A_{log}'), A2))"
   ]
  },
  {
   "cell_type": "markdown",
   "id": "c0ef05a9",
   "metadata": {},
   "source": [
    "## MV Assumptions\n",
    "\n",
    "Here's some data:\n",
    "\n",
    "|                  | Action A | Action B | Action C |\n",
    "|------------------|----------|----------|----------|\n",
    "| Mean             | 12%      | 18%      | 18%      |\n",
    "| Standard Deviation | 16%   | 24%      | 24%      |\n",
    "| Skewness Coefficient | 0.002 | 0.018 | 0.345   |\n",
    "| Kurtosis Coefficient | 2.975 | 3.024 | 3.025   |\n",
    "| Jarque-Bera Test P-value | 0.672 | 0.231 | 0.008 |"
   ]
  },
  {
   "cell_type": "markdown",
   "id": "f3831d4b",
   "metadata": {},
   "source": [
    "### Is MV appropriate?\n",
    "\n",
    "The MV framework assumes normality of assets (only the first 2 moments matter). \n",
    "\n",
    "In this case, the high order moments are quite small. JB rejects C as normal, but accepts A and B. Nevertheless, the kurtosis of C is close to normal, with a small positive skew. I think MV is OK for these assets, because at worst we will underestimate the upside risk of C by chopping off the right tail. Portfolios built under the MV assumptions using this data will be slightly too conservative, but that's probably not too much of a problem for risk-averse customers. "
   ]
  },
  {
   "cell_type": "markdown",
   "id": "7c143bad",
   "metadata": {},
   "source": [
    "### B vs C?\n",
    "\n",
    "C is a superior stock to B, because they have the same mean and variance, but C has a positive skew. That means C gives upside potential for nothing. Regardless of the utility function under consideration, C is prefered."
   ]
  },
  {
   "cell_type": "markdown",
   "id": "f9726c03",
   "metadata": {},
   "source": [
    "## Utility Function and Risk Aversion\n",
    "\n",
    "Consider an MV utility function:\n",
    "\n",
    "$$ U(\\tilde r) = \\mu_{\\tilde r}- \\frac{1}{2} A \\sigma^2_{\\tilde r}$$"
   ]
  },
  {
   "cell_type": "markdown",
   "id": "ebacd6f6",
   "metadata": {},
   "source": [
    "### \n",
    "Assume that A=2, plot isocurve for U=1, U=3"
   ]
  },
  {
   "cell_type": "code",
   "execution_count": 8,
   "id": "ec32d217",
   "metadata": {},
   "outputs": [
    {
     "data": {
      "image/png": "[encoded data removed]",
      "text/plain": [
       "<Figure size 640x480 with 1 Axes>"
      ]
     },
     "metadata": {},
     "output_type": "display_data"
    }
   ],
   "source": [
    "def f_mu(U, A, sigma):\n",
    "    return U + 0.5 * A * sigma ** 2\n",
    "\n",
    "sigma_grid = np.linspace(0, 3, 100)\n",
    "fig, ax = plt.subplots()\n",
    "ax.plot(sigma_grid, f_mu(1, 2, sigma_grid), label=r'$\\bar U = 1$')\n",
    "ax.plot(sigma_grid, f_mu(3, 2, sigma_grid), label=r'$\\bar U = 3$')\n",
    "ax.legend()\n",
    "plt.show()"
   ]
  },
  {
   "cell_type": "markdown",
   "id": "427233f3",
   "metadata": {},
   "source": [
    "#### Comment\n",
    "The Us are countours of constant utility. So, fixing sigma at a given value, we have to increase expected returns to jump from one utility to the next."
   ]
  },
  {
   "cell_type": "markdown",
   "id": "6a743514",
   "metadata": {},
   "source": [
    "###\n",
    "Set U = 1 and plot A = [2, 3, 4]"
   ]
  },
  {
   "cell_type": "code",
   "execution_count": 9,
   "id": "ef7608f4",
   "metadata": {},
   "outputs": [
    {
     "data": {
      "image/png": "[encoded data removed]",
      "text/plain": [
       "<Figure size 640x480 with 1 Axes>"
      ]
     },
     "metadata": {},
     "output_type": "display_data"
    }
   ],
   "source": [
    "sigma_grid = np.linspace(0, 3, 100)\n",
    "fig, ax = plt.subplots()\n",
    "\n",
    "A_grid = np.arange(2, 5)\n",
    "for A in A_grid:\n",
    "    ax.plot(sigma_grid, f_mu(1, A, sigma_grid), label=f'$A = {A}$')\n",
    "ax.legend()\n",
    "plt.show()"
   ]
  },
  {
   "cell_type": "markdown",
   "id": "d8087e90",
   "metadata": {},
   "source": [
    "#### Comment\n",
    "\n",
    "A is the risk aversion coefficient. As it increases, the investor requires a greater compensation in terms of expected return to accept the unit of risk. Thus, as A increases, the steepness of the slopes increase."
   ]
  },
  {
   "cell_type": "code",
   "execution_count": 52,
   "id": "f43d4da7",
   "metadata": {},
   "outputs": [],
   "source": [
    "r = np.array([-50, -27.5, 2.5, 10, 25]) * 1e-2\n",
    "p_A = np.array([0, 0, 1, 0, 0])\n",
    "p_B = np.array([0.3, 0, 0, 0, 0.7])\n",
    "p_C = np.array([0, 0.2, 0, 0.8, 0])\n",
    "\n",
    "probs = pd.DataFrame(np.c_[p_A, p_B, p_C], index=r, columns=['Monetary Fund', 'Alterantive Fund', 'Global Equity Fund'])"
   ]
  },
  {
   "cell_type": "code",
   "execution_count": 53,
   "id": "3d3fd846",
   "metadata": {},
   "outputs": [
    {
     "data": {
      "text/html": [
       "<div>\n",
       "<style scoped>\n",
       "    .dataframe tbody tr th:only-of-type {\n",
       "        vertical-align: middle;\n",
       "    }\n",
       "\n",
       "    .dataframe tbody tr th {\n",
       "        vertical-align: top;\n",
       "    }\n",
       "\n",
       "    .dataframe thead th {\n",
       "        text-align: right;\n",
       "    }\n",
       "</style>\n",
       "<table border=\"1\" class=\"dataframe\">\n",
       "  <thead>\n",
       "    <tr style=\"text-align: right;\">\n",
       "      <th></th>\n",
       "      <th>Monetary Fund</th>\n",
       "      <th>Alterantive Fund</th>\n",
       "      <th>Global Equity Fund</th>\n",
       "    </tr>\n",
       "  </thead>\n",
       "  <tbody>\n",
       "    <tr>\n",
       "      <th>-0.500</th>\n",
       "      <td>0.0</td>\n",
       "      <td>0.3</td>\n",
       "      <td>0.0</td>\n",
       "    </tr>\n",
       "    <tr>\n",
       "      <th>-0.275</th>\n",
       "      <td>0.0</td>\n",
       "      <td>0.0</td>\n",
       "      <td>0.2</td>\n",
       "    </tr>\n",
       "    <tr>\n",
       "      <th>0.025</th>\n",
       "      <td>1.0</td>\n",
       "      <td>0.0</td>\n",
       "      <td>0.0</td>\n",
       "    </tr>\n",
       "    <tr>\n",
       "      <th>0.100</th>\n",
       "      <td>0.0</td>\n",
       "      <td>0.0</td>\n",
       "      <td>0.8</td>\n",
       "    </tr>\n",
       "    <tr>\n",
       "      <th>0.250</th>\n",
       "      <td>0.0</td>\n",
       "      <td>0.7</td>\n",
       "      <td>0.0</td>\n",
       "    </tr>\n",
       "  </tbody>\n",
       "</table>\n",
       "</div>"
      ],
      "text/plain": [
       "        Monetary Fund  Alterantive Fund  Global Equity Fund\n",
       "-0.500            0.0               0.3                 0.0\n",
       "-0.275            0.0               0.0                 0.2\n",
       " 0.025            1.0               0.0                 0.0\n",
       " 0.100            0.0               0.0                 0.8\n",
       " 0.250            0.0               0.7                 0.0"
      ]
     },
     "execution_count": 53,
     "metadata": {},
     "output_type": "execute_result"
    }
   ],
   "source": [
    "probs"
   ]
  },
  {
   "cell_type": "code",
   "execution_count": 54,
   "id": "7dd41377",
   "metadata": {},
   "outputs": [
    {
     "data": {
      "text/plain": [
       "Monetary Fund         0.025000\n",
       "Alterantive Fund     -0.093125\n",
       "Global Equity Fund    0.002500\n",
       "dtype: float64"
      ]
     },
     "execution_count": 54,
     "metadata": {},
     "output_type": "execute_result"
    }
   ],
   "source": [
    "μs = (r[:, None] * probs).sum(axis=0)\n",
    "σ2s = (r[:, None] ** 2 * probs).sum(axis=0) - μs ** 2\n",
    "Us = μs - 0.5 * 2 * σ2s\n",
    "\n",
    "Us"
   ]
  },
  {
   "cell_type": "markdown",
   "id": "0f290c9e",
   "metadata": {},
   "source": [
    "The monetary fund has the highest probability. If the customer doesn't like that, he should go with the Global equlity fund."
   ]
  },
  {
   "cell_type": "code",
   "execution_count": null,
   "id": "6bcddd6f",
   "metadata": {},
   "outputs": [],
   "source": []
  }
 ],
 "metadata": {
  "kernelspec": {
   "display_name": "Python 3 (ipykernel)",
   "language": "python",
   "name": "python3"
  },
  "language_info": {
   "codemirror_mode": {
    "name": "ipython",
    "version": 3
   },
   "file_extension": ".py",
   "mimetype": "text/x-python",
   "name": "python",
   "nbconvert_exporter": "python",
   "pygments_lexer": "ipython3",
   "version": "3.10.12"
  },
  "toc": {
   "base_numbering": 1,
   "nav_menu": {},
   "number_sections": true,
   "sideBar": true,
   "skip_h1_title": false,
   "title_cell": "Table of Contents",
   "title_sidebar": "Contents",
   "toc_cell": true,
   "toc_position": {},
   "toc_section_display": true,
   "toc_window_display": false
  }
 },
 "nbformat": 4,
 "nbformat_minor": 5
}
