{
 "cells": [
  {
   "cell_type": "markdown",
   "id": "cf838ea9",
   "metadata": {
    "toc": true
   },
   "source": [
    "<h1>Table of Contents<span class=\"tocSkip\"></span></h1>\n",
    "<div class=\"toc\"><ul class=\"toc-item\"><li><span><a href=\"#N-Risky-Assets-Portfolio\" data-toc-modified-id=\"N-Risky-Assets-Portfolio-1\"><span class=\"toc-item-num\">1&nbsp;&nbsp;</span>N Risky Assets Portfolio</a></span><ul class=\"toc-item\"><li><span><a href=\"#Question-1\" data-toc-modified-id=\"Question-1-1.1\"><span class=\"toc-item-num\">1.1&nbsp;&nbsp;</span>Question 1</a></span></li></ul></li></ul></div>"
   ]
  },
  {
   "cell_type": "code",
   "execution_count": 1,
   "id": "47394adb",
   "metadata": {},
   "outputs": [],
   "source": [
    "import numpy as np\n",
    "import sympy as sp\n",
    "import pandas as pd\n",
    "import matplotlib.pyplot as plt\n",
    "from scipy import stats, optimize\n",
    "import seaborn as sns\n",
    "\n",
    "config = {\n",
    "    'figure.facecolor':'w',\n",
    "    'axes.grid':True,\n",
    "    'axes.spines.top':False,\n",
    "    'axes.spines.bottom':False,\n",
    "    'axes.spines.left':False,\n",
    "    'axes.spines.right':False,\n",
    "    'grid.linewidth':0.5,\n",
    "    'grid.linestyle':'--',\n",
    "    'figure.constrained_layout.use':True\n",
    "}\n",
    "\n",
    "plt.rcParams.update(config)"
   ]
  },
  {
   "cell_type": "markdown",
   "id": "9c014563",
   "metadata": {},
   "source": [
    "# N Risky Assets Portfolio\n",
    "\n",
    "Here's our data:\n",
    "\n",
    "Given three assets characterized by:\n",
    "\n",
    "| Asset | Expected Return |\n",
    "|-------|-----------------|\n",
    "|   1   |       11        |\n",
    "|   2   |        9        |\n",
    "|   3   |       42        |\n",
    "\n",
    "The Variance-covariance Matrix is defined as:\n",
    "\n",
    "$$\\Omega = \\begin{bmatrix}\n",
    "0.0064 & 0.00336 & 0.011088 \\\\\n",
    "0.00336 & 0.0049  & 0.008316 \\\\\n",
    "0.011088 & 0.008316 & 0.1089 \\\\\n",
    "\\end{bmatrix} $$\n",
    "\n",
    "There is no Risk-free asset."
   ]
  },
  {
   "cell_type": "code",
   "execution_count": 2,
   "id": "7f2969eb",
   "metadata": {},
   "outputs": [],
   "source": [
    "r = np.array([0.11, 0.09, 0.42])\n",
    "\n",
    "Ω = np.array([\n",
    "    [0.0064, 0.00336, 0.011088],\n",
    "    [0.00336, 0.0049, 0.008316],\n",
    "    [0.011088, 0.008316, 0.1089]\n",
    "])"
   ]
  },
  {
   "cell_type": "markdown",
   "id": "e1495132",
   "metadata": {},
   "source": [
    "## Question 1\n",
    "\n",
    "Write down the objective function.\n",
    "\n",
    "We're still doing what we've always done: we seek weights $w$ to minimize the variance of our portfolio, and the weights should all add up to 1. \n",
    "\n",
    "We're going to add one new constraint, that the resulting portfolio have exactly returns $\\mu_p$. That is, we want $w^T \\mu = \\mu_p$. Putting all these requiremnts into a constrained optimization gives:\n",
    "\n",
    "\n",
    "$$\\min_{w}\\frac{1}{2}w^T \\Sigma w, \\quad s.t. \\begin{cases} w^T \\textbf 1 = 1 \\\\ w^T \\mu = \\mu_p \\end{cases}$$\n",
    "\n",
    "**Important note**\n",
    "You should remember that $y^T X y$, where $y$ is a vector and $X$ is a matrix, is a matrix quadratic equation. It's the linear algebra equivalent to $xy^2$. \n",
    "\n",
    "\n",
    "Since this is a constrained optimization, set up a Lagrangian:\n",
    "\n",
    "$$\\mathcal L = \\frac{1}{2}w^T \\Sigma w - \\lambda_1(w^T \\mu - \\mu_p) - \\lambda_2(w^T \\textbf 1 - 1)$$\n",
    "\n",
    "Get FoC:\n",
    "\n",
    "$$\\begin{align}\\frac{\\partial \\mathcal L}{\\partial w} = 0 \\implies & 2 \\Sigma w - \\lambda_1 \\mu - \\lambda_2 \\textbf 1 = 0 \\\\\n",
    "                \\frac{\\partial \\mathcal L}{\\partial \\lambda_1} = 0 \\implies & w^T \\mu - \\mu_p = 0 \\\\\n",
    "                \\frac{\\partial \\mathcal L}{\\partial \\lambda_2} = 0 \\implies & w^T \\textbf 1 - 1 = 0 \n",
    "\\end{align}$$\n",
    "\n",
    "From here we have a choice. Either:\n",
    "\n",
    "1. **We do a lot of algebra by hand to get $w$.**\n",
    "\n",
    "To do this, solve $w = \\frac{1}{2}\\Sigma^{-1} \\lambda_1 \\mu + \\frac{1}{2}\\Sigma^{-1} \\lambda_2 \\textbf 1$ from the first equation.\n",
    "\n",
    "We can make this equation a bit prettier if we define $\\lambda = \\begin{bmatrix} \\lambda_1 \\\\ \\lambda_2  \\end{bmatrix}$ (shape is $2 \\times 1$) and $M = \\begin{bmatrix}\\mu & \\textbf 1 \\end{bmatrix}$ (shape is $n \\times 2$). Then we get:\n",
    "\n",
    "$$w = \\frac{1}{2}\\Sigma^{-1}M\\lambda$$\n",
    "\n",
    "Next we substitute $w$ into the first constraint:\n",
    "\n",
    "$$\\begin{align}w^T \\mu &= \\mu_p \\\\\n",
    "               \\mu^T w &= \\mu_p \\\\\n",
    "               \\frac{1}{2}\\mu^T \\Sigma^{-1} \\lambda_1 \\mu + \\frac{1}{2} \\mu^T \\Sigma^{-1} \\lambda_2 \\textbf 1 &= \\mu_p \\\\\n",
    "                \\frac{1}{2} \\lambda_1 \\mu^T \\Sigma^{-1} \\mu + \\frac{1}{2} \\lambda_2 \\mu^T \\Sigma^{-1} \\textbf 1 &= \\mu_p\n",
    "\\end{align}$$\n",
    "\n",
    "And the second:\n",
    "\n",
    "$$\\begin{align} w^T \\textbf 1 &= 1 \\\\\n",
    "                \\textbf 1^T w &= 1 \\\\\n",
    "                \\frac{1}{2} \\lambda_1 \\textbf 1^T \\Sigma^{-1} \\mu + \\frac{1}{2} \\lambda_2 \\textbf 1^T \\Sigma^{-1} \\textbf 1 &= 1\n",
    "\\end{align}$$\n",
    "\n",
    "We can stack these two equations into a single matrix equation:\n",
    "\n",
    "$$\\frac{1}{2} \\begin{bmatrix} \\mu^T \\Sigma^{-1} \\mu & \\mu^T \\Sigma^{-1} \\textbf 1 \\\\\n",
    "                   \\textbf 1^T \\Sigma^{-1} \\mu & \\textbf 1^T \\Sigma^{-1} \\textbf 1 \\end{bmatrix} \\begin{bmatrix} \\lambda_1 \\\\ \\lambda_2 \\end{bmatrix} =\n",
    "                   \\begin{bmatrix} \\mu_p \\\\ 1 \\end{bmatrix}$$\n",
    "                   \n",
    "If you stare at this matrix for a bit:\n",
    "\n",
    "$$\n",
    " \\begin{bmatrix} \\mu^T \\Sigma^{-1} \\mu & \\mu^T \\Sigma^{-1} \\textbf 1 \\\\\n",
    "                   \\textbf 1^T \\Sigma^{-1} \\mu & \\textbf 1^T \\Sigma^{-1} \\textbf 1 \\end{bmatrix} \\begin{bmatrix} \\lambda_1 \\\\ \\lambda_2 \\end{bmatrix}\n",
    "$$\n",
    "\n",
    "You will see that it is actually $M^T \\Sigma^{-1} M$, with $M$ defined as above. So we have found:\n",
    "\n",
    "$$\\frac{1}{2} B \\lambda = \\bar{\\mu_p}$$\n",
    "\n",
    "with $\\bar{\\mu_p} = \\begin{bmatrix} \\mu_p \\\\ 1 \\end{bmatrix}$ and $B = M^T \\Sigma^{-1} M$.\n",
    "\n",
    "So we can solve this for $\\lambda$:\n",
    "$$\\lambda = -2B^{-1} \\bar{\\mu_p}$$\n",
    "\n",
    "Then plug this back into the weights:\n",
    "\n",
    "$$w = \\Sigma^{-1}MB^{-1} \\bar{\\mu_p}$$\n",
    "\n",
    "2. ** We stack the FoCs into a matrix directly and solve it with a computer**\n",
    "\n",
    "We take the three FoCs:\n",
    "\n",
    "$$\\begin{align}\n",
    "2 \\Sigma w - \\lambda_1 \\mu - \\lambda_2 \\textbf 1 &= 0 \\\\\n",
    "w^T \\mu - \\mu_p &= 0 \\\\\n",
    " w^T \\textbf 1 - 1 &= 0 \\end{align}$$\n",
    " \n",
    "And re-write the system as a single matrix equation:\n",
    "\n",
    "$$\\begin{bmatrix} 2\\Sigma & \\mu & \\textbf 1 \\\\\n",
    "                  \\textbf 1^T & 0 & 0 \\\\\n",
    "                  \\mu^T & 0 & 0 \\end{bmatrix} \\begin{bmatrix} w \\\\ \\lambda_1 \\\\ \\lambda_2 \\end{bmatrix} = \\begin{bmatrix} 0 \\\\ 1 \\\\ \\mu_p \\end{bmatrix}$$\n",
    "\n",
    "Or, in a more compact notation:\n",
    "\n",
    "$$ A x = b$$\n",
    "\n",
    "With solution $ x = A^{-1}b$\n"
   ]
  },
  {
   "cell_type": "code",
   "execution_count": 86,
   "id": "e0f2ec74",
   "metadata": {},
   "outputs": [],
   "source": [
    "n = 3\n",
    "A = np.r_[np.c_[2 * Ω, r, np.ones(n)],\n",
    "          np.c_[np.ones((1, n)), 0, 0],\n",
    "          np.c_[r[None], 0, 0]]\n",
    "A_inv = np.linalg.inv(A)"
   ]
  },
  {
   "cell_type": "code",
   "execution_count": null,
   "id": "2f98113e",
   "metadata": {},
   "outputs": [],
   "source": []
  },
  {
   "cell_type": "code",
   "execution_count": 87,
   "id": "8f1016f8",
   "metadata": {},
   "outputs": [
    {
     "data": {
      "text/plain": [
       "array([[0.0128  , 0.00672 , 0.022176, 0.11    , 1.      ],\n",
       "       [0.00672 , 0.0098  , 0.016632, 0.09    , 1.      ],\n",
       "       [0.022176, 0.016632, 0.2178  , 0.42    , 1.      ],\n",
       "       [1.      , 1.      , 1.      , 0.      , 0.      ],\n",
       "       [0.11    , 0.09    , 0.42    , 0.      , 0.      ]])"
      ]
     },
     "execution_count": 87,
     "metadata": {},
     "output_type": "execute_result"
    }
   ],
   "source": [
    "A"
   ]
  },
  {
   "cell_type": "code",
   "execution_count": 88,
   "id": "8d6d26e1",
   "metadata": {},
   "outputs": [],
   "source": [
    "r_p = 0.13\n",
    "b = np.r_[np.zeros(n), 1, r_p]\n",
    "sol = (A_inv @ b)\n",
    "w, lambdas = sol[:-2], sol[-2:]"
   ]
  },
  {
   "cell_type": "code",
   "execution_count": 89,
   "id": "3e6663f3",
   "metadata": {},
   "outputs": [
    {
     "data": {
      "text/plain": [
       "array([0.43907397, 0.46632445, 0.09460158])"
      ]
     },
     "execution_count": 89,
     "metadata": {},
     "output_type": "execute_result"
    }
   ],
   "source": [
    "w"
   ]
  },
  {
   "cell_type": "code",
   "execution_count": 90,
   "id": "0c28b03d",
   "metadata": {},
   "outputs": [
    {
     "data": {
      "text/plain": [
       "0.006304746654329381"
      ]
     },
     "execution_count": 90,
     "metadata": {},
     "output_type": "execute_result"
    }
   ],
   "source": [
    "w.T @ Ω @ w"
   ]
  },
  {
   "cell_type": "code",
   "execution_count": null,
   "id": "7ec5d941",
   "metadata": {},
   "outputs": [],
   "source": []
  }
 ],
 "metadata": {
  "kernelspec": {
   "display_name": "Python 3 (ipykernel)",
   "language": "python",
   "name": "python3"
  },
  "language_info": {
   "codemirror_mode": {
    "name": "ipython",
    "version": 3
   },
   "file_extension": ".py",
   "mimetype": "text/x-python",
   "name": "python",
   "nbconvert_exporter": "python",
   "pygments_lexer": "ipython3",
   "version": "3.10.12"
  },
  "toc": {
   "base_numbering": 1,
   "nav_menu": {},
   "number_sections": true,
   "sideBar": true,
   "skip_h1_title": false,
   "title_cell": "Table of Contents",
   "title_sidebar": "Contents",
   "toc_cell": true,
   "toc_position": {},
   "toc_section_display": true,
   "toc_window_display": false
  }
 },
 "nbformat": 4,
 "nbformat_minor": 5
}
