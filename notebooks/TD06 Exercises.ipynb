{
 "cells": [
  {
   "cell_type": "markdown",
   "id": "c5c0654b",
   "metadata": {
    "toc": true
   },
   "source": [
    "<h1>Table of Contents<span class=\"tocSkip\"></span></h1>\n",
    "<div class=\"toc\"><ul class=\"toc-item\"><li><span><a href=\"#Section-5-6-7.3\" data-toc-modified-id=\"Section-5-6-7.3-1\"><span class=\"toc-item-num\">1&nbsp;&nbsp;</span>Section 5-6-7.3</a></span><ul class=\"toc-item\"><li><span><a href=\"#Question-1\" data-toc-modified-id=\"Question-1-1.1\"><span class=\"toc-item-num\">1.1&nbsp;&nbsp;</span>Question 1</a></span></li><li><span><a href=\"#Question-2\" data-toc-modified-id=\"Question-2-1.2\"><span class=\"toc-item-num\">1.2&nbsp;&nbsp;</span>Question 2</a></span></li><li><span><a href=\"#Question-3\" data-toc-modified-id=\"Question-3-1.3\"><span class=\"toc-item-num\">1.3&nbsp;&nbsp;</span>Question 3</a></span></li><li><span><a href=\"#Question-4\" data-toc-modified-id=\"Question-4-1.4\"><span class=\"toc-item-num\">1.4&nbsp;&nbsp;</span>Question 4</a></span></li><li><span><a href=\"#Question-5\" data-toc-modified-id=\"Question-5-1.5\"><span class=\"toc-item-num\">1.5&nbsp;&nbsp;</span>Question 5</a></span></li><li><span><a href=\"#Question-6\" data-toc-modified-id=\"Question-6-1.6\"><span class=\"toc-item-num\">1.6&nbsp;&nbsp;</span>Question 6</a></span></li><li><span><a href=\"#Question-7\" data-toc-modified-id=\"Question-7-1.7\"><span class=\"toc-item-num\">1.7&nbsp;&nbsp;</span>Question 7</a></span></li></ul></li></ul></div>"
   ]
  },
  {
   "cell_type": "code",
   "execution_count": 1,
   "id": "362deff3",
   "metadata": {},
   "outputs": [],
   "source": [
    "import numpy as np\n",
    "import sympy as sp\n",
    "import pandas as pd\n",
    "import matplotlib.pyplot as plt\n",
    "from scipy import stats, optimize\n",
    "import seaborn as sns\n",
    "import arviz as az\n",
    "import xarray as xr\n",
    "\n",
    "config = {\n",
    "    'figure.facecolor':'w',\n",
    "    'axes.grid':True,\n",
    "    'axes.spines.top':False,\n",
    "    'axes.spines.bottom':False,\n",
    "    'axes.spines.left':False,\n",
    "    'axes.spines.right':False,\n",
    "    'grid.linewidth':0.5,\n",
    "    'grid.linestyle':'--',\n",
    "    'figure.constrained_layout.use':True\n",
    "}\n",
    "\n",
    "plt.rcParams.update(config)"
   ]
  },
  {
   "cell_type": "markdown",
   "id": "c3ad091d",
   "metadata": {},
   "source": [
    "# Section 5-6-7.3\n",
    "\n",
    "Two Risky Assets Portfolio, Captal Market Line and Risk Measures based on Quantiles\n",
    "\n",
    "The risk-free rate (which can be used to borrow or invest) is assumed to be 3.5%.\n",
    "\n",
    "Using long-time series, you have estimated the main characteristics associated with the returns of two mutual funds:\n",
    "\n",
    "|                  | Fund 1       | Fund 2       |\n",
    "|------------------|-------------|-------------|\n",
    "| Expected Return  | $$E(r_1) = 20\\%$$ | $$E(r_2) = 5\\%$$ |\n",
    "| Variance         | $$\\sigma^2(r_1) = 0.0625$$ | $$\\sigma^2(r_2) = 0.04$$ |\n",
    "\n",
    "The correlation coefficient between the returns of Fund 1 and Fund 2 is $\\rho_{12} = -0.4$.\n",
    "\n",
    "For an initial level of wealth $W_0$, the part invested in the risky portfolio is denoted $\\alpha$, and thus $1 - \\alpha$ is the proportion invested in the risk-free asset. If $W_1$ is the amount invested in risky assets, then $\\delta$ is the proportion invested in asset 1, and $1 - \\delta$ is the part invested in asset 2."
   ]
  },
  {
   "cell_type": "markdown",
   "id": "c30e58d2",
   "metadata": {},
   "source": [
    "## Question 1\n",
    "\n",
    "Using respective values of $\\delta = 0, 0.25, 0.5, 0.75$, and $1$, calculate the characteristics (expected return / risk) of the two risky assets portfolio (invested in assets 1 and 2).\n",
    "\n",
    "As usual, we need to recall the formuals for mean and variance of the portfolios. Remember that these just come from the shifting-scaling rules, together with the convolution of normals:\n",
    "\n",
    "$$\n",
    "\\begin{align}\n",
    "\\mu &= \\delta \\mu_1 + (1 - \\delta) \\mu_2 \\\\\n",
    "\\sigma^2 &= \\delta^2 \\sigma_1^2 + (1 - \\delta)^2 \\sigma_2^2 + 2 \\rho \\delta (1 - \\delta) \\sigma_1 \\sigma_2 \n",
    "\\end{align}\n",
    "$$"
   ]
  },
  {
   "cell_type": "markdown",
   "id": "eadd27b1",
   "metadata": {},
   "source": [
    "**Make a dataframe to hold the question data**"
   ]
  },
  {
   "cell_type": "code",
   "execution_count": 95,
   "id": "77789bc9",
   "metadata": {},
   "outputs": [
    {
     "data": {
      "text/html": [
       "<div>\n",
       "<style scoped>\n",
       "    .dataframe tbody tr th:only-of-type {\n",
       "        vertical-align: middle;\n",
       "    }\n",
       "\n",
       "    .dataframe tbody tr th {\n",
       "        vertical-align: top;\n",
       "    }\n",
       "\n",
       "    .dataframe thead th {\n",
       "        text-align: right;\n",
       "    }\n",
       "</style>\n",
       "<table border=\"1\" class=\"dataframe\">\n",
       "  <thead>\n",
       "    <tr style=\"text-align: right;\">\n",
       "      <th></th>\n",
       "      <th>Fund 1</th>\n",
       "      <th>Fund 2</th>\n",
       "    </tr>\n",
       "  </thead>\n",
       "  <tbody>\n",
       "    <tr>\n",
       "      <th>mean</th>\n",
       "      <td>0.2000</td>\n",
       "      <td>0.05</td>\n",
       "    </tr>\n",
       "    <tr>\n",
       "      <th>variance</th>\n",
       "      <td>0.0625</td>\n",
       "      <td>0.04</td>\n",
       "    </tr>\n",
       "  </tbody>\n",
       "</table>\n",
       "</div>"
      ],
      "text/plain": [
       "          Fund 1  Fund 2\n",
       "mean      0.2000    0.05\n",
       "variance  0.0625    0.04"
      ]
     },
     "execution_count": 95,
     "metadata": {},
     "output_type": "execute_result"
    }
   ],
   "source": [
    "df = pd.DataFrame(np.array([[0.2, 0.05], [0.0625, 0.04]]), columns=['Fund 1', 'Fund 2'], index=['mean', 'variance'])\n",
    "rho = -0.4\n",
    "df"
   ]
  },
  {
   "cell_type": "markdown",
   "id": "70050169",
   "metadata": {},
   "source": [
    "**Write some functions to compute the first two moments**"
   ]
  },
  {
   "cell_type": "code",
   "execution_count": 125,
   "id": "632e8c63",
   "metadata": {},
   "outputs": [],
   "source": [
    "def portfolio_mean(delta, mus):\n",
    "    deltas = np.c_[delta, 1 - delta]\n",
    "    return (deltas * mus).sum(axis=-1)\n",
    "\n",
    "def portfolio_variance(delta, sigmas_sq, rho):\n",
    "    deltas = np.c_[delta, 1 - delta]\n",
    "    \n",
    "    sigma_terms = (deltas ** 2 * sigmas_sq).sum(axis=-1)\n",
    "    cross_term = 2 * rho * np.prod(np.sqrt(sigmas_sq)) * deltas.prod(axis=-1)\n",
    "    \n",
    "    return sigma_terms + cross_term\n",
    "\n",
    "def portfolio_moments(delta, df, rho):\n",
    "    mus = df['mean'].values\n",
    "    sigmas_sq = df['variance'].values\n",
    "    data = np.r_[[portfolio_mean(delta, mus)],\n",
    "             [portfolio_variance(delta, sigmas_sq, rho)]]\n",
    "    solution_df = pd.DataFrame(data, index=['mean', 'variance'], columns=delta.ravel())\n",
    "    solution_df.columns.name = 'Asset 1 weight'\n",
    "    solution_df = solution_df.T.assign(std = lambda x: x['variance'] ** 0.5).round(4).sort_index(ascending=False)\n",
    "    return solution_df"
   ]
  },
  {
   "cell_type": "markdown",
   "id": "0b2769bc",
   "metadata": {},
   "source": [
    "**Compute the portfolio moments**"
   ]
  },
  {
   "cell_type": "code",
   "execution_count": 126,
   "id": "513ace33",
   "metadata": {},
   "outputs": [
    {
     "data": {
      "text/html": [
       "<div>\n",
       "<style scoped>\n",
       "    .dataframe tbody tr th:only-of-type {\n",
       "        vertical-align: middle;\n",
       "    }\n",
       "\n",
       "    .dataframe tbody tr th {\n",
       "        vertical-align: top;\n",
       "    }\n",
       "\n",
       "    .dataframe thead th {\n",
       "        text-align: right;\n",
       "    }\n",
       "</style>\n",
       "<table border=\"1\" class=\"dataframe\">\n",
       "  <thead>\n",
       "    <tr style=\"text-align: right;\">\n",
       "      <th></th>\n",
       "      <th>mean</th>\n",
       "      <th>variance</th>\n",
       "      <th>std</th>\n",
       "    </tr>\n",
       "    <tr>\n",
       "      <th>Asset 1 weight</th>\n",
       "      <th></th>\n",
       "      <th></th>\n",
       "      <th></th>\n",
       "    </tr>\n",
       "  </thead>\n",
       "  <tbody>\n",
       "    <tr>\n",
       "      <th>1.00</th>\n",
       "      <td>0.2000</td>\n",
       "      <td>0.0625</td>\n",
       "      <td>0.2500</td>\n",
       "    </tr>\n",
       "    <tr>\n",
       "      <th>0.75</th>\n",
       "      <td>0.1625</td>\n",
       "      <td>0.0302</td>\n",
       "      <td>0.1737</td>\n",
       "    </tr>\n",
       "    <tr>\n",
       "      <th>0.50</th>\n",
       "      <td>0.1250</td>\n",
       "      <td>0.0156</td>\n",
       "      <td>0.1250</td>\n",
       "    </tr>\n",
       "    <tr>\n",
       "      <th>0.25</th>\n",
       "      <td>0.0875</td>\n",
       "      <td>0.0189</td>\n",
       "      <td>0.1375</td>\n",
       "    </tr>\n",
       "    <tr>\n",
       "      <th>0.00</th>\n",
       "      <td>0.0500</td>\n",
       "      <td>0.0400</td>\n",
       "      <td>0.2000</td>\n",
       "    </tr>\n",
       "  </tbody>\n",
       "</table>\n",
       "</div>"
      ],
      "text/plain": [
       "                  mean  variance     std\n",
       "Asset 1 weight                          \n",
       "1.00            0.2000    0.0625  0.2500\n",
       "0.75            0.1625    0.0302  0.1737\n",
       "0.50            0.1250    0.0156  0.1250\n",
       "0.25            0.0875    0.0189  0.1375\n",
       "0.00            0.0500    0.0400  0.2000"
      ]
     },
     "execution_count": 126,
     "metadata": {},
     "output_type": "execute_result"
    }
   ],
   "source": [
    "weights = np.array([0, 0.25, 0.5, 0.75, 1]).reshape(-1, 1)\n",
    "solution_df = portfolio_moments(weights, df.T, rho)\n",
    "solution_df"
   ]
  },
  {
   "cell_type": "markdown",
   "id": "67f2f5f4",
   "metadata": {},
   "source": [
    "## Question 2\n",
    "Plot the minimum variance frontier"
   ]
  },
  {
   "cell_type": "code",
   "execution_count": 190,
   "id": "9c7ab07d",
   "metadata": {},
   "outputs": [
    {
     "data": {
      "image/png": "[encoded data removed]",
      "text/plain": [
       "<Figure size 640x480 with 1 Axes>"
      ]
     },
     "metadata": {},
     "output_type": "display_data"
    }
   ],
   "source": [
    "fig, ax = plt.subplots()\n",
    "more_weights = np.linspace(0, 1, 100)\n",
    "mvf_df = portfolio_moments(more_weights, df.T, rho)\n",
    "ax.plot(mvf_df['std'], mvf_df['mean'])\n",
    "ax.scatter(solution_df['std'], solution_df['mean'])\n",
    "ax.set(xlabel='$\\sigma$', ylabel='$\\mu$', title='Mean-Variance Frontier')\n",
    "plt.show()"
   ]
  },
  {
   "cell_type": "markdown",
   "id": "5b9933b5",
   "metadata": {},
   "source": [
    "## Question 3\n",
    "\n",
    "What are the variance-minimizing portfolio weights?\n",
    "\n",
    "Recall the formula we derived last time:\n",
    "\n",
    "$$w = \\frac{\\sigma_b^2 - \\rho \\sigma_a \\sigma_b}{\\sigma^2_a + \\sigma_b^2 - 2 \\rho \\sigma_a \\sigma_b}$$"
   ]
  },
  {
   "cell_type": "code",
   "execution_count": 128,
   "id": "269f872a",
   "metadata": {},
   "outputs": [],
   "source": [
    "def compute_w_star(s2_1, s2_2, rho):\n",
    "    s1, s2 = s2_1 ** 0.5, s2_2 ** 0.5\n",
    "    cross_term = rho * s1 * s2\n",
    "    \n",
    "    top = s2_2 - cross_term\n",
    "    bot = s2_1 + s2_2 - 2 * cross_term\n",
    "    return top / bot"
   ]
  },
  {
   "cell_type": "code",
   "execution_count": 129,
   "id": "66a72338",
   "metadata": {},
   "outputs": [
    {
     "name": "stdout",
     "output_type": "stream",
     "text": [
      "Minimum variance Asset 1 allocation: 0.421\n"
     ]
    }
   ],
   "source": [
    "w_star = compute_w_star(*df.loc['variance'].values, rho)\n",
    "print(f'Minimum variance Asset 1 allocation: {w_star:0.3f}')"
   ]
  },
  {
   "cell_type": "markdown",
   "id": "62d1870a",
   "metadata": {},
   "source": [
    "## Question 4\n",
    "\n",
    "What are the moments of the minimum variance portfolio?"
   ]
  },
  {
   "cell_type": "code",
   "execution_count": 130,
   "id": "c3e86c57",
   "metadata": {},
   "outputs": [
    {
     "data": {
      "text/plain": [
       "mean        0.113158\n",
       "variance    0.014737\n",
       "std         0.121395\n",
       "dtype: float64"
      ]
     },
     "execution_count": 130,
     "metadata": {},
     "output_type": "execute_result"
    }
   ],
   "source": [
    "portfolio_star = pd.Series({'mean':portfolio_mean(w_star, df.loc['mean'].values)[0],\n",
    "                            'variance':portfolio_variance(w_star, df.loc['variance'].values, rho)[0]})\n",
    "portfolio_star['std'] = portfolio_star['variance'] ** 0.5\n",
    "portfolio_star"
   ]
  },
  {
   "cell_type": "markdown",
   "id": "ed1cebdd",
   "metadata": {},
   "source": [
    "## Question 5\n",
    "Plot the minimum variance portfolio and the captial market line.\n",
    "\n",
    "IMO this question is messed up. To get the tangency portfolio, this is the formula:\n",
    "\n",
    "$$w_{\\text{tan}} = \\frac{\\rho \\sigma_{a} \\sigma_{b} \\left(\\mu_{b} - r_{f}\\right) + \\sigma_{b}^{2} \\left(- \\mu_{a} + r_{f}\\right)}{\\rho \\sigma_{a} \\sigma_{b} \\left(\\mu_{a} + \\mu_{b} - 2 r_{f}\\right) + \\sigma_{a}^{2} \\left(- \\mu_{b} + r_{f}\\right) + \\sigma_{b}^{2} \\left(- \\mu_{a} + r_{f}\\right)}$$\n",
    "\n",
    "There's no way you're supposed to memorize this. Please don't. To be honest, I'd do this question by eyeballing it -- try to draw the capital market line with a ruler, and then estimate what the tangency portfolio is.\n",
    "\n",
    "Anyway, here's the exact computer solution."
   ]
  },
  {
   "cell_type": "code",
   "execution_count": 200,
   "id": "a1e1e4a9",
   "metadata": {},
   "outputs": [],
   "source": [
    "def compute_w_tan(mu_a, mu_b, s_a, s_b, rf, rho):\n",
    "    # Compute the weight associated with the tangency portfolio\n",
    "    # For details, see the TD05 notebook\n",
    "    ex_a = mu_a - rf\n",
    "    ex_b = mu_b - rf\n",
    "    s2_a = s_a ** 2\n",
    "    s2_b = s_b ** 2\n",
    "    cross = rho * s_a * s_b\n",
    "    \n",
    "    top = cross * ex_b - s2_b * ex_a\n",
    "    bot = cross * (mu_a + mu_b - 2 * rf) - s2_a * ex_b - s2_b * ex_a\n",
    "    \n",
    "    return top / bot\n",
    "\n",
    "def capital_market_line(w_tan, weights, df, rf, rho):\n",
    "    # Compute the capital market line.\n",
    "    # Do this by forming portfolios of the tangency portfolio with the risk-free asset.\n",
    "    # So there are two weights: One is the tangency weight, to make the risky asset portfolio\n",
    "    # The second is \"alpha\", the amount of risky asset in the portfolio.\n",
    "    \n",
    "    tan_portfolio = portfolio_moments(w_tan, df, rho)\n",
    "    tan_portfolio.loc['risk-free'] = pd.Series({'mean':rf, 'variance':0, 'std':0})\n",
    "    tan_portfolio.index = ['tan_portfolio', 'risk_free']\n",
    "    market_portfolios = portfolio_moments(weights, tan_portfolio, 0)\n",
    "    return market_portfolios\n",
    "    "
   ]
  },
  {
   "cell_type": "markdown",
   "id": "5a146668",
   "metadata": {},
   "source": [
    "**Use the above functions to compute the tangency portfolio**"
   ]
  },
  {
   "cell_type": "code",
   "execution_count": 201,
   "id": "b94707c4",
   "metadata": {},
   "outputs": [
    {
     "name": "stdout",
     "output_type": "stream",
     "text": [
      "Weight of the tangency portfolio: 0.6195286195286196\n"
     ]
    }
   ],
   "source": [
    "rf = 0.035\n",
    "w_tan = compute_w_tan(*df.loc['mean'].values, *df.loc['variance'].values ** 0.5, rf, rho)\n",
    "print(f'Weight of the tangency portfolio: {w_tan}')"
   ]
  },
  {
   "cell_type": "markdown",
   "id": "6d609421",
   "metadata": {},
   "source": [
    "**Compute some stuff to plot**\n",
    "\n",
    "- `alpha_weights` is a range of weights to make the capital market line\n",
    "- `cml_portfolios` will be what we actually plot as the CML\n",
    "- `tan_portfolio` give the moments of the tangency portfolio"
   ]
  },
  {
   "cell_type": "code",
   "execution_count": 197,
   "id": "630973ab",
   "metadata": {},
   "outputs": [],
   "source": [
    "alpha_weights = np.linspace(0, 2, 100)\n",
    "cml_portfolios = capital_market_line(w_tan, alpha_weights, df.T, rf, rho)\n",
    "tan_portfolio = portfolio_moments(w_tan, df.T, rho)\n",
    "tan_portfolio.index = ['tangency']"
   ]
  },
  {
   "cell_type": "markdown",
   "id": "278cf339",
   "metadata": {},
   "source": [
    "**Do the plotting**"
   ]
  },
  {
   "cell_type": "code",
   "execution_count": 198,
   "id": "5be16189",
   "metadata": {},
   "outputs": [
    {
     "data": {
      "image/png": "[encoded data removed]",
      "text/plain": [
       "<Figure size 640x480 with 1 Axes>"
      ]
     },
     "metadata": {},
     "output_type": "display_data"
    }
   ],
   "source": [
    "fig, ax = plt.subplots()\n",
    "ax.scatter(solution_df['std'], solution_df['mean'])\n",
    "ax.scatter(portfolio_star['std'], portfolio_star['mean'], marker='*', color='tab:red', zorder=10, s=100, label='Minimum Variance Portfolio')\n",
    "ax.scatter(tan_portfolio['std'], tan_portfolio['mean'], marker='*', color='tab:green', zorder=10, s=100, label='Tangency Portfolio')\n",
    "\n",
    "xlims, ylims = ax.get_xlim(), ax.get_ylim()\n",
    "ax.plot(mvf_df['std'], mvf_df['mean'], label='Mean-Variance Frontier')\n",
    "ax.plot(cml_portfolios['std'], cml_portfolios['mean'], label='Capital Market Line')\n",
    "\n",
    "sigma_grid = np.linspace(0.12, 0.24, 100)\n",
    "ax.set(xlabel='$\\sigma$', ylabel='$\\\\mu$', title='Mean-Variance Frontier', xlim=xlims)\n",
    "ax.legend()\n",
    "plt.show()"
   ]
  },
  {
   "cell_type": "markdown",
   "id": "d499c01d",
   "metadata": {},
   "source": [
    "## Question 6\n",
    "\n",
    "Compute the sharpe value associated with the tangency portfolio. Here's a formula you **do** need to know:\n",
    "\n",
    "$$s = \\frac{\\mu - r_f}{\\sigma}$$"
   ]
  },
  {
   "cell_type": "code",
   "execution_count": 202,
   "id": "3368d4d1",
   "metadata": {},
   "outputs": [
    {
     "data": {
      "text/html": [
       "<div>\n",
       "<style scoped>\n",
       "    .dataframe tbody tr th:only-of-type {\n",
       "        vertical-align: middle;\n",
       "    }\n",
       "\n",
       "    .dataframe tbody tr th {\n",
       "        vertical-align: top;\n",
       "    }\n",
       "\n",
       "    .dataframe thead th {\n",
       "        text-align: right;\n",
       "    }\n",
       "</style>\n",
       "<table border=\"1\" class=\"dataframe\">\n",
       "  <thead>\n",
       "    <tr style=\"text-align: right;\">\n",
       "      <th></th>\n",
       "      <th>mean</th>\n",
       "      <th>variance</th>\n",
       "      <th>std</th>\n",
       "      <th>sharpe</th>\n",
       "    </tr>\n",
       "  </thead>\n",
       "  <tbody>\n",
       "    <tr>\n",
       "      <th>tangency</th>\n",
       "      <td>0.1429</td>\n",
       "      <td>0.0204</td>\n",
       "      <td>0.1427</td>\n",
       "      <td>0.756132</td>\n",
       "    </tr>\n",
       "  </tbody>\n",
       "</table>\n",
       "</div>"
      ],
      "text/plain": [
       "            mean  variance     std    sharpe\n",
       "tangency  0.1429    0.0204  0.1427  0.756132"
      ]
     },
     "execution_count": 202,
     "metadata": {},
     "output_type": "execute_result"
    }
   ],
   "source": [
    "tan_portfolio['sharpe'] = (tan_portfolio['mean'] - rf) / tan_portfolio['std']\n",
    "tan_portfolio"
   ]
  },
  {
   "cell_type": "markdown",
   "id": "a94d9534",
   "metadata": {},
   "source": [
    "## Question 7\n",
    "\n",
    "Assuming now that an investor has a risk aversion coefficient $A = 10$ and a Mean-variance utility function. Determine the value $\\alpha^*$ and the characteristics $(\\mu_x, \\sigma_x)$ of this optimal portfolio. Calculate also the level associated with this utility function.\n",
    "\n",
    "First we need a formula for utility maximizing weights. Recall that the formula for MVU is:\n",
    "\n",
    "$$U = \\mu - \\frac{A}{2}\\sigma^2$$\n",
    "\n",
    "And we know that:\n",
    "\n",
    "$$\n",
    "\\begin{align}\n",
    "\\mu &= \\alpha \\mu_\\text{tan} + (1 - \\alpha) r_f\\\\\n",
    "\\sigma^2 &= \\alpha^2 \\sigma^2_{\\text{tan}}\n",
    "\\end{align}\n",
    "$$\n",
    "\n",
    "The $\\sigma^2$ expression is simplified by the fact that $r_f$ has no variance, which is great!\n",
    "\n",
    "Anyway, plug these into the MVU formula and take the derivative with respect to $\\alpha$:\n",
    "\n",
    "$$\\max_\\alpha \\alpha \\mu_\\text{tan} + (1 - \\alpha) r_f - \\frac{A}{2} \\alpha^2 \\sigma^2_{\\text{tan}}$$\n",
    "\n",
    "First order condition:\n",
    "\n",
    "$$\\mu_\\text{tan} - r_f - A \\alpha \\sigma^2_{\\text{tan}} = 0$$\n",
    "\n",
    "Solve for $\\alpha^\\star$:\n",
    "\n",
    "$$\\alpha^\\star = \\frac{\\mu_\\text{tan} - r_f}{A \\sigma^2_{\\text{tan}}}$$"
   ]
  },
  {
   "cell_type": "code",
   "execution_count": 212,
   "id": "0c7c3693",
   "metadata": {},
   "outputs": [
    {
     "data": {
      "text/plain": [
       "tangency    0.528922\n",
       "dtype: float64"
      ]
     },
     "execution_count": 212,
     "metadata": {},
     "output_type": "execute_result"
    }
   ],
   "source": [
    "A = 10\n",
    "alpha_star_10 = (tan_portfolio['mean'] - rf) / A / tan_portfolio['variance']\n",
    "alpha_star_10"
   ]
  },
  {
   "cell_type": "code",
   "execution_count": 215,
   "id": "cf987b7b",
   "metadata": {},
   "outputs": [],
   "source": [
    "tan_portfolio2 = portfolio_moments(w_tan, df.T, rho)\n",
    "tan_portfolio2.loc['risk-free'] = pd.Series({'mean':rf, 'variance':0, 'std':0})"
   ]
  },
  {
   "cell_type": "code",
   "execution_count": 218,
   "id": "157ea42d",
   "metadata": {},
   "outputs": [
    {
     "data": {
      "text/html": [
       "<div>\n",
       "<style scoped>\n",
       "    .dataframe tbody tr th:only-of-type {\n",
       "        vertical-align: middle;\n",
       "    }\n",
       "\n",
       "    .dataframe tbody tr th {\n",
       "        vertical-align: top;\n",
       "    }\n",
       "\n",
       "    .dataframe thead th {\n",
       "        text-align: right;\n",
       "    }\n",
       "</style>\n",
       "<table border=\"1\" class=\"dataframe\">\n",
       "  <thead>\n",
       "    <tr style=\"text-align: right;\">\n",
       "      <th></th>\n",
       "      <th>mean</th>\n",
       "      <th>variance</th>\n",
       "      <th>std</th>\n",
       "    </tr>\n",
       "  </thead>\n",
       "  <tbody>\n",
       "    <tr>\n",
       "      <th>max utility</th>\n",
       "      <td>0.0921</td>\n",
       "      <td>0.0057</td>\n",
       "      <td>0.0755</td>\n",
       "    </tr>\n",
       "  </tbody>\n",
       "</table>\n",
       "</div>"
      ],
      "text/plain": [
       "               mean  variance     std\n",
       "max utility  0.0921    0.0057  0.0755"
      ]
     },
     "execution_count": 218,
     "metadata": {},
     "output_type": "execute_result"
    }
   ],
   "source": [
    "U_max_portfolio = portfolio_moments(alpha_star_10, tan_portfolio2, 0)\n",
    "U_max_portfolio.index = ['max utility']\n",
    "U_max_portfolio"
   ]
  },
  {
   "cell_type": "code",
   "execution_count": 219,
   "id": "e6480f7c",
   "metadata": {},
   "outputs": [
    {
     "data": {
      "text/plain": [
       "max utility    0.0636\n",
       "dtype: float64"
      ]
     },
     "execution_count": 219,
     "metadata": {},
     "output_type": "execute_result"
    }
   ],
   "source": [
    "U_max_portfolio['mean'] - A / 2 * U_max_portfolio['variance']"
   ]
  },
  {
   "cell_type": "code",
   "execution_count": null,
   "id": "8aaba543",
   "metadata": {},
   "outputs": [],
   "source": []
  }
 ],
 "metadata": {
  "kernelspec": {
   "display_name": "Python 3 (ipykernel)",
   "language": "python",
   "name": "python3"
  },
  "language_info": {
   "codemirror_mode": {
    "name": "ipython",
    "version": 3
   },
   "file_extension": ".py",
   "mimetype": "text/x-python",
   "name": "python",
   "nbconvert_exporter": "python",
   "pygments_lexer": "ipython3",
   "version": "3.10.12"
  },
  "toc": {
   "base_numbering": 1,
   "nav_menu": {},
   "number_sections": true,
   "sideBar": true,
   "skip_h1_title": false,
   "title_cell": "Table of Contents",
   "title_sidebar": "Contents",
   "toc_cell": true,
   "toc_position": {},
   "toc_section_display": true,
   "toc_window_display": false
  }
 },
 "nbformat": 4,
 "nbformat_minor": 5
}
